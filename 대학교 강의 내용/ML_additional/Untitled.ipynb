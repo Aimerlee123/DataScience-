{
 "cells": [
  {
   "cell_type": "code",
   "execution_count": 13,
   "id": "f7e2e11f",
   "metadata": {},
   "outputs": [
    {
     "name": "stdout",
     "output_type": "stream",
     "text": [
      "[0 1 1 0] [0 1 1 0]\n"
     ]
    },
    {
     "name": "stderr",
     "output_type": "stream",
     "text": [
      "C:\\Users\\user\\anaconda3\\lib\\site-packages\\sklearn\\utils\\validation.py:993: DataConversionWarning: A column-vector y was passed when a 1d array was expected. Please change the shape of y to (n_samples, ), for example using ravel().\n",
      "  y = column_or_1d(y, warn=True)\n"
     ]
    }
   ],
   "source": [
    "import numpy as np\n",
    "from sklearn.svm import SVC\n",
    "from sklearn.tree import DecisionTreeClassifier\n",
    "X = np.array([[0, 0], \n",
    " [0, 1], \n",
    " [1, 0], \n",
    " [1, 1]])\n",
    "Y = np.array([[0], [1], [1], [0]])\n",
    "clf1 = SVC(gamma=.1, C=1, kernel='rbf', probability=True)\n",
    "clf2 = DecisionTreeClassifier(max_depth=5)\n",
    "clf1.fit(X, Y)\n",
    "clf2.fit(X, Y)\n",
    "print(clf1.predict(X), clf2.predict(X))"
   ]
  },
  {
   "cell_type": "code",
   "execution_count": null,
   "id": "9c22246f",
   "metadata": {},
   "outputs": [],
   "source": []
  },
  {
   "cell_type": "code",
   "execution_count": null,
   "id": "7e4ada49",
   "metadata": {},
   "outputs": [],
   "source": []
  }
 ],
 "metadata": {
  "kernelspec": {
   "display_name": "Python 3 (ipykernel)",
   "language": "python",
   "name": "python3"
  },
  "language_info": {
   "codemirror_mode": {
    "name": "ipython",
    "version": 3
   },
   "file_extension": ".py",
   "mimetype": "text/x-python",
   "name": "python",
   "nbconvert_exporter": "python",
   "pygments_lexer": "ipython3",
   "version": "3.9.12"
  }
 },
 "nbformat": 4,
 "nbformat_minor": 5
}
