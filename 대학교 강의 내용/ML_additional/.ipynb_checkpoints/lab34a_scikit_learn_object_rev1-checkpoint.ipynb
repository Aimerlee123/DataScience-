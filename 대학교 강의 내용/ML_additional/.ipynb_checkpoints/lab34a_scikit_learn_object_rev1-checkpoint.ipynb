{
 "cells": [
  {
   "cell_type": "markdown",
   "metadata": {
    "id": "iQQu179-mCEy"
   },
   "source": [
    "# Scikit-Learn API convention\n",
    "- to show how scikit-learn objects are made\n",
    "- all objects share a consistent and simple interface\n",
    "- The main objects in sklearn are:\n",
    "   - (one class can implement multiple interfaces)\n",
    "   - estimator E: E.fit(X,y) or E.fit(X)\n",
    "   - predictor P: P.predict(X) or P.predict_proba(X) or P.decision_function(X)\n",
    "   - transformer T: T.transform(X), or T.fit_transform(X)\n",
    "   - model (goodness of fit): model.score(X)\n"
   ]
  },
  {
   "cell_type": "markdown",
   "metadata": {
    "id": "RiG5p02C1eSP"
   },
   "source": [
    "## Example 1 - unsupervised"
   ]
  },
  {
   "cell_type": "code",
   "execution_count": 1,
   "metadata": {
    "executionInfo": {
     "elapsed": 359,
     "status": "ok",
     "timestamp": 1663571574545,
     "user": {
      "displayName": "Yongjin Jeong",
      "userId": "03658406798560557048"
     },
     "user_tz": -540
    },
    "id": "0Kok-wiOl210"
   },
   "outputs": [],
   "source": [
    "import numpy as np\n",
    "from scipy import sparse\n",
    "from sklearn.base import BaseEstimator, TransformerMixin\n",
    "from sklearn.utils.validation import check_array, check_is_fitted\n",
    "from sklearn.utils.sparsefuncs import inplace_column_scale, mean_variance_axis"
   ]
  },
  {
   "cell_type": "code",
   "execution_count": 2,
   "metadata": {
    "executionInfo": {
     "elapsed": 333,
     "status": "ok",
     "timestamp": 1663571583656,
     "user": {
      "displayName": "Yongjin Jeong",
      "userId": "03658406798560557048"
     },
     "user_tz": -540
    },
    "id": "nKqxwFJkmOkh"
   },
   "outputs": [],
   "source": [
    "def _mean_and_std(X, axis=0):\n",
    "   \n",
    "    X = np.asarray(X)\n",
    "    mean_ = X.mean(axis)\n",
    "    std_ = X.std(axis)\n",
    "\n",
    "    return mean_, std_"
   ]
  },
  {
   "cell_type": "code",
   "execution_count": 3,
   "metadata": {
    "colab": {
     "base_uri": "https://localhost:8080/"
    },
    "executionInfo": {
     "elapsed": 343,
     "status": "ok",
     "timestamp": 1663571595476,
     "user": {
      "displayName": "Yongjin Jeong",
      "userId": "03658406798560557048"
     },
     "user_tz": -540
    },
    "id": "KWh7F2cboEyi",
    "outputId": "3fae916a-aff9-494b-bb87-8860ced44ab3"
   },
   "outputs": [
    {
     "data": {
      "text/plain": [
       "array([[1, 2, 3],\n",
       "       [4, 5, 6]])"
      ]
     },
     "execution_count": 3,
     "metadata": {},
     "output_type": "execute_result"
    }
   ],
   "source": [
    "data = np.array([[1,2,3],\n",
    "                 [4,5,6]]); data"
   ]
  },
  {
   "cell_type": "code",
   "execution_count": 4,
   "metadata": {
    "colab": {
     "base_uri": "https://localhost:8080/"
    },
    "executionInfo": {
     "elapsed": 10,
     "status": "ok",
     "timestamp": 1663508177535,
     "user": {
      "displayName": "Yongjin Jeong",
      "userId": "03658406798560557048"
     },
     "user_tz": -540
    },
    "id": "lMIClXDxuxef",
    "outputId": "ff922c18-6a40-4d4a-83d9-e02dbac20502"
   },
   "outputs": [
    {
     "data": {
      "text/plain": [
       "((array([2.5, 3.5, 4.5]), array([1.5, 1.5, 1.5])),\n",
       " (array([2., 5.]), array([0.81649658, 0.81649658])))"
      ]
     },
     "execution_count": 4,
     "metadata": {},
     "output_type": "execute_result"
    }
   ],
   "source": [
    "_mean_and_std(data, 0), _mean_and_std(data, 1)"
   ]
  },
  {
   "cell_type": "code",
   "execution_count": 5,
   "metadata": {
    "executionInfo": {
     "elapsed": 317,
     "status": "ok",
     "timestamp": 1663571769195,
     "user": {
      "displayName": "Yongjin Jeong",
      "userId": "03658406798560557048"
     },
     "user_tz": -540
    },
    "id": "JEAq7b5koJ_L"
   },
   "outputs": [],
   "source": [
    "class my_StandardScaler():\n",
    "\n",
    "    def __init__(self):\n",
    "        self.mean_, self.std_ = 0., 0.\n",
    "        \n",
    "    def fit(self, X, y=None):\n",
    "        X = X.astype(np.float32)\n",
    "        self.mean_, self.std_ = _mean_and_std(X, axis=0)\n",
    "        return self\n",
    "\n",
    "    def transform(self, X, y=None):\n",
    "        X = X.astype(np.float32)\n",
    "        X -= self.mean_\n",
    "        X /= self.std_\n",
    "        return X\n",
    "\n",
    "    def fit_transform(self, X, y=None):\n",
    "        X = X.astype(np.float32)\n",
    "        self.mean_, self.std_ = _mean_and_std(X, axis=0)\n",
    "        X -= self.mean_\n",
    "        X /= self.std_\n",
    "        return X\n",
    "\n",
    "    def inverse_transform(self, X):\n",
    "        X = X.astype(np.float32)\n",
    "        X *= self.std_\n",
    "        X += self.mean_\n",
    "        return X"
   ]
  },
  {
   "cell_type": "code",
   "execution_count": 6,
   "metadata": {
    "executionInfo": {
     "elapsed": 318,
     "status": "ok",
     "timestamp": 1663571782535,
     "user": {
      "displayName": "Yongjin Jeong",
      "userId": "03658406798560557048"
     },
     "user_tz": -540
    },
    "id": "vd0NcLoNqrJA"
   },
   "outputs": [],
   "source": [
    "X = np.array([1,2,3,4,5,6,7,8,9,10])\n",
    "sc = my_StandardScaler()"
   ]
  },
  {
   "cell_type": "code",
   "execution_count": 7,
   "metadata": {
    "id": "EtoOZkLIviQv"
   },
   "outputs": [],
   "source": [
    "# dir(sc)"
   ]
  },
  {
   "cell_type": "code",
   "execution_count": 8,
   "metadata": {
    "colab": {
     "base_uri": "https://localhost:8080/"
    },
    "executionInfo": {
     "elapsed": 326,
     "status": "ok",
     "timestamp": 1663571789099,
     "user": {
      "displayName": "Yongjin Jeong",
      "userId": "03658406798560557048"
     },
     "user_tz": -540
    },
    "id": "9j0xaZ37rGsg",
    "outputId": "e73267c6-89f2-423a-9806-ffd212edd3e8"
   },
   "outputs": [
    {
     "data": {
      "text/plain": [
       "<__main__.my_StandardScaler at 0x1dd51f4a8b0>"
      ]
     },
     "execution_count": 8,
     "metadata": {},
     "output_type": "execute_result"
    }
   ],
   "source": [
    "sc.fit(X)"
   ]
  },
  {
   "cell_type": "code",
   "execution_count": 9,
   "metadata": {
    "colab": {
     "base_uri": "https://localhost:8080/"
    },
    "executionInfo": {
     "elapsed": 785,
     "status": "ok",
     "timestamp": 1663571810472,
     "user": {
      "displayName": "Yongjin Jeong",
      "userId": "03658406798560557048"
     },
     "user_tz": -540
    },
    "id": "xxu4pcpQrI2f",
    "outputId": "3c737493-4135-4c81-d672-90042fe456df"
   },
   "outputs": [
    {
     "data": {
      "text/plain": [
       "(5.5, 2.8722813)"
      ]
     },
     "execution_count": 9,
     "metadata": {},
     "output_type": "execute_result"
    }
   ],
   "source": [
    "sc.mean_, sc.std_"
   ]
  },
  {
   "cell_type": "code",
   "execution_count": 10,
   "metadata": {
    "colab": {
     "base_uri": "https://localhost:8080/"
    },
    "executionInfo": {
     "elapsed": 313,
     "status": "ok",
     "timestamp": 1663571848136,
     "user": {
      "displayName": "Yongjin Jeong",
      "userId": "03658406798560557048"
     },
     "user_tz": -540
    },
    "id": "4rY9PS65rT3Y",
    "outputId": "987b3d33-460e-4be2-cb6f-16db880f03e6"
   },
   "outputs": [
    {
     "data": {
      "text/plain": [
       "array([-1.5666989 , -1.2185436 , -0.87038827, -0.52223295, -0.17407766,\n",
       "        0.17407766,  0.52223295,  0.87038827,  1.2185436 ,  1.5666989 ],\n",
       "      dtype=float32)"
      ]
     },
     "execution_count": 10,
     "metadata": {},
     "output_type": "execute_result"
    }
   ],
   "source": [
    "X_sc = sc.transform(X); X_sc"
   ]
  },
  {
   "cell_type": "code",
   "execution_count": 11,
   "metadata": {
    "colab": {
     "base_uri": "https://localhost:8080/"
    },
    "executionInfo": {
     "elapsed": 320,
     "status": "ok",
     "timestamp": 1663571854034,
     "user": {
      "displayName": "Yongjin Jeong",
      "userId": "03658406798560557048"
     },
     "user_tz": -540
    },
    "id": "SG-q1S2Kr9Mw",
    "outputId": "b9bf2d22-4fde-4475-8919-ad79e195fcbe"
   },
   "outputs": [
    {
     "data": {
      "text/plain": [
       "array([ 1.       ,  1.9999998,  3.       ,  4.       ,  5.       ,\n",
       "        6.       ,  7.       ,  8.       ,  9.       , 10.       ],\n",
       "      dtype=float32)"
      ]
     },
     "execution_count": 11,
     "metadata": {},
     "output_type": "execute_result"
    }
   ],
   "source": [
    "sc.inverse_transform(X_sc)"
   ]
  },
  {
   "cell_type": "markdown",
   "metadata": {
    "id": "dNSMbG_10va4"
   },
   "source": [
    "## Example 2 - supervised"
   ]
  },
  {
   "cell_type": "code",
   "execution_count": 12,
   "metadata": {
    "id": "b6PFfzSz2FOw"
   },
   "outputs": [],
   "source": [
    "import numpy as np\n",
    "from sklearn.metrics import r2_score\n",
    "\n",
    "class my_OLS ():\n",
    "\n",
    "    def __init__(self):\n",
    "        self.W_ = np.array([])\n",
    "\n",
    "    def fit(self, X, y):\n",
    "        for i in range(len(X)+1):\n",
    "            np.append(self.W_, 0)\n",
    "        X_b = np.concatenate([X, np.ones((X.shape[0], 1))], axis=1)\n",
    "        self.W_ = np.linalg.inv(X_b.T.dot(X_b)).dot(X_b.T).dot(y)\n",
    "\n",
    "    def score(self, X, y):\n",
    "        pred = self.predict(X)\n",
    "        return r2_score(pred, y)\n",
    "\n",
    "    def predict(self, X):\n",
    "        X_b = np.concatenate([X, np.ones((X.shape[0], 1))], axis=1)\n",
    "        return X_b@self.W_"
   ]
  },
  {
   "cell_type": "code",
   "execution_count": 13,
   "metadata": {
    "id": "f0_w38925new"
   },
   "outputs": [],
   "source": [
    "from sklearn.datasets import make_regression\n",
    "from sklearn.preprocessing import StandardScaler\n",
    "from sklearn.linear_model import LinearRegression\n",
    "\n",
    "X, y = make_regression(n_samples=100, n_features=2, noise=10, random_state=1)\n",
    "X_sc = StandardScaler().fit_transform(X)"
   ]
  },
  {
   "cell_type": "code",
   "execution_count": 14,
   "metadata": {
    "colab": {
     "base_uri": "https://localhost:8080/"
    },
    "executionInfo": {
     "elapsed": 557,
     "status": "ok",
     "timestamp": 1663511074778,
     "user": {
      "displayName": "Yongjin Jeong",
      "userId": "03658406798560557048"
     },
     "user_tz": -540
    },
    "id": "fm8iFmYf8HK-",
    "outputId": "0960fa73-59ef-4315-abae-4f44c4038da5"
   },
   "outputs": [
    {
     "name": "stdout",
     "output_type": "stream",
     "text": [
      "coefficients and bias:  [29.52899512 71.88859745] 19.28081595550047\n",
      "0.9818249824413999\n",
      "[ 69.28675103 -36.17117272 -38.2733512  -11.02296748 -43.112981  ]\n"
     ]
    }
   ],
   "source": [
    "model = LinearRegression()        # create model\n",
    "model.fit(X_sc,y)                    # train model\n",
    "print(\"coefficients and bias: \", model.coef_, model.intercept_)\n",
    "print(model.score(X_sc,y))\n",
    "print(model.predict(X_sc[:5]))"
   ]
  },
  {
   "cell_type": "code",
   "execution_count": 15,
   "metadata": {
    "colab": {
     "base_uri": "https://localhost:8080/"
    },
    "executionInfo": {
     "elapsed": 444,
     "status": "ok",
     "timestamp": 1663511077843,
     "user": {
      "displayName": "Yongjin Jeong",
      "userId": "03658406798560557048"
     },
     "user_tz": -540
    },
    "id": "cMsbMWQS8h1_",
    "outputId": "e67396fa-d1a5-4365-d941-eba506c4f4c4"
   },
   "outputs": [
    {
     "name": "stdout",
     "output_type": "stream",
     "text": [
      "[29.52899512 71.88859745 19.28081596]\n",
      "0.9814885362629435\n",
      "[ 69.28675103 -36.17117272 -38.2733512  -11.02296748 -43.112981  ]\n"
     ]
    }
   ],
   "source": [
    "model = my_OLS()\n",
    "model.fit(X_sc,y)  \n",
    "print(model.W_)\n",
    "print(model.score(X_sc,y))\n",
    "print(model.predict(X_sc[:5]))"
   ]
  },
  {
   "cell_type": "code",
   "execution_count": null,
   "metadata": {},
   "outputs": [],
   "source": []
  }
 ],
 "metadata": {
  "colab": {
   "authorship_tag": "ABX9TyMeuZovd9Ir5tPyG8cAv5eU",
   "collapsed_sections": [],
   "provenance": [],
   "toc_visible": true
  },
  "kernelspec": {
   "display_name": "Python 3 (ipykernel)",
   "language": "python",
   "name": "python3"
  },
  "language_info": {
   "codemirror_mode": {
    "name": "ipython",
    "version": 3
   },
   "file_extension": ".py",
   "mimetype": "text/x-python",
   "name": "python",
   "nbconvert_exporter": "python",
   "pygments_lexer": "ipython3",
   "version": "3.9.12"
  }
 },
 "nbformat": 4,
 "nbformat_minor": 1
}
