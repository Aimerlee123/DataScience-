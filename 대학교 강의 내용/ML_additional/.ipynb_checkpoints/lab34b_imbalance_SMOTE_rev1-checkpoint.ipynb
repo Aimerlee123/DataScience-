{
 "cells": [
  {
   "cell_type": "markdown",
   "metadata": {
    "id": "mLFAiWLi7_F0"
   },
   "source": [
    "# Imbalance problem\n",
    "- Most machine learning algorithms assume data equally distributed. So when we have a class imbalance, the machine learning classifier tends to be more biased towards the majority class, causing bad classification of the minority class."
   ]
  },
  {
   "cell_type": "markdown",
   "metadata": {
    "id": "wWh9hntq9Nb6"
   },
   "source": [
    "## SMOTE (Synthetic Minority Oversampling TEchnique)\n",
    "- a random example from the minority class is first chosen. Then k of the nearest neighbors for that example are found (typically k=5). \n",
    "- A randomly selected neighbor is chosen and a synthetic example is created at a randomly selected point between the two examples in feature space.\n",
    "- SMOTE + RandomUnderSampler is fine\n"
   ]
  },
  {
   "cell_type": "code",
   "execution_count": 1,
   "metadata": {
    "executionInfo": {
     "elapsed": 7,
     "status": "ok",
     "timestamp": 1636002583324,
     "user": {
      "displayName": "Yongjin Jeong",
      "photoUrl": "https://lh3.googleusercontent.com/a/default-user=s64",
      "userId": "03658406798560557048"
     },
     "user_tz": -540
    },
    "id": "QTQYUgDuJ8iD"
   },
   "outputs": [],
   "source": [
    "import warnings\n",
    "from warnings import simplefilter\n",
    "# ignore all future warnings\n",
    "simplefilter(action='ignore', category=FutureWarning)"
   ]
  },
  {
   "cell_type": "code",
   "execution_count": 2,
   "metadata": {
    "colab": {
     "base_uri": "https://localhost:8080/"
    },
    "executionInfo": {
     "elapsed": 3156,
     "status": "ok",
     "timestamp": 1636002583323,
     "user": {
      "displayName": "Yongjin Jeong",
      "photoUrl": "https://lh3.googleusercontent.com/a/default-user=s64",
      "userId": "03658406798560557048"
     },
     "user_tz": -540
    },
    "id": "g03hC1RH3abW",
    "outputId": "639c9ee1-1863-4378-fcd8-51373d47e97e"
   },
   "outputs": [
    {
     "name": "stdout",
     "output_type": "stream",
     "text": [
      "Collecting imblearn\n",
      "  Downloading imblearn-0.0-py2.py3-none-any.whl (1.9 kB)\n",
      "Collecting imbalanced-learn\n",
      "  Downloading imbalanced_learn-0.10.0-py3-none-any.whl (225 kB)\n",
      "Requirement already satisfied: threadpoolctl>=2.0.0 in c:\\users\\user\\anaconda3\\lib\\site-packages (from imbalanced-learn->imblearn) (2.2.0)\n",
      "Collecting joblib>=1.1.1\n",
      "  Downloading joblib-1.2.0-py3-none-any.whl (297 kB)\n",
      "Requirement already satisfied: numpy>=1.17.3 in c:\\users\\user\\anaconda3\\lib\\site-packages (from imbalanced-learn->imblearn) (1.21.5)\n",
      "Requirement already satisfied: scikit-learn>=1.0.2 in c:\\users\\user\\anaconda3\\lib\\site-packages (from imbalanced-learn->imblearn) (1.0.2)\n",
      "Requirement already satisfied: scipy>=1.3.2 in c:\\users\\user\\anaconda3\\lib\\site-packages (from imbalanced-learn->imblearn) (1.7.3)\n",
      "Installing collected packages: joblib, imbalanced-learn, imblearn\n",
      "  Attempting uninstall: joblib\n",
      "    Found existing installation: joblib 1.1.0\n",
      "    Uninstalling joblib-1.1.0:\n",
      "      Successfully uninstalled joblib-1.1.0\n",
      "Successfully installed imbalanced-learn-0.10.0 imblearn-0.0 joblib-1.2.0\n"
     ]
    }
   ],
   "source": [
    "!pip install imblearn"
   ]
  },
  {
   "cell_type": "code",
   "execution_count": 3,
   "metadata": {
    "executionInfo": {
     "elapsed": 345,
     "status": "ok",
     "timestamp": 1636002591688,
     "user": {
      "displayName": "Yongjin Jeong",
      "photoUrl": "https://lh3.googleusercontent.com/a/default-user=s64",
      "userId": "03658406798560557048"
     },
     "user_tz": -540
    },
    "id": "QwG5VjjA8Kq6"
   },
   "outputs": [],
   "source": [
    "import imblearn"
   ]
  },
  {
   "cell_type": "code",
   "execution_count": 4,
   "metadata": {
    "colab": {
     "base_uri": "https://localhost:8080/"
    },
    "executionInfo": {
     "elapsed": 5,
     "status": "ok",
     "timestamp": 1636002593127,
     "user": {
      "displayName": "Yongjin Jeong",
      "photoUrl": "https://lh3.googleusercontent.com/a/default-user=s64",
      "userId": "03658406798560557048"
     },
     "user_tz": -540
    },
    "id": "Fcw7FIc86tVM",
    "outputId": "2aeada49-397b-4d9e-b14a-675713b63e5a"
   },
   "outputs": [
    {
     "name": "stdout",
     "output_type": "stream",
     "text": [
      "0.10.0\n"
     ]
    }
   ],
   "source": [
    "print(imblearn.__version__)"
   ]
  },
  {
   "cell_type": "code",
   "execution_count": 6,
   "metadata": {
    "id": "vY_GqMBv-SXV"
   },
   "outputs": [],
   "source": [
    "import numpy as np\n",
    "import pandas as pd\n",
    "import matplotlib.pyplot as plt\n",
    "from sklearn.preprocessing import StandardScaler\n",
    "%matplotlib inline\n",
    "from sklearn.ensemble import RandomForestClassifier\n",
    "from sklearn.model_selection import train_test_split\n",
    "from sklearn.metrics import confusion_matrix, classification_report, roc_curve, auc"
   ]
  },
  {
   "cell_type": "code",
   "execution_count": 7,
   "metadata": {
    "executionInfo": {
     "elapsed": 344,
     "status": "ok",
     "timestamp": 1636002644934,
     "user": {
      "displayName": "Yongjin Jeong",
      "photoUrl": "https://lh3.googleusercontent.com/a/default-user=s64",
      "userId": "03658406798560557048"
     },
     "user_tz": -540
    },
    "id": "fQE4pWtR8cNK"
   },
   "outputs": [],
   "source": [
    "# define dataset\n",
    "from sklearn.datasets import make_classification\n",
    "X_org, y_org = make_classification(n_samples=10000, n_features=2, n_redundant=0,\n",
    "\t                       n_clusters_per_class=1, weights=[0.99], flip_y=0, \n",
    "                           random_state=1)"
   ]
  },
  {
   "cell_type": "code",
   "execution_count": 8,
   "metadata": {
    "colab": {
     "base_uri": "https://localhost:8080/"
    },
    "executionInfo": {
     "elapsed": 312,
     "status": "ok",
     "timestamp": 1636002655929,
     "user": {
      "displayName": "Yongjin Jeong",
      "photoUrl": "https://lh3.googleusercontent.com/a/default-user=s64",
      "userId": "03658406798560557048"
     },
     "user_tz": -540
    },
    "id": "JJtfRr9l9W7i",
    "outputId": "76c9c437-4aa3-4171-9b25-6b23e7f3a940"
   },
   "outputs": [
    {
     "data": {
      "text/plain": [
       "((10000, 2), (10000,))"
      ]
     },
     "execution_count": 8,
     "metadata": {},
     "output_type": "execute_result"
    }
   ],
   "source": [
    "X_org.shape, y_org.shape"
   ]
  },
  {
   "cell_type": "code",
   "execution_count": 9,
   "metadata": {
    "colab": {
     "base_uri": "https://localhost:8080/"
    },
    "executionInfo": {
     "elapsed": 354,
     "status": "ok",
     "timestamp": 1636002677881,
     "user": {
      "displayName": "Yongjin Jeong",
      "photoUrl": "https://lh3.googleusercontent.com/a/default-user=s64",
      "userId": "03658406798560557048"
     },
     "user_tz": -540
    },
    "id": "M5Ud3His_Eos",
    "outputId": "4657cfb1-c74d-49f4-c96b-3c1282e27c47"
   },
   "outputs": [
    {
     "data": {
      "text/plain": [
       "(9900, 100)"
      ]
     },
     "execution_count": 9,
     "metadata": {},
     "output_type": "execute_result"
    }
   ],
   "source": [
    "len(y_org[y_org==0]), len(y_org[y_org==1])"
   ]
  },
  {
   "cell_type": "code",
   "execution_count": 10,
   "metadata": {
    "colab": {
     "base_uri": "https://localhost:8080/",
     "height": 265
    },
    "executionInfo": {
     "elapsed": 430,
     "status": "ok",
     "timestamp": 1636002704553,
     "user": {
      "displayName": "Yongjin Jeong",
      "photoUrl": "https://lh3.googleusercontent.com/a/default-user=s64",
      "userId": "03658406798560557048"
     },
     "user_tz": -540
    },
    "id": "P44deaO3AFo0",
    "outputId": "e8b8aaeb-3663-47ea-ce40-ca08deead197"
   },
   "outputs": [
    {
     "data": {
      "image/png": "[encoded data removed]",
      "text/plain": [
       "<Figure size 432x288 with 1 Axes>"
      ]
     },
     "metadata": {
      "needs_background": "light"
     },
     "output_type": "display_data"
    }
   ],
   "source": [
    "markers = ['o', '+']\n",
    "for i in range(2):\n",
    "    xs = X_org[:, 0][y_org == i]\n",
    "    ys = X_org[:, 1][y_org == i]\n",
    "    plt.scatter(xs, ys, marker=markers[i], label=str(i), s=3)\n",
    "plt.legend()\n",
    "plt.show()"
   ]
  },
  {
   "cell_type": "code",
   "execution_count": 11,
   "metadata": {
    "executionInfo": {
     "elapsed": 436,
     "status": "ok",
     "timestamp": 1636002830598,
     "user": {
      "displayName": "Yongjin Jeong",
      "photoUrl": "https://lh3.googleusercontent.com/a/default-user=s64",
      "userId": "03658406798560557048"
     },
     "user_tz": -540
    },
    "id": "e-X5Un86E2oH"
   },
   "outputs": [],
   "source": [
    "def print_result(X_train, X_test, y_train, y_test):\n",
    "\n",
    "    model = RandomForestClassifier(n_estimators=100, max_depth=5)\n",
    "    print(\"Shapes: \", X_train.shape, X_test.shape, y_train.shape, y_test.shape)\n",
    "    model.fit(X_train, y_train)\n",
    "\n",
    "    y_pred = model.predict(X_test)\n",
    "    print(\"Static performance: \", \"\\n\", confusion_matrix(y_test, y_pred))\n",
    "    print()\n",
    "    print(classification_report(y_test, y_pred))\n",
    "\n",
    "    y_pred_proba = model.predict_proba(X_test)\n",
    "    fpr, tpr, _ = roc_curve(y_test, y_pred_proba[:,1])\n",
    "    print(\"AUC score: \", auc(fpr, tpr))"
   ]
  },
  {
   "cell_type": "code",
   "execution_count": 12,
   "metadata": {
    "colab": {
     "base_uri": "https://localhost:8080/"
    },
    "executionInfo": {
     "elapsed": 838,
     "status": "ok",
     "timestamp": 1636002965800,
     "user": {
      "displayName": "Yongjin Jeong",
      "photoUrl": "https://lh3.googleusercontent.com/a/default-user=s64",
      "userId": "03658406798560557048"
     },
     "user_tz": -540
    },
    "id": "3fDrIHBr6Zqk",
    "outputId": "d250e73c-1d6c-4990-995d-34413cd6f3ce"
   },
   "outputs": [
    {
     "name": "stdout",
     "output_type": "stream",
     "text": [
      "original distribution:  0.99 0.01\n",
      "Train data distribution:  0.99 0.01\n",
      "Test data distribution:  0.99 0.01\n",
      "Shapes:  (7000, 2) (3000, 2) (7000,) (3000,)\n",
      "Static performance:  \n",
      " [[2968    2]\n",
      " [  17   13]]\n",
      "\n",
      "              precision    recall  f1-score   support\n",
      "\n",
      "           0       0.99      1.00      1.00      2970\n",
      "           1       0.87      0.43      0.58        30\n",
      "\n",
      "    accuracy                           0.99      3000\n",
      "   macro avg       0.93      0.72      0.79      3000\n",
      "weighted avg       0.99      0.99      0.99      3000\n",
      "\n",
      "AUC score:  0.9551851851851851\n"
     ]
    }
   ],
   "source": [
    "# classification on original dataset\n",
    "X, y = X_org.copy(), y_org.copy()\n",
    "X_train, X_test, y_train, y_test = train_test_split(X, y, test_size=0.3, stratify=y)\n",
    "print(\"original distribution: \", len(y[y==0])/len(y), len(y[y==1])/len(y))\n",
    "print(\"Train data distribution: \", len(y_train[y_train==0])/len(y_train), len(y_train[y_train==1])/len(y_train))\n",
    "print(\"Test data distribution: \", len(y_test[y_test==0])/len(y_test), len(y_test[y_test==1])/len(y_test))\n",
    "\n",
    "print_result(X_train, X_test, y_train, y_test)"
   ]
  },
  {
   "cell_type": "markdown",
   "metadata": {
    "id": "aVtsOH-GYm-0"
   },
   "source": [
    "- look at Bad Recall score.\n",
    "  - Because of imbalance. (Think of it as detecting threatening objects such as guns and knives."
   ]
  },
  {
   "cell_type": "code",
   "execution_count": 15,
   "metadata": {
    "executionInfo": {
     "elapsed": 346,
     "status": "ok",
     "timestamp": 1636003157732,
     "user": {
      "displayName": "Yongjin Jeong",
      "photoUrl": "https://lh3.googleusercontent.com/a/default-user=s64",
      "userId": "03658406798560557048"
     },
     "user_tz": -540
    },
    "id": "fTGSm4vGB85L"
   },
   "outputs": [],
   "source": [
    "from imblearn.over_sampling import SMOTE\n",
    "oversample = SMOTE()\n",
    "X, y = oversample.fit_resample(X_org, y_org)\n",
    "sc = StandardScaler()\n",
    "X_sc=sc.fit_"
   ]
  },
  {
   "cell_type": "code",
   "execution_count": 16,
   "metadata": {
    "colab": {
     "base_uri": "https://localhost:8080/"
    },
    "executionInfo": {
     "elapsed": 321,
     "status": "ok",
     "timestamp": 1636003161017,
     "user": {
      "displayName": "Yongjin Jeong",
      "photoUrl": "https://lh3.googleusercontent.com/a/default-user=s64",
      "userId": "03658406798560557048"
     },
     "user_tz": -540
    },
    "id": "hJdfigB0Cfuh",
    "outputId": "5982ba1f-20b0-4e47-c5d4-e5d1f7827a1e"
   },
   "outputs": [
    {
     "data": {
      "text/plain": [
       "((19800, 2), (19800,), 9900, 9900)"
      ]
     },
     "execution_count": 16,
     "metadata": {},
     "output_type": "execute_result"
    }
   ],
   "source": [
    "X.shape, y.shape , len(y[y==0]), len(y[y==1])"
   ]
  },
  {
   "cell_type": "code",
   "execution_count": 17,
   "metadata": {
    "colab": {
     "base_uri": "https://localhost:8080/",
     "height": 265
    },
    "executionInfo": {
     "elapsed": 1004,
     "status": "ok",
     "timestamp": 1636003200920,
     "user": {
      "displayName": "Yongjin Jeong",
      "photoUrl": "https://lh3.googleusercontent.com/a/default-user=s64",
      "userId": "03658406798560557048"
     },
     "user_tz": -540
    },
    "id": "-fHCjfaECfrs",
    "outputId": "bc358168-96b6-4a2e-e329-859ef6009d4f"
   },
   "outputs": [
    {
     "data": {
      "image/png": "[encoded data removed]",
      "text/plain": [
       "<Figure size 432x288 with 1 Axes>"
      ]
     },
     "metadata": {
      "needs_background": "light"
     },
     "output_type": "display_data"
    }
   ],
   "source": [
    "markers = ['o', '+']\n",
    "for i in range(2):\n",
    "    xs = X[:, 0][y == i]\n",
    "    ys = X[:, 1][y == i]\n",
    "    plt.scatter(xs, ys, marker=markers[i], label=str(i), s=3)\n",
    "plt.legend()\n",
    "plt.show()"
   ]
  },
  {
   "cell_type": "code",
   "execution_count": 18,
   "metadata": {
    "colab": {
     "base_uri": "https://localhost:8080/"
    },
    "executionInfo": {
     "elapsed": 317,
     "status": "ok",
     "timestamp": 1636003247077,
     "user": {
      "displayName": "Yongjin Jeong",
      "photoUrl": "https://lh3.googleusercontent.com/a/default-user=s64",
      "userId": "03658406798560557048"
     },
     "user_tz": -540
    },
    "id": "iCH-RFFELVVy",
    "outputId": "78c7298a-ae7f-4506-9d8d-1bbba811c487"
   },
   "outputs": [
    {
     "name": "stdout",
     "output_type": "stream",
     "text": [
      "100 100\n"
     ]
    }
   ],
   "source": [
    "from imblearn.under_sampling import RandomUnderSampler\n",
    "\n",
    "under = RandomUnderSampler()\n",
    "X, y = under.fit_resample(X_org, y_org)\n",
    "print(len(y[y==0]), len(y[y==1]))"
   ]
  },
  {
   "cell_type": "code",
   "execution_count": 19,
   "metadata": {
    "colab": {
     "base_uri": "https://localhost:8080/",
     "height": 265
    },
    "executionInfo": {
     "elapsed": 408,
     "status": "ok",
     "timestamp": 1636003261277,
     "user": {
      "displayName": "Yongjin Jeong",
      "photoUrl": "https://lh3.googleusercontent.com/a/default-user=s64",
      "userId": "03658406798560557048"
     },
     "user_tz": -540
    },
    "id": "QgOH5InuLfxb",
    "outputId": "3adeb051-5232-4a7d-a0d5-c93c03f11704"
   },
   "outputs": [
    {
     "data": {
      "image/png": "[encoded data removed]",
      "text/plain": [
       "<Figure size 432x288 with 1 Axes>"
      ]
     },
     "metadata": {
      "needs_background": "light"
     },
     "output_type": "display_data"
    }
   ],
   "source": [
    "markers = ['o', '+']\n",
    "for i in range(2):\n",
    "    xs = X[:, 0][y == i]\n",
    "    ys = X[:, 1][y == i]\n",
    "    plt.scatter(xs, ys, marker=markers[i], label=str(i))\n",
    "plt.legend()\n",
    "plt.show()"
   ]
  },
  {
   "cell_type": "markdown",
   "metadata": {
    "id": "w6zUANpUZXBT"
   },
   "source": [
    "## Original paper on SMOTE\n",
    "- combine SMOTE and Undersampler()"
   ]
  },
  {
   "cell_type": "markdown",
   "metadata": {
    "id": "vDNHBxldZr0A"
   },
   "source": [
    "- The original paper on SMOTE suggested combining SMOTE with random undersampling of the majority class.\n",
    "- We can update the example to first oversample the minority class to have 10 percent the number of examples of the majority class (e.g. about 1,000), then use random undersampling to reduce the number of examples in the majority class to have 50 percent more than the minority class (e.g. about 2,000)."
   ]
  },
  {
   "cell_type": "markdown",
   "metadata": {
    "id": "bhdRnGFkZXxj"
   },
   "source": []
  },
  {
   "cell_type": "code",
   "execution_count": 96,
   "metadata": {
    "colab": {
     "base_uri": "https://localhost:8080/"
    },
    "executionInfo": {
     "elapsed": 350,
     "status": "ok",
     "timestamp": 1636003327355,
     "user": {
      "displayName": "Yongjin Jeong",
      "photoUrl": "https://lh3.googleusercontent.com/a/default-user=s64",
      "userId": "03658406798560557048"
     },
     "user_tz": -540
    },
    "id": "FU8HiqEVZ1l7",
    "outputId": "cc55d076-d669-4a92-f34d-6faf4bd7da2a"
   },
   "outputs": [
    {
     "name": "stdout",
     "output_type": "stream",
     "text": [
      "oversampled:  9900 990\n"
     ]
    }
   ],
   "source": [
    "over = SMOTE(sampling_strategy=0.1)\n",
    "X, y = over.fit_resample(X_org, y_org)\n",
    "print(\"oversampled: \", len(y[y==0]), len(y[y==1]))"
   ]
  },
  {
   "cell_type": "code",
   "execution_count": 97,
   "metadata": {
    "colab": {
     "base_uri": "https://localhost:8080/"
    },
    "executionInfo": {
     "elapsed": 350,
     "status": "ok",
     "timestamp": 1636003351151,
     "user": {
      "displayName": "Yongjin Jeong",
      "photoUrl": "https://lh3.googleusercontent.com/a/default-user=s64",
      "userId": "03658406798560557048"
     },
     "user_tz": -540
    },
    "id": "uTiScHBmZ41Y",
    "outputId": "876ca8b6-215f-47c8-c0c1-890739ba061f"
   },
   "outputs": [
    {
     "name": "stdout",
     "output_type": "stream",
     "text": [
      "under-sampled:  1980 990\n"
     ]
    }
   ],
   "source": [
    "under = RandomUnderSampler(sampling_strategy=0.5)  # ratio\n",
    "X, y = under.fit_resample(X, y)\n",
    "print(\"under-sampled: \", len(y[y==0]), len(y[y==1]))"
   ]
  },
  {
   "cell_type": "code",
   "execution_count": 98,
   "metadata": {
    "colab": {
     "base_uri": "https://localhost:8080/",
     "height": 265
    },
    "executionInfo": {
     "elapsed": 392,
     "status": "ok",
     "timestamp": 1636003360640,
     "user": {
      "displayName": "Yongjin Jeong",
      "photoUrl": "https://lh3.googleusercontent.com/a/default-user=s64",
      "userId": "03658406798560557048"
     },
     "user_tz": -540
    },
    "id": "YtloT7juZ7iu",
    "outputId": "3e7d233c-d236-4ba6-9b87-018fc6f89742"
   },
   "outputs": [
    {
     "data": {
      "image/png": "[encoded data removed]",
      "text/plain": [
       "<Figure size 432x288 with 1 Axes>"
      ]
     },
     "metadata": {
      "needs_background": "light"
     },
     "output_type": "display_data"
    }
   ],
   "source": [
    "markers = ['o', '+']\n",
    "for i in range(2):\n",
    "    xs = X[:, 0][y == i]\n",
    "    ys = X[:, 1][y == i]\n",
    "    plt.scatter(xs, ys, marker=markers[i], label=str(i))\n",
    "plt.legend()\n",
    "plt.show()"
   ]
  },
  {
   "cell_type": "markdown",
   "metadata": {
    "id": "JodtceZBjWCX"
   },
   "source": [
    "- SMOTE creates a line bridge with the majority class."
   ]
  },
  {
   "cell_type": "markdown",
   "metadata": {
    "id": "mvxtlfg9aIS6"
   },
   "source": [
    "## Borderline-SMOTE\n",
    "- ignore noise points (all the neighbors are majority class) and normal minority class points\n",
    "- resample only from border points (have both majority and minority classes as neighbors)\n",
    "- end up giving more attention to extreme points"
   ]
  },
  {
   "cell_type": "code",
   "execution_count": 99,
   "metadata": {
    "colab": {
     "base_uri": "https://localhost:8080/",
     "height": 282
    },
    "executionInfo": {
     "elapsed": 1023,
     "status": "ok",
     "timestamp": 1636003383108,
     "user": {
      "displayName": "Yongjin Jeong",
      "photoUrl": "https://lh3.googleusercontent.com/a/default-user=s64",
      "userId": "03658406798560557048"
     },
     "user_tz": -540
    },
    "id": "mjEUkLlgaN7r",
    "outputId": "5acd330b-0f06-47f9-9b0a-3b4ba3e3cff6"
   },
   "outputs": [
    {
     "name": "stdout",
     "output_type": "stream",
     "text": [
      "9900 990\n"
     ]
    },
    {
     "data": {
      "image/png": "[encoded data removed]",
      "text/plain": [
       "<Figure size 432x288 with 1 Axes>"
      ]
     },
     "metadata": {
      "needs_background": "light"
     },
     "output_type": "display_data"
    }
   ],
   "source": [
    "# Borderline-SMOTE\n",
    "from imblearn.over_sampling import BorderlineSMOTE\n",
    "oversample = BorderlineSMOTE(0.1)\n",
    "X, y = oversample.fit_resample(X_org, y_org)\n",
    "print(len(y[y==0]), len(y[y==1]))\n",
    "\n",
    "markers = ['o', '+']\n",
    "for i in range(2):\n",
    "    xs = X[:, 0][y == i]\n",
    "    ys = X[:, 1][y == i]\n",
    "    plt.scatter(xs, ys, marker=markers[i], label=str(i))\n",
    "plt.legend()\n",
    "plt.show()"
   ]
  },
  {
   "cell_type": "markdown",
   "metadata": {
    "id": "mHu9TWOWaY4r"
   },
   "source": [
    "- The plot shows that those examples far from the decision boundary are not oversampled. This includes both examples that are easier to classify (those orange points toward the top left of the plot) and those that are overwhelmingly difficult to classify given the strong class overlap (those orange points toward the bottom right of the plot)."
   ]
  },
  {
   "cell_type": "markdown",
   "metadata": {
    "id": "ZMBvEcU2KyxT"
   },
   "source": [
    "# Classification"
   ]
  },
  {
   "cell_type": "code",
   "execution_count": 100,
   "metadata": {
    "colab": {
     "base_uri": "https://localhost:8080/"
    },
    "executionInfo": {
     "elapsed": 1310,
     "status": "ok",
     "timestamp": 1636003438175,
     "user": {
      "displayName": "Yongjin Jeong",
      "photoUrl": "https://lh3.googleusercontent.com/a/default-user=s64",
      "userId": "03658406798560557048"
     },
     "user_tz": -540
    },
    "id": "eQXJrjAbFurV",
    "outputId": "0cd357e3-f1d8-4577-e788-217173ec2204"
   },
   "outputs": [
    {
     "name": "stdout",
     "output_type": "stream",
     "text": [
      "*** Resample First *** \n",
      "\n",
      "Shapes:  (13860, 2) (5940, 2) (13860,) (5940,)\n",
      "Static performance:  \n",
      " [[2812  158]\n",
      " [ 348 2622]]\n",
      "\n",
      "              precision    recall  f1-score   support\n",
      "\n",
      "           0       0.89      0.95      0.92      2970\n",
      "           1       0.94      0.88      0.91      2970\n",
      "\n",
      "    accuracy                           0.91      5940\n",
      "   macro avg       0.92      0.91      0.91      5940\n",
      "weighted avg       0.92      0.91      0.91      5940\n",
      "\n",
      "AUC score:  0.9777327710324343\n",
      "Don't be confused...\n"
     ]
    }
   ],
   "source": [
    "# resampling first - No !\n",
    "print(\"*** Resample First *** \\n\")\n",
    "oversample = SMOTE()\n",
    "X, y = oversample.fit_resample(X_org, y_org)\n",
    "X_train, X_test, y_train, y_test = train_test_split(X, y, test_size=0.3, stratify=y)\n",
    "print_result(X_train, X_test, y_train, y_test)\n",
    "print(\"Don't be confused...\")"
   ]
  },
  {
   "cell_type": "code",
   "execution_count": 101,
   "metadata": {
    "colab": {
     "base_uri": "https://localhost:8080/"
    },
    "executionInfo": {
     "elapsed": 1351,
     "status": "ok",
     "timestamp": 1636003539668,
     "user": {
      "displayName": "Yongjin Jeong",
      "photoUrl": "https://lh3.googleusercontent.com/a/default-user=s64",
      "userId": "03658406798560557048"
     },
     "user_tz": -540
    },
    "id": "baQ0qVPcIiL0",
    "outputId": "4e97a5c9-b6b7-43ea-8b5a-c4ace2d35203"
   },
   "outputs": [
    {
     "name": "stdout",
     "output_type": "stream",
     "text": [
      "*** Split First *** \n",
      "\n",
      "Shapes:  (13860, 2) (3000, 2) (13860,) (3000,)\n",
      "Static performance:  \n",
      " [[2857  113]\n",
      " [   8   22]]\n",
      "\n",
      "              precision    recall  f1-score   support\n",
      "\n",
      "           0       1.00      0.96      0.98      2970\n",
      "           1       0.16      0.73      0.27        30\n",
      "\n",
      "    accuracy                           0.96      3000\n",
      "   macro avg       0.58      0.85      0.62      3000\n",
      "weighted avg       0.99      0.96      0.97      3000\n",
      "\n",
      "AUC score:  0.90996632996633\n"
     ]
    }
   ],
   "source": [
    "# resample only on Train dataset ! - this is right !\n",
    "print(\"*** Split First *** \\n\")\n",
    "X_train, X_test, y_train, y_test = train_test_split(X_org, y_org, test_size=0.3, stratify=y_org)\n",
    "oversample = SMOTE()\n",
    "X_train, y_train = oversample.fit_resample(X_train, y_train)\n",
    "print_result(X_train, X_test, y_train, y_test)"
   ]
  },
  {
   "cell_type": "code",
   "execution_count": 102,
   "metadata": {
    "colab": {
     "base_uri": "https://localhost:8080/"
    },
    "executionInfo": {
     "elapsed": 403,
     "status": "ok",
     "timestamp": 1636003628823,
     "user": {
      "displayName": "Yongjin Jeong",
      "photoUrl": "https://lh3.googleusercontent.com/a/default-user=s64",
      "userId": "03658406798560557048"
     },
     "user_tz": -540
    },
    "id": "Aw3IaSNzLoCD",
    "outputId": "8badd80d-a5dc-4af4-b31c-9afa86ffc70e"
   },
   "outputs": [
    {
     "name": "stdout",
     "output_type": "stream",
     "text": [
      "*** Undersampling *** \n",
      "\n",
      "Shapes:  (140, 2) (3000, 2) (140,) (3000,)\n",
      "Static performance:  \n",
      " [[2829  141]\n",
      " [  10   20]]\n",
      "\n",
      "              precision    recall  f1-score   support\n",
      "\n",
      "           0       1.00      0.95      0.97      2970\n",
      "           1       0.12      0.67      0.21        30\n",
      "\n",
      "    accuracy                           0.95      3000\n",
      "   macro avg       0.56      0.81      0.59      3000\n",
      "weighted avg       0.99      0.95      0.97      3000\n",
      "\n",
      "AUC score:  0.9519360269360269\n"
     ]
    }
   ],
   "source": [
    "# undersampling\n",
    "print(\"*** Undersampling *** \\n\")\n",
    "X_train, X_test, y_train, y_test = train_test_split(X_org, y_org, test_size=0.3, stratify=y_org)\n",
    "under = RandomUnderSampler()\n",
    "X_train, y_train = under.fit_resample(X_train, y_train)\n",
    "print_result(X_train, X_test, y_train, y_test)"
   ]
  },
  {
   "cell_type": "code",
   "execution_count": 103,
   "metadata": {
    "colab": {
     "base_uri": "https://localhost:8080/"
    },
    "executionInfo": {
     "elapsed": 802,
     "status": "ok",
     "timestamp": 1636003684446,
     "user": {
      "displayName": "Yongjin Jeong",
      "photoUrl": "https://lh3.googleusercontent.com/a/default-user=s64",
      "userId": "03658406798560557048"
     },
     "user_tz": -540
    },
    "id": "z6H6XLqOGO_q",
    "outputId": "15e25765-7e18-4795-ea08-f931326dd532"
   },
   "outputs": [
    {
     "name": "stdout",
     "output_type": "stream",
     "text": [
      "Shapes:  (2079, 2) (3000, 2) (2079,) (3000,)\n",
      "Static performance:  \n",
      " [[2866  104]\n",
      " [   6   24]]\n",
      "\n",
      "              precision    recall  f1-score   support\n",
      "\n",
      "           0       1.00      0.96      0.98      2970\n",
      "           1       0.19      0.80      0.30        30\n",
      "\n",
      "    accuracy                           0.96      3000\n",
      "   macro avg       0.59      0.88      0.64      3000\n",
      "weighted avg       0.99      0.96      0.97      3000\n",
      "\n",
      "AUC score:  0.9478395061728395\n"
     ]
    }
   ],
   "source": [
    "# use both SMOTE and Underssampler\n",
    "X_train, X_test, y_train, y_test = train_test_split(X_org, y_org, test_size=0.3, stratify=y_org)\n",
    "over = SMOTE(sampling_strategy=0.1)\n",
    "X_train, y_train = over.fit_resample(X_train, y_train)\n",
    "under = RandomUnderSampler(sampling_strategy=0.5)\n",
    "X_train, y_train = under.fit_resample(X_train, y_train)\n",
    "print_result(X_train, X_test, y_train, y_test)"
   ]
  },
  {
   "cell_type": "markdown",
   "metadata": {
    "id": "X8wwb-7BFSeV"
   },
   "source": [
    "## stratified k-fold cross validation (same class distribution as the original dataset, 1:100)"
   ]
  },
  {
   "cell_type": "code",
   "execution_count": 104,
   "metadata": {
    "executionInfo": {
     "elapsed": 341,
     "status": "ok",
     "timestamp": 1636003769251,
     "user": {
      "displayName": "Yongjin Jeong",
      "photoUrl": "https://lh3.googleusercontent.com/a/default-user=s64",
      "userId": "03658406798560557048"
     },
     "user_tz": -540
    },
    "id": "BZDdAN4D6GDL"
   },
   "outputs": [],
   "source": [
    "from sklearn.tree import DecisionTreeClassifier\n",
    "from sklearn.model_selection import RepeatedStratifiedKFold, cross_val_score"
   ]
  },
  {
   "cell_type": "code",
   "execution_count": 105,
   "metadata": {
    "colab": {
     "base_uri": "https://localhost:8080/"
    },
    "executionInfo": {
     "elapsed": 1927,
     "status": "ok",
     "timestamp": 1636003836758,
     "user": {
      "displayName": "Yongjin Jeong",
      "photoUrl": "https://lh3.googleusercontent.com/a/default-user=s64",
      "userId": "03658406798560557048"
     },
     "user_tz": -540
    },
    "id": "8bZ_YHvFY6Lp",
    "outputId": "5ffbf67c-9660-4fda-912f-284492e5d40e"
   },
   "outputs": [
    {
     "name": "stdout",
     "output_type": "stream",
     "text": [
      "Shapes:  (2376, 2) (2000, 2) (2376,) (2000,)\n",
      "Static performance:  \n",
      " [[1927   53]\n",
      " [   3   17]]\n",
      "\n",
      "              precision    recall  f1-score   support\n",
      "\n",
      "           0       1.00      0.97      0.99      1980\n",
      "           1       0.24      0.85      0.38        20\n",
      "\n",
      "    accuracy                           0.97      2000\n",
      "   macro avg       0.62      0.91      0.68      2000\n",
      "weighted avg       0.99      0.97      0.98      2000\n",
      "\n",
      "AUC score:  0.9729292929292929\n",
      "Shapes:  (2376, 2) (2000, 2) (2376,) (2000,)\n",
      "Static performance:  \n",
      " [[1923   57]\n",
      " [   5   15]]\n",
      "\n",
      "              precision    recall  f1-score   support\n",
      "\n",
      "           0       1.00      0.97      0.98      1980\n",
      "           1       0.21      0.75      0.33        20\n",
      "\n",
      "    accuracy                           0.97      2000\n",
      "   macro avg       0.60      0.86      0.66      2000\n",
      "weighted avg       0.99      0.97      0.98      2000\n",
      "\n",
      "AUC score:  0.9401641414141414\n",
      "Shapes:  (2376, 2) (2000, 2) (2376,) (2000,)\n",
      "Static performance:  \n",
      " [[1941   39]\n",
      " [   8   12]]\n",
      "\n",
      "              precision    recall  f1-score   support\n",
      "\n",
      "           0       1.00      0.98      0.99      1980\n",
      "           1       0.24      0.60      0.34        20\n",
      "\n",
      "    accuracy                           0.98      2000\n",
      "   macro avg       0.62      0.79      0.66      2000\n",
      "weighted avg       0.99      0.98      0.98      2000\n",
      "\n",
      "AUC score:  0.9384722222222223\n",
      "Shapes:  (2376, 2) (2000, 2) (2376,) (2000,)\n",
      "Static performance:  \n",
      " [[1924   56]\n",
      " [   5   15]]\n",
      "\n",
      "              precision    recall  f1-score   support\n",
      "\n",
      "           0       1.00      0.97      0.98      1980\n",
      "           1       0.21      0.75      0.33        20\n",
      "\n",
      "    accuracy                           0.97      2000\n",
      "   macro avg       0.60      0.86      0.66      2000\n",
      "weighted avg       0.99      0.97      0.98      2000\n",
      "\n",
      "AUC score:  0.907739898989899\n",
      "Shapes:  (2376, 2) (2000, 2) (2376,) (2000,)\n",
      "Static performance:  \n",
      " [[1913   67]\n",
      " [   4   16]]\n",
      "\n",
      "              precision    recall  f1-score   support\n",
      "\n",
      "           0       1.00      0.97      0.98      1980\n",
      "           1       0.19      0.80      0.31        20\n",
      "\n",
      "    accuracy                           0.96      2000\n",
      "   macro avg       0.60      0.88      0.65      2000\n",
      "weighted avg       0.99      0.96      0.98      2000\n",
      "\n",
      "AUC score:  0.9656313131313131\n"
     ]
    }
   ],
   "source": [
    "# Use stratified F-Fold \n",
    "\n",
    "from sklearn.model_selection import StratifiedKFold\n",
    "\n",
    "X, y = X_org.copy(), y_org.copy()\n",
    "cv = StratifiedKFold(n_splits=5, shuffle=True)\n",
    "score = []\n",
    "\n",
    "for train_idx, test_idx in cv.split(X_org, y_org):\n",
    "    X_train, y_train = X[train_idx], y[train_idx]\n",
    "    X_test, y_test = X[test_idx], y[test_idx]\n",
    "   \n",
    "    over = SMOTE(sampling_strategy=0.1)\n",
    "    X_train, y_train = over.fit_resample(X_train, y_train)\n",
    "    under = RandomUnderSampler(sampling_strategy=0.5)  # ratio\n",
    "    X_train, y_train = under.fit_resample(X_train, y_train)\n",
    "\n",
    "    print_result(X_train, X_test, y_train, y_test)\n"
   ]
  },
  {
   "cell_type": "markdown",
   "metadata": {
    "id": "-t1U79bTBoJp"
   },
   "source": [
    "## Different values of the k-nearest neighbors selected in the SMOTE"
   ]
  },
  {
   "cell_type": "code",
   "execution_count": 106,
   "metadata": {
    "colab": {
     "base_uri": "https://localhost:8080/"
    },
    "executionInfo": {
     "elapsed": 2297,
     "status": "ok",
     "timestamp": 1636003940242,
     "user": {
      "displayName": "Yongjin Jeong",
      "photoUrl": "https://lh3.googleusercontent.com/a/default-user=s64",
      "userId": "03658406798560557048"
     },
     "user_tz": -540
    },
    "id": "bF7lfUstB7eB",
    "outputId": "27669a22-4bb3-4e13-a634-46623916f470"
   },
   "outputs": [
    {
     "name": "stdout",
     "output_type": "stream",
     "text": [
      "AUC score:  0.9331818181818182\n",
      "AUC score:  0.9617957351290685\n",
      "AUC score:  0.9366554433221099\n",
      "AUC score:  0.9807631874298541\n",
      "AUC score:  0.957300785634119\n",
      "AUC score:  0.9479405162738497\n",
      "AUC score:  0.9653367003367004\n"
     ]
    }
   ],
   "source": [
    "X_org, y_org = make_classification(n_samples=10000, n_features=2, n_redundant=0,\n",
    "\t                       n_clusters_per_class=1, weights=[0.99], flip_y=0, \n",
    "                           random_state=1)\n",
    "k_values = [1,2,3,4,5,6,7]\n",
    "\n",
    "for k in k_values:\n",
    "    X_train, X_test, y_train, y_test = train_test_split(X_org, y_org, test_size=0.3, stratify=y_org)\n",
    "    over = SMOTE(sampling_strategy=0.1, k_neighbors=k) # k_neighbors defualt=5\n",
    "    X_train, y_train = over.fit_resample(X_train, y_train)\n",
    "    under = RandomUnderSampler(sampling_strategy=0.5)\n",
    "    X_train, y_train = under.fit_resample(X_train, y_train)\n",
    "    \n",
    "    model = RandomForestClassifier(n_estimators=100, max_depth=5)\n",
    "    model.fit(X_train, y_train)\n",
    "    y_pred_proba = model.predict_proba(X_test)\n",
    "    fpr, tpr, _ = roc_curve(y_test, y_pred_proba[:,1])\n",
    "    print(\"AUC score: \", auc(fpr, tpr))\n"
   ]
  },
  {
   "cell_type": "markdown",
   "metadata": {
    "id": "p64A_5rRN1fo"
   },
   "source": [
    "## use Borderline-SMOTE"
   ]
  },
  {
   "cell_type": "code",
   "execution_count": 107,
   "metadata": {
    "colab": {
     "base_uri": "https://localhost:8080/"
    },
    "executionInfo": {
     "elapsed": 2052,
     "status": "ok",
     "timestamp": 1636004002727,
     "user": {
      "displayName": "Yongjin Jeong",
      "photoUrl": "https://lh3.googleusercontent.com/a/default-user=s64",
      "userId": "03658406798560557048"
     },
     "user_tz": -540
    },
    "id": "BRwqg4wTpCBA",
    "outputId": "1a1c3685-b94f-43a8-846d-4b160ea7f88d"
   },
   "outputs": [
    {
     "name": "stdout",
     "output_type": "stream",
     "text": [
      "Shapes:  (2376, 2) (2000, 2) (2376,) (2000,)\n",
      "Static performance:  \n",
      " [[1963   17]\n",
      " [   8   12]]\n",
      "\n",
      "              precision    recall  f1-score   support\n",
      "\n",
      "           0       1.00      0.99      0.99      1980\n",
      "           1       0.41      0.60      0.49        20\n",
      "\n",
      "    accuracy                           0.99      2000\n",
      "   macro avg       0.70      0.80      0.74      2000\n",
      "weighted avg       0.99      0.99      0.99      2000\n",
      "\n",
      "AUC score:  0.942260101010101\n",
      "Shapes:  (2376, 2) (2000, 2) (2376,) (2000,)\n",
      "Static performance:  \n",
      " [[1954   26]\n",
      " [   5   15]]\n",
      "\n",
      "              precision    recall  f1-score   support\n",
      "\n",
      "           0       1.00      0.99      0.99      1980\n",
      "           1       0.37      0.75      0.49        20\n",
      "\n",
      "    accuracy                           0.98      2000\n",
      "   macro avg       0.68      0.87      0.74      2000\n",
      "weighted avg       0.99      0.98      0.99      2000\n",
      "\n",
      "AUC score:  0.9468939393939393\n",
      "Shapes:  (2376, 2) (2000, 2) (2376,) (2000,)\n",
      "Static performance:  \n",
      " [[1962   18]\n",
      " [   8   12]]\n",
      "\n",
      "              precision    recall  f1-score   support\n",
      "\n",
      "           0       1.00      0.99      0.99      1980\n",
      "           1       0.40      0.60      0.48        20\n",
      "\n",
      "    accuracy                           0.99      2000\n",
      "   macro avg       0.70      0.80      0.74      2000\n",
      "weighted avg       0.99      0.99      0.99      2000\n",
      "\n",
      "AUC score:  0.9193813131313131\n",
      "Shapes:  (2376, 2) (2000, 2) (2376,) (2000,)\n",
      "Static performance:  \n",
      " [[1944   36]\n",
      " [   6   14]]\n",
      "\n",
      "              precision    recall  f1-score   support\n",
      "\n",
      "           0       1.00      0.98      0.99      1980\n",
      "           1       0.28      0.70      0.40        20\n",
      "\n",
      "    accuracy                           0.98      2000\n",
      "   macro avg       0.64      0.84      0.69      2000\n",
      "weighted avg       0.99      0.98      0.98      2000\n",
      "\n",
      "AUC score:  0.9856565656565657\n",
      "Shapes:  (2376, 2) (2000, 2) (2376,) (2000,)\n",
      "Static performance:  \n",
      " [[1951   29]\n",
      " [   4   16]]\n",
      "\n",
      "              precision    recall  f1-score   support\n",
      "\n",
      "           0       1.00      0.99      0.99      1980\n",
      "           1       0.36      0.80      0.49        20\n",
      "\n",
      "    accuracy                           0.98      2000\n",
      "   macro avg       0.68      0.89      0.74      2000\n",
      "weighted avg       0.99      0.98      0.99      2000\n",
      "\n",
      "AUC score:  0.9399116161616161\n"
     ]
    }
   ],
   "source": [
    "from sklearn.model_selection import RepeatedStratifiedKFold\n",
    "from imblearn.over_sampling import BorderlineSMOTE\n",
    "\n",
    "cv = RepeatedStratifiedKFold(n_splits=5, n_repeats=1)\n",
    "\n",
    "for train_idx, test_idx in cv.split(X_org, y_org):\n",
    "    X_train, y_train = X[train_idx], y[train_idx]\n",
    "    X_test, y_test = X[test_idx], y[test_idx]\n",
    "   \n",
    "    over = BorderlineSMOTE(sampling_strategy=0.1)\n",
    "    X_train, y_train = over.fit_resample(X_train, y_train)\n",
    "    under = RandomUnderSampler(sampling_strategy=0.5)  # ratio\n",
    "    X_train, y_train = under.fit_resample(X_train, y_train)\n",
    "    print_result(X_train, X_test, y_train, y_test)\n"
   ]
  }
 ],
 "metadata": {
  "colab": {
   "authorship_tag": "ABX9TyNwgAAKnBdxcB5IuCr1INKp",
   "collapsed_sections": [],
   "name": "lab34b_imbalance_SMOTE_rev1.ipynb",
   "provenance": [],
   "toc_visible": true
  },
  "kernelspec": {
   "display_name": "Python 3 (ipykernel)",
   "language": "python",
   "name": "python3"
  },
  "language_info": {
   "codemirror_mode": {
    "name": "ipython",
    "version": 3
   },
   "file_extension": ".py",
   "mimetype": "text/x-python",
   "name": "python",
   "nbconvert_exporter": "python",
   "pygments_lexer": "ipython3",
   "version": "3.9.12"
  }
 },
 "nbformat": 4,
 "nbformat_minor": 1
}
