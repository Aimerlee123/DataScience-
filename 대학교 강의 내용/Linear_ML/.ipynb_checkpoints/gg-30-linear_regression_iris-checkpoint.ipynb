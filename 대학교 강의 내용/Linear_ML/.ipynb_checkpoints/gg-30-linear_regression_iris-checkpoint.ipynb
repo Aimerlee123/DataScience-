{
 "cells": [
  {
   "cell_type": "markdown",
   "metadata": {
    "id": "bcAVJ3U23nL5"
   },
   "source": [
    "# Linear Regression"
   ]
  },
  {
   "cell_type": "markdown",
   "metadata": {
    "id": "QQI9V6Lx5S8P"
   },
   "source": [
    "## Iris dataset  "
   ]
  },
  {
   "cell_type": "code",
   "execution_count": 60,
   "metadata": {
    "id": "-dMpeamR3nL8"
   },
   "outputs": [],
   "source": [
    "import numpy as np\n",
    "import pandas as pd\n",
    "import matplotlib.pyplot as plt\n",
    "from sklearn.linear_model import LinearRegression, LogisticRegression\n",
    "from sklearn.model_selection import cross_val_score, train_test_split\n",
    "from sklearn.model_selection import cross_val_score, KFold, StratifiedKFold"
   ]
  },
  {
   "cell_type": "code",
   "execution_count": 61,
   "metadata": {
    "id": "ts_3haco3nL9"
   },
   "outputs": [],
   "source": [
    "from sklearn import datasets \n",
    "iris = datasets.load_iris() "
   ]
  },
  {
   "cell_type": "code",
   "execution_count": 62,
   "metadata": {
    "colab": {
     "base_uri": "https://localhost:8080/"
    },
    "executionInfo": {
     "elapsed": 668,
     "status": "ok",
     "timestamp": 1663496415722,
     "user": {
      "displayName": "Yongjin Jeong",
      "userId": "03658406798560557048"
     },
     "user_tz": -540
    },
    "id": "iNM97Web3nL-",
    "outputId": "a0b972df-1c0f-42e1-d768-353d1b1f111c"
   },
   "outputs": [
    {
     "name": "stdout",
     "output_type": "stream",
     "text": [
      "['sepal length (cm)', 'sepal width (cm)', 'petal length (cm)', 'petal width (cm)']\n"
     ]
    }
   ],
   "source": [
    "print(iris.feature_names)"
   ]
  },
  {
   "cell_type": "code",
   "execution_count": 63,
   "metadata": {
    "colab": {
     "base_uri": "https://localhost:8080/"
    },
    "executionInfo": {
     "elapsed": 40,
     "status": "ok",
     "timestamp": 1663496415723,
     "user": {
      "displayName": "Yongjin Jeong",
      "userId": "03658406798560557048"
     },
     "user_tz": -540
    },
    "id": "N0xTy0hh3nL_",
    "outputId": "c68a2fdb-0ed6-4d27-a58b-d78e89326c74"
   },
   "outputs": [
    {
     "data": {
      "text/plain": [
       "sklearn.utils.Bunch"
      ]
     },
     "execution_count": 63,
     "metadata": {},
     "output_type": "execute_result"
    }
   ],
   "source": [
    "type(iris)"
   ]
  },
  {
   "cell_type": "code",
   "execution_count": 64,
   "metadata": {
    "colab": {
     "base_uri": "https://localhost:8080/"
    },
    "executionInfo": {
     "elapsed": 30,
     "status": "ok",
     "timestamp": 1663496415723,
     "user": {
      "displayName": "Yongjin Jeong",
      "userId": "03658406798560557048"
     },
     "user_tz": -540
    },
    "id": "6O7g293O3nL_",
    "outputId": "a652a32b-a20b-4d6b-a628-e014196b58af"
   },
   "outputs": [
    {
     "data": {
      "text/plain": [
       "array([[5.1, 3.5, 1.4, 0.2],\n",
       "       [4.9, 3. , 1.4, 0.2],\n",
       "       [4.7, 3.2, 1.3, 0.2]])"
      ]
     },
     "execution_count": 64,
     "metadata": {},
     "output_type": "execute_result"
    }
   ],
   "source": [
    "X_all = iris.data \n",
    "X_all[:3]"
   ]
  },
  {
   "cell_type": "code",
   "execution_count": 65,
   "metadata": {
    "colab": {
     "base_uri": "https://localhost:8080/"
    },
    "executionInfo": {
     "elapsed": 27,
     "status": "ok",
     "timestamp": 1663496415724,
     "user": {
      "displayName": "Yongjin Jeong",
      "userId": "03658406798560557048"
     },
     "user_tz": -540
    },
    "id": "29-68RLnSchC",
    "outputId": "92900954-a200-42dd-f508-adfe9b04fa1f"
   },
   "outputs": [
    {
     "data": {
      "text/plain": [
       "(150, 4)"
      ]
     },
     "execution_count": 65,
     "metadata": {},
     "output_type": "execute_result"
    }
   ],
   "source": [
    "X_all.shape"
   ]
  },
  {
   "cell_type": "code",
   "execution_count": 66,
   "metadata": {
    "colab": {
     "base_uri": "https://localhost:8080/"
    },
    "executionInfo": {
     "elapsed": 23,
     "status": "ok",
     "timestamp": 1663496415724,
     "user": {
      "displayName": "Yongjin Jeong",
      "userId": "03658406798560557048"
     },
     "user_tz": -540
    },
    "id": "WeXoetVp3nMA",
    "outputId": "9a381613-bf34-47a2-cbef-1c48949e7690"
   },
   "outputs": [
    {
     "name": "stdout",
     "output_type": "stream",
     "text": [
      "[5.1 4.9 4.7]\n",
      "[1.4 1.4 1.3]\n"
     ]
    }
   ],
   "source": [
    "X = X_all[:, 0] \n",
    "y = X_all[:, 2]\n",
    "print(X[0:3])\n",
    "print(y[0:3])"
   ]
  },
  {
   "cell_type": "code",
   "execution_count": 67,
   "metadata": {
    "colab": {
     "base_uri": "https://localhost:8080/",
     "height": 296
    },
    "executionInfo": {
     "elapsed": 19,
     "status": "ok",
     "timestamp": 1663496415725,
     "user": {
      "displayName": "Yongjin Jeong",
      "userId": "03658406798560557048"
     },
     "user_tz": -540
    },
    "id": "WXx-FmUO3nMA",
    "outputId": "2aab2aa2-003d-4001-9c3e-85f3afec7669"
   },
   "outputs": [
    {
     "data": {
      "text/plain": [
       "Text(0, 0.5, 'Petal length')"
      ]
     },
     "execution_count": 67,
     "metadata": {},
     "output_type": "execute_result"
    },
    {
     "data": {
      "image/png": "[encoded data removed]",
      "text/plain": [
       "<Figure size 432x288 with 1 Axes>"
      ]
     },
     "metadata": {
      "needs_background": "light"
     },
     "output_type": "display_data"
    }
   ],
   "source": [
    "X_train, X_test, y_train, y_test = train_test_split(X, y, test_size=0.2)\n",
    "%matplotlib inline\n",
    "import matplotlib.pyplot as plt\n",
    "plt.scatter(X_train, y_train, marker='o') \n",
    "plt.xlabel(\"Sepal length\") \n",
    "plt.ylabel(\"Petal length\")"
   ]
  },
  {
   "cell_type": "code",
   "execution_count": 68,
   "metadata": {
    "colab": {
     "base_uri": "https://localhost:8080/"
    },
    "executionInfo": {
     "elapsed": 15,
     "status": "ok",
     "timestamp": 1663496415725,
     "user": {
      "displayName": "Yongjin Jeong",
      "userId": "03658406798560557048"
     },
     "user_tz": -540
    },
    "id": "sUSqxmwv3nMC",
    "outputId": "a8e14410-57b3-407b-8f42-10305e16bd63"
   },
   "outputs": [
    {
     "name": "stdout",
     "output_type": "stream",
     "text": [
      "Train Score : 0.779\n",
      "Test Score : 0.674\n"
     ]
    }
   ],
   "source": [
    "from sklearn.linear_model import LinearRegression \n",
    "X_train, X_test, y_train, y_test = train_test_split(X, y, test_size=0.2)\n",
    "linr = LinearRegression()\n",
    "linr.fit(X_train.reshape(-1,1), y_train) #resahpe을 통해 matrix로 바꿔준다. \n",
    "print(\"Train Score : {:.3f}\".format(linr.score(X_train.reshape(-1,1), y_train)))\n",
    "print(\"Test Score : {:.3f}\".format(linr.score(X_test.reshape(-1,1), y_test)))"
   ]
  },
  {
   "cell_type": "code",
   "execution_count": 69,
   "metadata": {
    "colab": {
     "base_uri": "https://localhost:8080/"
    },
    "executionInfo": {
     "elapsed": 13,
     "status": "ok",
     "timestamp": 1663496415726,
     "user": {
      "displayName": "Yongjin Jeong",
      "userId": "03658406798560557048"
     },
     "user_tz": -540
    },
    "id": "L4V0vH9Z3nMC",
    "outputId": "79bb2787-4dd8-41fa-9e47-6de501dd746c"
   },
   "outputs": [
    {
     "name": "stdout",
     "output_type": "stream",
     "text": [
      "[1.86703191] -7.186139391273796\n"
     ]
    }
   ],
   "source": [
    "print(linr.coef_, linr.intercept_)"
   ]
  },
  {
   "cell_type": "code",
   "execution_count": 70,
   "metadata": {
    "colab": {
     "base_uri": "https://localhost:8080/",
     "height": 296
    },
    "executionInfo": {
     "elapsed": 607,
     "status": "ok",
     "timestamp": 1663496416322,
     "user": {
      "displayName": "Yongjin Jeong",
      "userId": "03658406798560557048"
     },
     "user_tz": -540
    },
    "id": "czUS0Iim3nMD",
    "outputId": "071a0494-9e23-42c6-e693-b7d6407eed96",
    "scrolled": true
   },
   "outputs": [
    {
     "data": {
      "text/plain": [
       "[<matplotlib.lines.Line2D at 0x1987daa8940>]"
      ]
     },
     "execution_count": 70,
     "metadata": {},
     "output_type": "execute_result"
    },
    {
     "data": {
      "image/png": "[encoded data removed]",
      "text/plain": [
       "<Figure size 432x288 with 1 Axes>"
      ]
     },
     "metadata": {
      "needs_background": "light"
     },
     "output_type": "display_data"
    }
   ],
   "source": [
    "plt.scatter(X_train, y_train, marker='v', c='r', alpha=0.3) \n",
    "plt.scatter(X_test, y_test, marker='o', c='b') \n",
    "plt.legend(['train data', 'test data'])\n",
    "plt.xlabel(\"Sepal length\")\n",
    "plt.ylabel(\"Petal length\")\n",
    "\n",
    "xx = np.linspace(4, 8, 3)\n",
    "plt.plot(xx, linr.coef_ * xx + linr.intercept_, \"k-\")"
   ]
  },
  {
   "cell_type": "markdown",
   "metadata": {
    "id": "71oniZDLgccU"
   },
   "source": [
    "- let's try predict  the petal width using the other 3 features"
   ]
  },
  {
   "cell_type": "code",
   "execution_count": 71,
   "metadata": {
    "colab": {
     "base_uri": "https://localhost:8080/"
    },
    "executionInfo": {
     "elapsed": 25,
     "status": "ok",
     "timestamp": 1663496416323,
     "user": {
      "displayName": "Yongjin Jeong",
      "userId": "03658406798560557048"
     },
     "user_tz": -540
    },
    "id": "LbBf4lFVeZgT",
    "outputId": "816d6a2e-d4d1-4f6c-e799-6b9f36eba63c"
   },
   "outputs": [
    {
     "name": "stdout",
     "output_type": "stream",
     "text": [
      "0.9404636054476467 0.9335940214608367\n"
     ]
    },
    {
     "data": {
      "text/plain": [
       "(array([-0.17498678,  0.16378935,  0.49869738]), -0.16215565048177627)"
      ]
     },
     "execution_count": 71,
     "metadata": {},
     "output_type": "execute_result"
    }
   ],
   "source": [
    "def adj_R2 (X, y, R2): \n",
    "    n = len(y)      # no of samples\n",
    "    p = X.shape[1]  # no of features\n",
    "    return (1 - (1-R2)*(n-1)/(n-p-1))\n",
    "\n",
    "X, y = X_all[:, 0:3], X_all[:, 3]\n",
    "X_train, X_test, y_train, y_test = train_test_split(X, y, test_size=0.2)\n",
    "linr = LinearRegression()\n",
    "linr.fit(X_train, y_train)\n",
    "print(linr.score(X_test, y_test), adj_R2(X_test, y_test, linr.score(X_test, y_test)))\n",
    "linr.coef_, linr.intercept_"
   ]
  },
  {
   "cell_type": "markdown",
   "metadata": {
    "id": "ugsJcLaR3nMD"
   },
   "source": [
    "## KFold() Cross Validation "
   ]
  },
  {
   "cell_type": "code",
   "execution_count": 72,
   "metadata": {
    "colab": {
     "base_uri": "https://localhost:8080/"
    },
    "executionInfo": {
     "elapsed": 22,
     "status": "ok",
     "timestamp": 1663496416324,
     "user": {
      "displayName": "Yongjin Jeong",
      "userId": "03658406798560557048"
     },
     "user_tz": -540
    },
    "id": "COvZBoNw4c6J",
    "outputId": "b06923e4-87f2-472b-c2d7-5df274040ebf"
   },
   "outputs": [
    {
     "name": "stdout",
     "output_type": "stream",
     "text": [
      "[0.72 0.8  0.83 0.71 0.72]\n",
      "0.76\n"
     ]
    }
   ],
   "source": [
    "X = X_all[:,0]\n",
    "y = X_all[:,2]\n",
    "\n",
    "cv = KFold(n_splits=5, shuffle=True)  # Returns the number of splitting iterations in the cross-validator.\n",
    "score = cross_val_score(LinearRegression(), X.reshape(-1,1), y, cv=cv) #진행해주는 function\n",
    "\n",
    "print(score.round(2))\n",
    "print(score.mean().round(2))"
   ]
  },
  {
   "cell_type": "code",
   "execution_count": 73,
   "metadata": {
    "colab": {
     "base_uri": "https://localhost:8080/"
    },
    "executionInfo": {
     "elapsed": 20,
     "status": "ok",
     "timestamp": 1663496416324,
     "user": {
      "displayName": "Yongjin Jeong",
      "userId": "03658406798560557048"
     },
     "user_tz": -540
    },
    "id": "A33E_Z0L3nME",
    "outputId": "01d8f400-61d2-4fe8-b95d-f2571d5adfab"
   },
   "outputs": [
    {
     "name": "stdout",
     "output_type": "stream",
     "text": [
      "KFold(n_splits=5, random_state=None, shuffle=True)\n",
      "5\n"
     ]
    }
   ],
   "source": [
    "## what is cv?\n",
    "print(cv)\n",
    "print(cv.get_n_splits(X))"
   ]
  },
  {
   "cell_type": "code",
   "execution_count": 74,
   "metadata": {
    "colab": {
     "base_uri": "https://localhost:8080/"
    },
    "executionInfo": {
     "elapsed": 16,
     "status": "ok",
     "timestamp": 1663496416324,
     "user": {
      "displayName": "Yongjin Jeong",
      "userId": "03658406798560557048"
     },
     "user_tz": -540
    },
    "id": "KuvjriYI3nMF",
    "outputId": "0276895f-8c3b-4b39-8872-2c54c1e3cc37"
   },
   "outputs": [
    {
     "name": "stdout",
     "output_type": "stream",
     "text": [
      "TRAIN:\n",
      " [  0   1   2   3   4   5   6   7   8   9  10  11  12  13  15  17  18  19\n",
      "  20  21  23  24  25  27  28  29  32  33  34  35  36  37  38  39  40  41\n",
      "  44  45  46  47  48  49  50  51  53  55  56  57  58  60  61  62  63  65\n",
      "  66  67  68  69  71  72  73  74  76  77  78  79  80  81  82  85  86  87\n",
      "  89  90  92  94  95  96  97  98 100 101 103 105 106 107 108 109 110 111\n",
      " 112 113 114 115 116 117 118 119 122 123 124 125 126 129 130 131 132 134\n",
      " 135 137 139 140 142 143 144 145 146 147 148 149] \n",
      " TEST:\n",
      " [ 14  16  22  26  30  31  42  43  52  54  59  64  70  75  83  84  88  91\n",
      "  93  99 102 104 120 121 127 128 133 136 138 141]\n",
      "TRAIN:\n",
      " [  0   1   2   3   4   5   6   7   8  10  11  13  14  15  16  17  18  19\n",
      "  20  22  23  24  25  26  27  29  30  31  34  35  36  39  41  42  43  44\n",
      "  45  46  47  49  50  51  52  53  54  55  57  58  59  60  61  62  63  64\n",
      "  65  66  67  68  70  71  72  75  76  79  80  81  82  83  84  85  86  88\n",
      "  89  90  91  92  93  95  96  97  98  99 101 102 103 104 105 106 107 109\n",
      " 111 114 115 116 119 120 121 123 124 126 127 128 129 130 131 132 133 134\n",
      " 135 136 137 138 140 141 142 143 144 145 147 148] \n",
      " TEST:\n",
      " [  9  12  21  28  32  33  37  38  40  48  56  69  73  74  77  78  87  94\n",
      " 100 108 110 112 113 117 118 122 125 139 146 149]\n",
      "TRAIN:\n",
      " [  3   4   5   8   9  11  12  13  14  15  16  17  18  20  21  22  23  24\n",
      "  25  26  28  30  31  32  33  35  36  37  38  39  40  41  42  43  45  48\n",
      "  49  50  51  52  53  54  55  56  59  60  62  63  64  65  66  68  69  70\n",
      "  71  72  73  74  75  76  77  78  79  80  83  84  85  86  87  88  89  91\n",
      "  93  94  95  96  98  99 100 101 102 104 105 106 107 108 109 110 111 112\n",
      " 113 114 116 117 118 120 121 122 124 125 126 127 128 130 132 133 134 135\n",
      " 136 137 138 139 140 141 144 145 146 147 148 149] \n",
      " TEST:\n",
      " [  0   1   2   6   7  10  19  27  29  34  44  46  47  57  58  61  67  81\n",
      "  82  90  92  97 103 115 119 123 129 131 142 143]\n",
      "TRAIN:\n",
      " [  0   1   2   4   6   7   8   9  10  11  12  13  14  15  16  17  19  20\n",
      "  21  22  23  24  25  26  27  28  29  30  31  32  33  34  37  38  39  40\n",
      "  42  43  44  45  46  47  48  50  52  53  54  56  57  58  59  60  61  62\n",
      "  64  66  67  69  70  73  74  75  76  77  78  79  80  81  82  83  84  85\n",
      "  87  88  89  90  91  92  93  94  97  99 100 101 102 103 104 106 108 109\n",
      " 110 111 112 113 114 115 117 118 119 120 121 122 123 124 125 127 128 129\n",
      " 131 133 136 138 139 141 142 143 145 146 147 149] \n",
      " TEST:\n",
      " [  3   5  18  35  36  41  49  51  55  63  65  68  71  72  86  95  96  98\n",
      " 105 107 116 126 130 132 134 135 137 140 144 148]\n",
      "TRAIN:\n",
      " [  0   1   2   3   5   6   7   9  10  12  14  16  18  19  21  22  26  27\n",
      "  28  29  30  31  32  33  34  35  36  37  38  40  41  42  43  44  46  47\n",
      "  48  49  51  52  54  55  56  57  58  59  61  63  64  65  67  68  69  70\n",
      "  71  72  73  74  75  77  78  81  82  83  84  86  87  88  90  91  92  93\n",
      "  94  95  96  97  98  99 100 102 103 104 105 107 108 110 112 113 115 116\n",
      " 117 118 119 120 121 122 123 125 126 127 128 129 130 131 132 133 134 135\n",
      " 136 137 138 139 140 141 142 143 144 146 148 149] \n",
      " TEST:\n",
      " [  4   8  11  13  15  17  20  23  24  25  39  45  50  53  60  62  66  76\n",
      "  79  80  85  89 101 106 109 111 114 124 145 147]\n"
     ]
    }
   ],
   "source": [
    "for train_index, test_index in cv.split(X):\n",
    "    print(\"TRAIN:\\n\", train_index,'\\n', \"TEST:\\n\", test_index)\n",
    "    X_train, X_test = X[train_index], X[test_index]\n",
    "    y_train, y_test = y[train_index], y[test_index]"
   ]
  },
  {
   "cell_type": "code",
   "execution_count": 75,
   "metadata": {
    "colab": {
     "base_uri": "https://localhost:8080/"
    },
    "executionInfo": {
     "elapsed": 13,
     "status": "ok",
     "timestamp": 1663496416325,
     "user": {
      "displayName": "Yongjin Jeong",
      "userId": "03658406798560557048"
     },
     "user_tz": -540
    },
    "id": "of_i58s43nMG",
    "outputId": "b7106f4f-dcce-49ea-df3e-59c644c352fa"
   },
   "outputs": [
    {
     "name": "stdout",
     "output_type": "stream",
     "text": [
      "0.6428112192960893\n"
     ]
    }
   ],
   "source": [
    "## using decision tree\n",
    "from sklearn.tree import DecisionTreeRegressor \n",
    "dec_reg = DecisionTreeRegressor()\n",
    "dec_reg.fit(X_train.reshape(-1,1), y_train) \n",
    "print(dec_reg.score(X_test.reshape(-1,1), y_test))"
   ]
  },
  {
   "cell_type": "markdown",
   "metadata": {
    "id": "kJw0pUuH3nMH"
   },
   "source": [
    "## 몸무게 예측"
   ]
  },
  {
   "cell_type": "code",
   "execution_count": 76,
   "metadata": {
    "colab": {
     "base_uri": "https://localhost:8080/",
     "height": 265
    },
    "executionInfo": {
     "elapsed": 649,
     "status": "ok",
     "timestamp": 1663496416966,
     "user": {
      "displayName": "Yongjin Jeong",
      "userId": "03658406798560557048"
     },
     "user_tz": -540
    },
    "id": "BjCZgTtf3nMH",
    "outputId": "c3e22755-9957-4830-d3da-616a1fb0b270"
   },
   "outputs": [
    {
     "data": {
      "image/png": "[encoded data removed]",
      "text/plain": [
       "<Figure size 432x288 with 1 Axes>"
      ]
     },
     "metadata": {
      "needs_background": "light"
     },
     "output_type": "display_data"
    }
   ],
   "source": [
    "import numpy as np\n",
    "import pandas as pd\n",
    "import matplotlib.pyplot as plt\n",
    "from sklearn.linear_model import LinearRegression, LogisticRegression\n",
    "from sklearn.model_selection import cross_val_score, train_test_split\n",
    "\n",
    "n_samples = 1000\n",
    "x1 = 3*np.random.randn(n_samples) + 170\n",
    "x2 = 2*np.random.randn(n_samples) + 160\n",
    "\n",
    "y1 = 2*x1 - 270 + 2*np.random.randn(n_samples) # 평균 70kg\n",
    "y2 = 1*x2 - 100 + np.random.randn(n_samples)   # 평균 60kg\n",
    "plt.hist(x1, bins=30)\n",
    "plt.hist(x2, bins=30)\n",
    "\n",
    "plt.hist(y1, bins=30)\n",
    "plt.hist(y2, bins=30)\n",
    "plt.legend(['male height','female height','male weight','female weight'])\n",
    "plt.show()"
   ]
  },
  {
   "cell_type": "code",
   "execution_count": 18,
   "metadata": {
    "colab": {
     "base_uri": "https://localhost:8080/"
    },
    "executionInfo": {
     "elapsed": 27,
     "status": "ok",
     "timestamp": 1663496416967,
     "user": {
      "displayName": "Yongjin Jeong",
      "userId": "03658406798560557048"
     },
     "user_tz": -540
    },
    "id": "r-2OgAXz3nMH",
    "outputId": "a624d611-ccde-42a1-aa6d-922a2af10bab"
   },
   "outputs": [
    {
     "name": "stdout",
     "output_type": "stream",
     "text": [
      "[2.01701281]\n",
      "0.8983109789262784\n"
     ]
    }
   ],
   "source": [
    "X_train, X_test, y_train, y_test = train_test_split(x1, y1, test_size=0.2)\n",
    "leg1 = LinearRegression()\n",
    "leg1.fit(X_train.reshape(-1,1), y_train)\n",
    "\n",
    "print(leg1.coef_)\n",
    "print(leg1.score(X_test.reshape(-1,1), y_test))"
   ]
  },
  {
   "cell_type": "code",
   "execution_count": 19,
   "metadata": {
    "colab": {
     "base_uri": "https://localhost:8080/",
     "height": 282
    },
    "executionInfo": {
     "elapsed": 21,
     "status": "ok",
     "timestamp": 1663496416968,
     "user": {
      "displayName": "Yongjin Jeong",
      "userId": "03658406798560557048"
     },
     "user_tz": -540
    },
    "id": "DkDlE-BB3nMI",
    "outputId": "ece5159f-0f81-40d2-d220-6e14d9d89fc8"
   },
   "outputs": [
    {
     "data": {
      "text/plain": [
       "[<matplotlib.lines.Line2D at 0x198772bdaf0>]"
      ]
     },
     "execution_count": 19,
     "metadata": {},
     "output_type": "execute_result"
    },
    {
     "data": {
      "image/png": "[encoded data removed]",
      "text/plain": [
       "<Figure size 432x288 with 1 Axes>"
      ]
     },
     "metadata": {
      "needs_background": "light"
     },
     "output_type": "display_data"
    }
   ],
   "source": [
    "xs = np.linspace(158, 180, 100)\n",
    "ys = xs * leg1.coef_[0] + leg1.intercept_\n",
    "plt.scatter(x1, y1, s=0.5)\n",
    "plt.plot(xs, ys, c='r')"
   ]
  },
  {
   "cell_type": "code",
   "execution_count": 20,
   "metadata": {
    "colab": {
     "base_uri": "https://localhost:8080/"
    },
    "executionInfo": {
     "elapsed": 16,
     "status": "ok",
     "timestamp": 1663496416969,
     "user": {
      "displayName": "Yongjin Jeong",
      "userId": "03658406798560557048"
     },
     "user_tz": -540
    },
    "id": "gHI79R8-3nMI",
    "outputId": "74bab22e-7b3f-46fe-8c73-f0a700e05ae2"
   },
   "outputs": [
    {
     "name": "stdout",
     "output_type": "stream",
     "text": [
      "[0.97248128] -95.61338420083507\n",
      "0.8033240307106341\n"
     ]
    }
   ],
   "source": [
    "X_train, X_test, y_train, y_test = train_test_split(x2, y2, test_size=0.2)\n",
    "leg1 = LinearRegression()\n",
    "leg1.fit(X_train.reshape(-1,1), y_train)\n",
    "\n",
    "print(leg1.coef_, leg1.intercept_)\n",
    "print(leg1.score(X_test.reshape(-1,1), y_test))"
   ]
  },
  {
   "cell_type": "code",
   "execution_count": 21,
   "metadata": {
    "colab": {
     "base_uri": "https://localhost:8080/",
     "height": 282
    },
    "executionInfo": {
     "elapsed": 939,
     "status": "ok",
     "timestamp": 1663496417896,
     "user": {
      "displayName": "Yongjin Jeong",
      "userId": "03658406798560557048"
     },
     "user_tz": -540
    },
    "id": "hCvx031x3nMI",
    "outputId": "3e60287f-50a5-48e8-ae37-40e3a9871153"
   },
   "outputs": [
    {
     "data": {
      "text/plain": [
       "[<matplotlib.lines.Line2D at 0x198773212e0>]"
      ]
     },
     "execution_count": 21,
     "metadata": {},
     "output_type": "execute_result"
    },
    {
     "data": {
      "image/png": "[encoded data removed]",
      "text/plain": [
       "<Figure size 432x288 with 1 Axes>"
      ]
     },
     "metadata": {
      "needs_background": "light"
     },
     "output_type": "display_data"
    }
   ],
   "source": [
    "xs = np.linspace(153,170,100)\n",
    "ys = xs * leg1.coef_[0] + leg1.intercept_\n",
    "plt.scatter(x2, y2, s=0.5)\n",
    "plt.plot(xs, ys, c='r')"
   ]
  },
  {
   "cell_type": "code",
   "execution_count": 22,
   "metadata": {
    "colab": {
     "base_uri": "https://localhost:8080/"
    },
    "executionInfo": {
     "elapsed": 48,
     "status": "ok",
     "timestamp": 1663496417897,
     "user": {
      "displayName": "Yongjin Jeong",
      "userId": "03658406798560557048"
     },
     "user_tz": -540
    },
    "id": "xNGaauGe3nMI",
    "outputId": "d51d9c96-003b-43d6-ecd4-dfa4c82f697b"
   },
   "outputs": [
    {
     "name": "stdout",
     "output_type": "stream",
     "text": [
      "[1.13508179] -122.33501783320641\n",
      "0.8725648476080641\n"
     ]
    }
   ],
   "source": [
    "# put together\n",
    "x = np.concatenate((x1, x2))   # height\n",
    "y = np.concatenate((y1, y2))   # weight\n",
    "\n",
    "X_train, X_test, y_train, y_test = train_test_split(x, y, test_size=0.2)\n",
    "leg1 = LinearRegression()\n",
    "leg1.fit(X_train.reshape(-1,1), y_train)\n",
    "\n",
    "print(leg1.coef_, leg1.intercept_)\n",
    "print(leg1.score(X_test.reshape(-1,1), y_test))"
   ]
  },
  {
   "cell_type": "code",
   "execution_count": 23,
   "metadata": {
    "colab": {
     "base_uri": "https://localhost:8080/",
     "height": 282
    },
    "executionInfo": {
     "elapsed": 46,
     "status": "ok",
     "timestamp": 1663496417897,
     "user": {
      "displayName": "Yongjin Jeong",
      "userId": "03658406798560557048"
     },
     "user_tz": -540
    },
    "id": "bgJu_AmY3nMJ",
    "outputId": "a118a037-98d7-4da0-bf7c-a974ad96ccd8"
   },
   "outputs": [
    {
     "data": {
      "text/plain": [
       "[<matplotlib.lines.Line2D at 0x1987727b190>]"
      ]
     },
     "execution_count": 23,
     "metadata": {},
     "output_type": "execute_result"
    },
    {
     "data": {
      "image/png": "[encoded data removed]",
      "text/plain": [
       "<Figure size 432x288 with 1 Axes>"
      ]
     },
     "metadata": {
      "needs_background": "light"
     },
     "output_type": "display_data"
    }
   ],
   "source": [
    "xs = np.linspace(155,180,100)\n",
    "ys = xs * leg1.coef_[0] + leg1.intercept_\n",
    "plt.scatter(x, y, s=0.5)\n",
    "plt.plot(xs, ys, c='r')"
   ]
  },
  {
   "cell_type": "markdown",
   "metadata": {
    "id": "PgXU4i6H6ziN"
   },
   "source": [
    "- Now, we will add another feature (sex)"
   ]
  },
  {
   "cell_type": "code",
   "execution_count": 24,
   "metadata": {
    "id": "F2qrYp573nMJ",
    "scrolled": true
   },
   "outputs": [],
   "source": [
    "X1 = pd.DataFrame({'height':x1, 'sex':0})\n",
    "X2 = pd.DataFrame({'height':x2, 'sex':1})\n",
    "X = pd.concat([X1, X2], ignore_index=True)  # 기존 인덱스 무시"
   ]
  },
  {
   "cell_type": "code",
   "execution_count": 25,
   "metadata": {
    "colab": {
     "base_uri": "https://localhost:8080/",
     "height": 206
    },
    "executionInfo": {
     "elapsed": 42,
     "status": "ok",
     "timestamp": 1663496417898,
     "user": {
      "displayName": "Yongjin Jeong",
      "userId": "03658406798560557048"
     },
     "user_tz": -540
    },
    "id": "fFzO5GO43nMJ",
    "outputId": "1a9116e5-ad9f-4203-89be-5a1c72827f9a"
   },
   "outputs": [
    {
     "data": {
      "text/html": [
       "<div>\n",
       "<style scoped>\n",
       "    .dataframe tbody tr th:only-of-type {\n",
       "        vertical-align: middle;\n",
       "    }\n",
       "\n",
       "    .dataframe tbody tr th {\n",
       "        vertical-align: top;\n",
       "    }\n",
       "\n",
       "    .dataframe thead th {\n",
       "        text-align: right;\n",
       "    }\n",
       "</style>\n",
       "<table border=\"1\" class=\"dataframe\">\n",
       "  <thead>\n",
       "    <tr style=\"text-align: right;\">\n",
       "      <th></th>\n",
       "      <th>height</th>\n",
       "      <th>sex</th>\n",
       "    </tr>\n",
       "  </thead>\n",
       "  <tbody>\n",
       "    <tr>\n",
       "      <th>1995</th>\n",
       "      <td>157.964265</td>\n",
       "      <td>1</td>\n",
       "    </tr>\n",
       "    <tr>\n",
       "      <th>1996</th>\n",
       "      <td>159.930184</td>\n",
       "      <td>1</td>\n",
       "    </tr>\n",
       "    <tr>\n",
       "      <th>1997</th>\n",
       "      <td>160.825283</td>\n",
       "      <td>1</td>\n",
       "    </tr>\n",
       "    <tr>\n",
       "      <th>1998</th>\n",
       "      <td>159.942400</td>\n",
       "      <td>1</td>\n",
       "    </tr>\n",
       "    <tr>\n",
       "      <th>1999</th>\n",
       "      <td>160.283641</td>\n",
       "      <td>1</td>\n",
       "    </tr>\n",
       "  </tbody>\n",
       "</table>\n",
       "</div>"
      ],
      "text/plain": [
       "          height  sex\n",
       "1995  157.964265    1\n",
       "1996  159.930184    1\n",
       "1997  160.825283    1\n",
       "1998  159.942400    1\n",
       "1999  160.283641    1"
      ]
     },
     "execution_count": 25,
     "metadata": {},
     "output_type": "execute_result"
    }
   ],
   "source": [
    "X.tail()"
   ]
  },
  {
   "cell_type": "code",
   "execution_count": 26,
   "metadata": {
    "colab": {
     "base_uri": "https://localhost:8080/"
    },
    "executionInfo": {
     "elapsed": 42,
     "status": "ok",
     "timestamp": 1663496417898,
     "user": {
      "displayName": "Yongjin Jeong",
      "userId": "03658406798560557048"
     },
     "user_tz": -540
    },
    "id": "Y_z0Ta1Y7r_f",
    "outputId": "10e9c7b9-6601-46b6-f7e6-c05e76ccb027"
   },
   "outputs": [
    {
     "data": {
      "text/plain": [
       "array([57.07704812, 60.51204254, 61.72212748, 59.86863989, 59.55487224])"
      ]
     },
     "execution_count": 26,
     "metadata": {},
     "output_type": "execute_result"
    }
   ],
   "source": [
    "y[-5:]"
   ]
  },
  {
   "cell_type": "code",
   "execution_count": 27,
   "metadata": {
    "colab": {
     "base_uri": "https://localhost:8080/"
    },
    "executionInfo": {
     "elapsed": 41,
     "status": "ok",
     "timestamp": 1663496417899,
     "user": {
      "displayName": "Yongjin Jeong",
      "userId": "03658406798560557048"
     },
     "user_tz": -540
    },
    "id": "uNPBwFEN3nMK",
    "outputId": "15470739-b406-4ff5-bbac-95bb9dba3da2"
   },
   "outputs": [
    {
     "name": "stdout",
     "output_type": "stream",
     "text": [
      "[1.70307633 7.05270992] -219.57700598694538\n",
      "0.9089210587007336\n"
     ]
    }
   ],
   "source": [
    "X_train, X_test, y_train, y_test = train_test_split(X, y, test_size=0.2)\n",
    "leg = LinearRegression()\n",
    "leg.fit(X_train, y_train)\n",
    "\n",
    "print(leg.coef_, leg.intercept_)\n",
    "print(leg.score(X_test, y_test))"
   ]
  },
  {
   "cell_type": "code",
   "execution_count": 28,
   "metadata": {
    "id": "ri-5CFoR3nMK"
   },
   "outputs": [],
   "source": [
    "## 위의 결과는 1.67*zl + 6.8*성별 - 215.43 의 선형 모델 구성\n",
    "## score 는 92 % 로 향상\n",
    "## 성별은 0(남성), 1(여성)"
   ]
  },
  {
   "cell_type": "code",
   "execution_count": 29,
   "metadata": {
    "colab": {
     "base_uri": "https://localhost:8080/",
     "height": 363
    },
    "executionInfo": {
     "elapsed": 39,
     "status": "ok",
     "timestamp": 1663496417899,
     "user": {
      "displayName": "Yongjin Jeong",
      "userId": "03658406798560557048"
     },
     "user_tz": -540
    },
    "id": "5gQIue_K3nMK",
    "outputId": "2da5b230-9b5c-4bd3-d530-81c5becc3624"
   },
   "outputs": [
    {
     "data": {
      "text/html": [
       "<div>\n",
       "<style scoped>\n",
       "    .dataframe tbody tr th:only-of-type {\n",
       "        vertical-align: middle;\n",
       "    }\n",
       "\n",
       "    .dataframe tbody tr th {\n",
       "        vertical-align: top;\n",
       "    }\n",
       "\n",
       "    .dataframe thead th {\n",
       "        text-align: right;\n",
       "    }\n",
       "</style>\n",
       "<table border=\"1\" class=\"dataframe\">\n",
       "  <thead>\n",
       "    <tr style=\"text-align: right;\">\n",
       "      <th></th>\n",
       "      <th>height</th>\n",
       "      <th>sex</th>\n",
       "    </tr>\n",
       "  </thead>\n",
       "  <tbody>\n",
       "    <tr>\n",
       "      <th>148</th>\n",
       "      <td>163.645684</td>\n",
       "      <td>0</td>\n",
       "    </tr>\n",
       "    <tr>\n",
       "      <th>435</th>\n",
       "      <td>169.734231</td>\n",
       "      <td>0</td>\n",
       "    </tr>\n",
       "    <tr>\n",
       "      <th>954</th>\n",
       "      <td>174.913241</td>\n",
       "      <td>0</td>\n",
       "    </tr>\n",
       "    <tr>\n",
       "      <th>1021</th>\n",
       "      <td>159.082656</td>\n",
       "      <td>1</td>\n",
       "    </tr>\n",
       "    <tr>\n",
       "      <th>197</th>\n",
       "      <td>170.334634</td>\n",
       "      <td>0</td>\n",
       "    </tr>\n",
       "    <tr>\n",
       "      <th>1512</th>\n",
       "      <td>159.021826</td>\n",
       "      <td>1</td>\n",
       "    </tr>\n",
       "    <tr>\n",
       "      <th>513</th>\n",
       "      <td>166.639010</td>\n",
       "      <td>0</td>\n",
       "    </tr>\n",
       "    <tr>\n",
       "      <th>1104</th>\n",
       "      <td>165.257867</td>\n",
       "      <td>1</td>\n",
       "    </tr>\n",
       "    <tr>\n",
       "      <th>723</th>\n",
       "      <td>171.076031</td>\n",
       "      <td>0</td>\n",
       "    </tr>\n",
       "    <tr>\n",
       "      <th>65</th>\n",
       "      <td>169.938742</td>\n",
       "      <td>0</td>\n",
       "    </tr>\n",
       "  </tbody>\n",
       "</table>\n",
       "</div>"
      ],
      "text/plain": [
       "          height  sex\n",
       "148   163.645684    0\n",
       "435   169.734231    0\n",
       "954   174.913241    0\n",
       "1021  159.082656    1\n",
       "197   170.334634    0\n",
       "1512  159.021826    1\n",
       "513   166.639010    0\n",
       "1104  165.257867    1\n",
       "723   171.076031    0\n",
       "65    169.938742    0"
      ]
     },
     "execution_count": 29,
     "metadata": {},
     "output_type": "execute_result"
    }
   ],
   "source": [
    "X_train[:10]"
   ]
  },
  {
   "cell_type": "code",
   "execution_count": 30,
   "metadata": {
    "id": "2W034aSY3nMK"
   },
   "outputs": [],
   "source": [
    "# K-Fold Cross validation (교차겸증)\n",
    "from sklearn.model_selection import cross_val_score, KFold"
   ]
  },
  {
   "cell_type": "code",
   "execution_count": 31,
   "metadata": {
    "colab": {
     "base_uri": "https://localhost:8080/"
    },
    "executionInfo": {
     "elapsed": 38,
     "status": "ok",
     "timestamp": 1663496417900,
     "user": {
      "displayName": "Yongjin Jeong",
      "userId": "03658406798560557048"
     },
     "user_tz": -540
    },
    "id": "t2ofaSrS3nMK",
    "outputId": "760807ae-c5de-4cb9-d489-0e83c5980cd4"
   },
   "outputs": [
    {
     "data": {
      "text/plain": [
       "(2000, 2)"
      ]
     },
     "execution_count": 31,
     "metadata": {},
     "output_type": "execute_result"
    }
   ],
   "source": [
    "X.shape"
   ]
  },
  {
   "cell_type": "code",
   "execution_count": 32,
   "metadata": {
    "colab": {
     "base_uri": "https://localhost:8080/"
    },
    "executionInfo": {
     "elapsed": 37,
     "status": "ok",
     "timestamp": 1663496417900,
     "user": {
      "displayName": "Yongjin Jeong",
      "userId": "03658406798560557048"
     },
     "user_tz": -540
    },
    "id": "Gfvbdhim3nML",
    "outputId": "404eaf11-0c21-4b8e-c8b8-28bd69d7f687"
   },
   "outputs": [
    {
     "data": {
      "text/plain": [
       "(array([0.9253947 , 0.91108932, 0.92262005, 0.92975723, 0.90265663]),\n",
       " 0.918303586234576)"
      ]
     },
     "execution_count": 32,
     "metadata": {},
     "output_type": "execute_result"
    }
   ],
   "source": [
    "cv = KFold(n_splits=5, shuffle=True) # Whether to shuffle the data before \n",
    "                                      # splitting into batches.\n",
    "score = cross_val_score(leg, X, y, cv=cv)\n",
    "score, score.mean()"
   ]
  },
  {
   "cell_type": "code",
   "execution_count": 33,
   "metadata": {
    "colab": {
     "base_uri": "https://localhost:8080/"
    },
    "executionInfo": {
     "elapsed": 36,
     "status": "ok",
     "timestamp": 1663496417901,
     "user": {
      "displayName": "Yongjin Jeong",
      "userId": "03658406798560557048"
     },
     "user_tz": -540
    },
    "id": "WvBy0fqH3nML",
    "outputId": "f942a402-d777-43b5-fc78-42c9687d1d15"
   },
   "outputs": [
    {
     "name": "stdout",
     "output_type": "stream",
     "text": [
      "Train score: 0.999980016966141\n",
      "Test score: 0.8906793166070865\n"
     ]
    }
   ],
   "source": [
    "# decision tree\n",
    "from sklearn.tree import DecisionTreeRegressor \n",
    "dec_reg = DecisionTreeRegressor()\n",
    "dec_reg.fit(X_train, y_train) \n",
    "print(\"Train score: {}\".format(dec_reg.score(X_train, y_train)))\n",
    "print(\"Test score: {}\".format(dec_reg.score(X_test, y_test)))"
   ]
  },
  {
   "cell_type": "code",
   "execution_count": 34,
   "metadata": {
    "colab": {
     "base_uri": "https://localhost:8080/",
     "height": 206
    },
    "executionInfo": {
     "elapsed": 34,
     "status": "ok",
     "timestamp": 1663496417901,
     "user": {
      "displayName": "Yongjin Jeong",
      "userId": "03658406798560557048"
     },
     "user_tz": -540
    },
    "id": "rlST4XBl3nML",
    "outputId": "56de354f-a840-41d3-a2f9-18bf4421b8ba"
   },
   "outputs": [
    {
     "data": {
      "text/html": [
       "<div>\n",
       "<style scoped>\n",
       "    .dataframe tbody tr th:only-of-type {\n",
       "        vertical-align: middle;\n",
       "    }\n",
       "\n",
       "    .dataframe tbody tr th {\n",
       "        vertical-align: top;\n",
       "    }\n",
       "\n",
       "    .dataframe thead th {\n",
       "        text-align: right;\n",
       "    }\n",
       "</style>\n",
       "<table border=\"1\" class=\"dataframe\">\n",
       "  <thead>\n",
       "    <tr style=\"text-align: right;\">\n",
       "      <th></th>\n",
       "      <th>height</th>\n",
       "      <th>sex</th>\n",
       "    </tr>\n",
       "  </thead>\n",
       "  <tbody>\n",
       "    <tr>\n",
       "      <th>148</th>\n",
       "      <td>163.645684</td>\n",
       "      <td>0</td>\n",
       "    </tr>\n",
       "    <tr>\n",
       "      <th>435</th>\n",
       "      <td>169.734231</td>\n",
       "      <td>0</td>\n",
       "    </tr>\n",
       "    <tr>\n",
       "      <th>954</th>\n",
       "      <td>174.913241</td>\n",
       "      <td>0</td>\n",
       "    </tr>\n",
       "    <tr>\n",
       "      <th>1021</th>\n",
       "      <td>159.082656</td>\n",
       "      <td>1</td>\n",
       "    </tr>\n",
       "    <tr>\n",
       "      <th>197</th>\n",
       "      <td>170.334634</td>\n",
       "      <td>0</td>\n",
       "    </tr>\n",
       "  </tbody>\n",
       "</table>\n",
       "</div>"
      ],
      "text/plain": [
       "          height  sex\n",
       "148   163.645684    0\n",
       "435   169.734231    0\n",
       "954   174.913241    0\n",
       "1021  159.082656    1\n",
       "197   170.334634    0"
      ]
     },
     "execution_count": 34,
     "metadata": {},
     "output_type": "execute_result"
    }
   ],
   "source": [
    "X_train[:5]"
   ]
  },
  {
   "cell_type": "code",
   "execution_count": 35,
   "metadata": {
    "colab": {
     "base_uri": "https://localhost:8080/"
    },
    "executionInfo": {
     "elapsed": 33,
     "status": "ok",
     "timestamp": 1663496417901,
     "user": {
      "displayName": "Yongjin Jeong",
      "userId": "03658406798560557048"
     },
     "user_tz": -540
    },
    "id": "YGAZ_CIl3nML",
    "outputId": "c6cf2c28-321c-42b4-ac38-c6284efb29c7"
   },
   "outputs": [
    {
     "data": {
      "text/plain": [
       "array([60.22839029, 67.96955443, 78.66796453, 58.6425216 , 68.14895862])"
      ]
     },
     "execution_count": 35,
     "metadata": {},
     "output_type": "execute_result"
    }
   ],
   "source": [
    "y_train[:5]"
   ]
  },
  {
   "cell_type": "markdown",
   "metadata": {
    "id": "0S-_j9uBEV74"
   },
   "source": [
    "# Additional for Linear Regression\n",
    "- adjusted R-squared"
   ]
  },
  {
   "cell_type": "code",
   "execution_count": 36,
   "metadata": {
    "id": "swcvTKdhEcEf"
   },
   "outputs": [],
   "source": [
    "n_samples = 100\n",
    "x1 = 3*np.random.randn(n_samples) + 170\n",
    "y1 = 2*x1 - 270 + 2*np.random.randn(n_samples)"
   ]
  },
  {
   "cell_type": "code",
   "execution_count": 37,
   "metadata": {
    "colab": {
     "base_uri": "https://localhost:8080/"
    },
    "executionInfo": {
     "elapsed": 32,
     "status": "ok",
     "timestamp": 1663496417902,
     "user": {
      "displayName": "Yongjin Jeong",
      "userId": "03658406798560557048"
     },
     "user_tz": -540
    },
    "id": "NCUC2zpiGF3u",
    "outputId": "ad42a953-3deb-45e0-c929-95a9458157bc"
   },
   "outputs": [
    {
     "name": "stdout",
     "output_type": "stream",
     "text": [
      "0.8972651222157284\n",
      "[2.03840223] -276.51814283324086\n"
     ]
    }
   ],
   "source": [
    "model1 = LinearRegression()\n",
    "model1.fit(x1.reshape(-1,1), y1)\n",
    "print(model1.score(x1.reshape(-1,1), y1))\n",
    "print(model1.coef_, model1.intercept_)"
   ]
  },
  {
   "cell_type": "code",
   "execution_count": 38,
   "metadata": {
    "colab": {
     "base_uri": "https://localhost:8080/"
    },
    "executionInfo": {
     "elapsed": 30,
     "status": "ok",
     "timestamp": 1663496417902,
     "user": {
      "displayName": "Yongjin Jeong",
      "userId": "03658406798560557048"
     },
     "user_tz": -540
    },
    "id": "gaEpLErwGDGQ",
    "outputId": "ad34fe47-bef8-4c23-eec9-ac01336f76da"
   },
   "outputs": [
    {
     "name": "stdout",
     "output_type": "stream",
     "text": [
      "0.897771550342148\n",
      "[2.04187817 0.12767034] -277.10409825654204\n"
     ]
    }
   ],
   "source": [
    "x2 = np.random.randn(n_samples)\n",
    "model2 = LinearRegression()\n",
    "model2.fit(np.c_[x1, x2], y1)\n",
    "print(model2.score(np.c_[x1, x2], y1))\n",
    "print(model2.coef_, model2.intercept_)"
   ]
  },
  {
   "cell_type": "code",
   "execution_count": 39,
   "metadata": {
    "colab": {
     "base_uri": "https://localhost:8080/"
    },
    "executionInfo": {
     "elapsed": 28,
     "status": "ok",
     "timestamp": 1663496417902,
     "user": {
      "displayName": "Yongjin Jeong",
      "userId": "03658406798560557048"
     },
     "user_tz": -540
    },
    "id": "ckAzC7mbI2Z5",
    "outputId": "e193c439-8ff2-4021-ec4a-a9e37d2729c2"
   },
   "outputs": [
    {
     "name": "stdout",
     "output_type": "stream",
     "text": [
      "0.901739815444511\n",
      "[ 2.04981906  0.10978805 -0.00377319] -278.4635768568692\n"
     ]
    }
   ],
   "source": [
    "x3 = np.random.randn(n_samples) * 100\n",
    "model3 = LinearRegression()\n",
    "model3.fit(np.c_[x1, x2, x3], y1)\n",
    "print(model3.score(np.c_[x1, x2, x3], y1))\n",
    "print(model3.coef_, model3.intercept_)"
   ]
  },
  {
   "cell_type": "code",
   "execution_count": 40,
   "metadata": {
    "colab": {
     "base_uri": "https://localhost:8080/"
    },
    "executionInfo": {
     "elapsed": 28,
     "status": "ok",
     "timestamp": 1663496417903,
     "user": {
      "displayName": "Yongjin Jeong",
      "userId": "03658406798560557048"
     },
     "user_tz": -540
    },
    "id": "-FK2cZ-sJmx8",
    "outputId": "f5d11704-af0e-49ec-c87c-afdb62aefa4e"
   },
   "outputs": [
    {
     "name": "stdout",
     "output_type": "stream",
     "text": [
      "0.9223681431877475\n",
      "[ 2.05168218  0.1929866  -0.00269778 -0.06006401 -0.59095822 -0.18250852\n",
      " -0.01454521  0.31964398 -0.19605654 -0.28470115 -0.22172303  0.20943538\n",
      "  0.29399436 -0.18600198 -0.11827228  0.17343559  0.00381619 -0.02881027\n",
      "  0.14773304  0.34622692 -0.38670848  0.10837072  0.00287211] -278.8037186099401\n"
     ]
    }
   ],
   "source": [
    "x4 = np.random.randn(n_samples,20)   # 100x20\n",
    "x_all = np.concatenate((np.c_[x1, x2, x3], x4), axis=1)   # 100x23\n",
    "\n",
    "model4 = LinearRegression()\n",
    "model4.fit(x_all, y1)\n",
    "print(model4.score(x_all, y1))\n",
    "print(model4.coef_, model4.intercept_)"
   ]
  },
  {
   "cell_type": "markdown",
   "metadata": {
    "id": "fQPAIBEXKmEw"
   },
   "source": [
    "- R-square is deceptive. R-squared **never decreases** when a new X variable is added to the model."
   ]
  },
  {
   "cell_type": "markdown",
   "metadata": {
    "id": "02SPekJ1RgGR"
   },
   "source": [
    "- Adjustred R-squared: \n",
    "  - It identifies the percentage of variance in the target field that is explained by the input or inputs.\n",
    "  - it is always less than R-squared.\n",
    "  - A value of 1 indicates a model that perfectly predicts values in the target field. \n",
    "  - A value that is less than or equal to 0 indicates a model that has no predictive value. In the real world, adjusted R2 lies between these values.\n",
    "  - The definition is shown in the following example.\n",
    "- The adjusted R2 tells you the percentage of variation explained by only the feature variables that actually affect the target variable.\n",
    "- If n is large, not that big difference. But, when n is small, it can give significant difference."
   ]
  },
  {
   "cell_type": "code",
   "execution_count": 41,
   "metadata": {
    "id": "UH1kQP1MLbHT"
   },
   "outputs": [],
   "source": [
    "def adj_R2 (X, y, R2): \n",
    "    n = len(y)      # no of samples\n",
    "    p = X.shape[1]  # no of features\n",
    "    return (1 - (1-R2)*(n-1)/(n-p-1))"
   ]
  },
  {
   "cell_type": "code",
   "execution_count": 42,
   "metadata": {
    "colab": {
     "base_uri": "https://localhost:8080/"
    },
    "executionInfo": {
     "elapsed": 26,
     "status": "ok",
     "timestamp": 1663496417903,
     "user": {
      "displayName": "Yongjin Jeong",
      "userId": "03658406798560557048"
     },
     "user_tz": -540
    },
    "id": "ON4--p5yUlRj",
    "outputId": "8d31d318-f15b-4c75-ee2f-473abbde5c90"
   },
   "outputs": [
    {
     "name": "stdout",
     "output_type": "stream",
     "text": [
      "0.8972651222157284 0.896216807136297\n"
     ]
    }
   ],
   "source": [
    "model1 = LinearRegression()\n",
    "model1.fit(x1.reshape(-1,1), y1)\n",
    "R2 = model1.score(x1.reshape(-1,1), y1)\n",
    "print(R2, adj_R2(x1.reshape(-1,1), y1, R2))"
   ]
  },
  {
   "cell_type": "code",
   "execution_count": 43,
   "metadata": {
    "colab": {
     "base_uri": "https://localhost:8080/"
    },
    "executionInfo": {
     "elapsed": 26,
     "status": "ok",
     "timestamp": 1663496417904,
     "user": {
      "displayName": "Yongjin Jeong",
      "userId": "03658406798560557048"
     },
     "user_tz": -540
    },
    "id": "C5hEOY7XViir",
    "outputId": "28ecd16f-9e6a-4fb3-9f55-3b78c025a582"
   },
   "outputs": [
    {
     "name": "stdout",
     "output_type": "stream",
     "text": [
      "0.8972822287193776 0.8951643365280245\n"
     ]
    }
   ],
   "source": [
    "x2 = np.random.randn(n_samples)\n",
    "model2 = LinearRegression()\n",
    "model2.fit(np.c_[x1, x2], y1)\n",
    "\n",
    "R2 = model2.score(np.c_[x1, x2], y1)\n",
    "print(R2, adj_R2(np.c_[x1, x2], y1, R2))"
   ]
  },
  {
   "cell_type": "code",
   "execution_count": 44,
   "metadata": {
    "colab": {
     "base_uri": "https://localhost:8080/"
    },
    "executionInfo": {
     "elapsed": 24,
     "status": "ok",
     "timestamp": 1663496417904,
     "user": {
      "displayName": "Yongjin Jeong",
      "userId": "03658406798560557048"
     },
     "user_tz": -540
    },
    "id": "CAG6dmPvWH7S",
    "outputId": "4908344a-82e1-4480-bb32-1d9bc632bfb5"
   },
   "outputs": [
    {
     "name": "stdout",
     "output_type": "stream",
     "text": [
      "0.9129517650495661 0.8866082202619348\n"
     ]
    }
   ],
   "source": [
    "x4 = np.random.randn(n_samples,20)   # 1000x20\n",
    "x_all = np.concatenate((np.c_[x1, x2, x3], x4), axis=1)   # 1000x23\n",
    "\n",
    "model4 = LinearRegression()\n",
    "model4.fit(x_all, y1)\n",
    "R2 = model4.score(x_all, y1)\n",
    "print(R2, adj_R2(x_all, y1, R2))"
   ]
  },
  {
   "cell_type": "markdown",
   "metadata": {
    "id": "2Gb-4tg_YXj0"
   },
   "source": [
    "- another way (use statsmodels.api)"
   ]
  },
  {
   "cell_type": "code",
   "execution_count": 45,
   "metadata": {
    "colab": {
     "base_uri": "https://localhost:8080/"
    },
    "executionInfo": {
     "elapsed": 564,
     "status": "ok",
     "timestamp": 1663496418445,
     "user": {
      "displayName": "Yongjin Jeong",
      "userId": "03658406798560557048"
     },
     "user_tz": -540
    },
    "id": "4miuJ3p1XQvc",
    "outputId": "438cea25-b4b3-432b-9f2e-f334ce7648b7"
   },
   "outputs": [
    {
     "name": "stdout",
     "output_type": "stream",
     "text": [
      "0.8972651222157285 0.8962168071362971\n"
     ]
    }
   ],
   "source": [
    "# another way\n",
    "import statsmodels.api as sm\n",
    "\n",
    "X1 = sm.add_constant(x1.reshape(-1,1))\n",
    "result = sm.OLS(y1, X1).fit()  # OLS(ordinary least square) - linear\n",
    "print (result.rsquared, result.rsquared_adj)"
   ]
  },
  {
   "cell_type": "code",
   "execution_count": 46,
   "metadata": {
    "colab": {
     "base_uri": "https://localhost:8080/"
    },
    "executionInfo": {
     "elapsed": 11,
     "status": "ok",
     "timestamp": 1663496418445,
     "user": {
      "displayName": "Yongjin Jeong",
      "userId": "03658406798560557048"
     },
     "user_tz": -540
    },
    "id": "gOOyWCK4Ydmq",
    "outputId": "5d4f3eca-e439-4675-b846-9cca981eb484"
   },
   "outputs": [
    {
     "name": "stdout",
     "output_type": "stream",
     "text": [
      "0.897282228719378 0.895164336528025\n"
     ]
    }
   ],
   "source": [
    "X1 = sm.add_constant(np.c_[x1, x2])\n",
    "result = sm.OLS(y1, X1).fit()  # OLS(ordinary least square) - linear\n",
    "print (result.rsquared, result.rsquared_adj)"
   ]
  },
  {
   "cell_type": "code",
   "execution_count": 47,
   "metadata": {
    "colab": {
     "base_uri": "https://localhost:8080/"
    },
    "executionInfo": {
     "elapsed": 501,
     "status": "ok",
     "timestamp": 1663496418938,
     "user": {
      "displayName": "Yongjin Jeong",
      "userId": "03658406798560557048"
     },
     "user_tz": -540
    },
    "id": "PMwyH8uMXmZi",
    "outputId": "631b84d6-117d-4191-e1dd-391a6c161b2d"
   },
   "outputs": [
    {
     "name": "stdout",
     "output_type": "stream",
     "text": [
      "0.9129517650495653 0.8866082202619338\n"
     ]
    }
   ],
   "source": [
    "X1 = sm.add_constant(x_all)\n",
    "result = sm.OLS(y1, X1).fit()  \n",
    "print (result.rsquared, result.rsquared_adj)"
   ]
  },
  {
   "cell_type": "code",
   "execution_count": 48,
   "metadata": {
    "colab": {
     "base_uri": "https://localhost:8080/",
     "height": 948
    },
    "executionInfo": {
     "elapsed": 33,
     "status": "ok",
     "timestamp": 1663496418939,
     "user": {
      "displayName": "Yongjin Jeong",
      "userId": "03658406798560557048"
     },
     "user_tz": -540
    },
    "id": "mMZQf0CLY87i",
    "outputId": "de774479-37c1-4396-f4ad-79ba5c07e658"
   },
   "outputs": [
    {
     "data": {
      "text/html": [
       "<table class=\"simpletable\">\n",
       "<caption>OLS Regression Results</caption>\n",
       "<tr>\n",
       "  <th>Dep. Variable:</th>            <td>y</td>        <th>  R-squared:         </th> <td>   0.913</td>\n",
       "</tr>\n",
       "<tr>\n",
       "  <th>Model:</th>                   <td>OLS</td>       <th>  Adj. R-squared:    </th> <td>   0.887</td>\n",
       "</tr>\n",
       "<tr>\n",
       "  <th>Method:</th>             <td>Least Squares</td>  <th>  F-statistic:       </th> <td>   34.66</td>\n",
       "</tr>\n",
       "<tr>\n",
       "  <th>Date:</th>             <td>Mon, 14 Nov 2022</td> <th>  Prob (F-statistic):</th> <td>2.82e-31</td>\n",
       "</tr>\n",
       "<tr>\n",
       "  <th>Time:</th>                 <td>12:44:09</td>     <th>  Log-Likelihood:    </th> <td> -195.31</td>\n",
       "</tr>\n",
       "<tr>\n",
       "  <th>No. Observations:</th>      <td>   100</td>      <th>  AIC:               </th> <td>   438.6</td>\n",
       "</tr>\n",
       "<tr>\n",
       "  <th>Df Residuals:</th>          <td>    76</td>      <th>  BIC:               </th> <td>   501.1</td>\n",
       "</tr>\n",
       "<tr>\n",
       "  <th>Df Model:</th>              <td>    23</td>      <th>                     </th>     <td> </td>   \n",
       "</tr>\n",
       "<tr>\n",
       "  <th>Covariance Type:</th>      <td>nonrobust</td>    <th>                     </th>     <td> </td>   \n",
       "</tr>\n",
       "</table>\n",
       "<table class=\"simpletable\">\n",
       "<tr>\n",
       "    <td></td>       <th>coef</th>     <th>std err</th>      <th>t</th>      <th>P>|t|</th>  <th>[0.025</th>    <th>0.975]</th>  \n",
       "</tr>\n",
       "<tr>\n",
       "  <th>const</th> <td> -275.9028</td> <td>   14.546</td> <td>  -18.967</td> <td> 0.000</td> <td> -304.874</td> <td> -246.932</td>\n",
       "</tr>\n",
       "<tr>\n",
       "  <th>x1</th>    <td>    2.0353</td> <td>    0.085</td> <td>   23.850</td> <td> 0.000</td> <td>    1.865</td> <td>    2.205</td>\n",
       "</tr>\n",
       "<tr>\n",
       "  <th>x2</th>    <td>    0.0668</td> <td>    0.206</td> <td>    0.324</td> <td> 0.747</td> <td>   -0.344</td> <td>    0.478</td>\n",
       "</tr>\n",
       "<tr>\n",
       "  <th>x3</th>    <td>   -0.0033</td> <td>    0.002</td> <td>   -1.485</td> <td> 0.142</td> <td>   -0.008</td> <td>    0.001</td>\n",
       "</tr>\n",
       "<tr>\n",
       "  <th>x4</th>    <td>    0.1768</td> <td>    0.227</td> <td>    0.777</td> <td> 0.439</td> <td>   -0.276</td> <td>    0.630</td>\n",
       "</tr>\n",
       "<tr>\n",
       "  <th>x5</th>    <td>    0.1200</td> <td>    0.236</td> <td>    0.509</td> <td> 0.612</td> <td>   -0.349</td> <td>    0.589</td>\n",
       "</tr>\n",
       "<tr>\n",
       "  <th>x6</th>    <td>    0.1471</td> <td>    0.213</td> <td>    0.692</td> <td> 0.491</td> <td>   -0.277</td> <td>    0.571</td>\n",
       "</tr>\n",
       "<tr>\n",
       "  <th>x7</th>    <td>   -0.0494</td> <td>    0.214</td> <td>   -0.231</td> <td> 0.818</td> <td>   -0.476</td> <td>    0.377</td>\n",
       "</tr>\n",
       "<tr>\n",
       "  <th>x8</th>    <td>    0.1197</td> <td>    0.232</td> <td>    0.517</td> <td> 0.607</td> <td>   -0.342</td> <td>    0.581</td>\n",
       "</tr>\n",
       "<tr>\n",
       "  <th>x9</th>    <td>   -0.0153</td> <td>    0.235</td> <td>   -0.065</td> <td> 0.948</td> <td>   -0.483</td> <td>    0.452</td>\n",
       "</tr>\n",
       "<tr>\n",
       "  <th>x10</th>   <td>    0.0274</td> <td>    0.230</td> <td>    0.119</td> <td> 0.905</td> <td>   -0.431</td> <td>    0.486</td>\n",
       "</tr>\n",
       "<tr>\n",
       "  <th>x11</th>   <td>    0.2185</td> <td>    0.232</td> <td>    0.943</td> <td> 0.349</td> <td>   -0.243</td> <td>    0.680</td>\n",
       "</tr>\n",
       "<tr>\n",
       "  <th>x12</th>   <td>   -0.1797</td> <td>    0.236</td> <td>   -0.763</td> <td> 0.448</td> <td>   -0.649</td> <td>    0.289</td>\n",
       "</tr>\n",
       "<tr>\n",
       "  <th>x13</th>   <td>   -0.0515</td> <td>    0.212</td> <td>   -0.243</td> <td> 0.809</td> <td>   -0.474</td> <td>    0.371</td>\n",
       "</tr>\n",
       "<tr>\n",
       "  <th>x14</th>   <td>   -0.0153</td> <td>    0.223</td> <td>   -0.069</td> <td> 0.945</td> <td>   -0.460</td> <td>    0.429</td>\n",
       "</tr>\n",
       "<tr>\n",
       "  <th>x15</th>   <td>    0.1039</td> <td>    0.241</td> <td>    0.432</td> <td> 0.667</td> <td>   -0.375</td> <td>    0.583</td>\n",
       "</tr>\n",
       "<tr>\n",
       "  <th>x16</th>   <td>    0.2156</td> <td>    0.249</td> <td>    0.866</td> <td> 0.389</td> <td>   -0.280</td> <td>    0.712</td>\n",
       "</tr>\n",
       "<tr>\n",
       "  <th>x17</th>   <td>   -0.2014</td> <td>    0.226</td> <td>   -0.893</td> <td> 0.375</td> <td>   -0.651</td> <td>    0.248</td>\n",
       "</tr>\n",
       "<tr>\n",
       "  <th>x18</th>   <td>   -0.1732</td> <td>    0.255</td> <td>   -0.678</td> <td> 0.500</td> <td>   -0.682</td> <td>    0.335</td>\n",
       "</tr>\n",
       "<tr>\n",
       "  <th>x19</th>   <td>   -0.2360</td> <td>    0.241</td> <td>   -0.978</td> <td> 0.331</td> <td>   -0.717</td> <td>    0.245</td>\n",
       "</tr>\n",
       "<tr>\n",
       "  <th>x20</th>   <td> 2.223e-06</td> <td>    0.237</td> <td>  9.4e-06</td> <td> 1.000</td> <td>   -0.471</td> <td>    0.471</td>\n",
       "</tr>\n",
       "<tr>\n",
       "  <th>x21</th>   <td>   -0.0163</td> <td>    0.241</td> <td>   -0.068</td> <td> 0.946</td> <td>   -0.497</td> <td>    0.465</td>\n",
       "</tr>\n",
       "<tr>\n",
       "  <th>x22</th>   <td>    0.2102</td> <td>    0.250</td> <td>    0.842</td> <td> 0.402</td> <td>   -0.287</td> <td>    0.707</td>\n",
       "</tr>\n",
       "<tr>\n",
       "  <th>x23</th>   <td>   -0.2726</td> <td>    0.241</td> <td>   -1.129</td> <td> 0.262</td> <td>   -0.753</td> <td>    0.208</td>\n",
       "</tr>\n",
       "</table>\n",
       "<table class=\"simpletable\">\n",
       "<tr>\n",
       "  <th>Omnibus:</th>       <td> 7.057</td> <th>  Durbin-Watson:     </th> <td>   1.700</td>\n",
       "</tr>\n",
       "<tr>\n",
       "  <th>Prob(Omnibus):</th> <td> 0.029</td> <th>  Jarque-Bera (JB):  </th> <td>   3.561</td>\n",
       "</tr>\n",
       "<tr>\n",
       "  <th>Skew:</th>          <td> 0.221</td> <th>  Prob(JB):          </th> <td>   0.169</td>\n",
       "</tr>\n",
       "<tr>\n",
       "  <th>Kurtosis:</th>      <td> 2.188</td> <th>  Cond. No.          </th> <td>1.27e+04</td>\n",
       "</tr>\n",
       "</table><br/><br/>Notes:<br/>[1] Standard Errors assume that the covariance matrix of the errors is correctly specified.<br/>[2] The condition number is large, 1.27e+04. This might indicate that there are<br/>strong multicollinearity or other numerical problems."
      ],
      "text/plain": [
       "<class 'statsmodels.iolib.summary.Summary'>\n",
       "\"\"\"\n",
       "                            OLS Regression Results                            \n",
       "==============================================================================\n",
       "Dep. Variable:                      y   R-squared:                       0.913\n",
       "Model:                            OLS   Adj. R-squared:                  0.887\n",
       "Method:                 Least Squares   F-statistic:                     34.66\n",
       "Date:                Mon, 14 Nov 2022   Prob (F-statistic):           2.82e-31\n",
       "Time:                        12:44:09   Log-Likelihood:                -195.31\n",
       "No. Observations:                 100   AIC:                             438.6\n",
       "Df Residuals:                      76   BIC:                             501.1\n",
       "Df Model:                          23                                         \n",
       "Covariance Type:            nonrobust                                         \n",
       "==============================================================================\n",
       "                 coef    std err          t      P>|t|      [0.025      0.975]\n",
       "------------------------------------------------------------------------------\n",
       "const       -275.9028     14.546    -18.967      0.000    -304.874    -246.932\n",
       "x1             2.0353      0.085     23.850      0.000       1.865       2.205\n",
       "x2             0.0668      0.206      0.324      0.747      -0.344       0.478\n",
       "x3            -0.0033      0.002     -1.485      0.142      -0.008       0.001\n",
       "x4             0.1768      0.227      0.777      0.439      -0.276       0.630\n",
       "x5             0.1200      0.236      0.509      0.612      -0.349       0.589\n",
       "x6             0.1471      0.213      0.692      0.491      -0.277       0.571\n",
       "x7            -0.0494      0.214     -0.231      0.818      -0.476       0.377\n",
       "x8             0.1197      0.232      0.517      0.607      -0.342       0.581\n",
       "x9            -0.0153      0.235     -0.065      0.948      -0.483       0.452\n",
       "x10            0.0274      0.230      0.119      0.905      -0.431       0.486\n",
       "x11            0.2185      0.232      0.943      0.349      -0.243       0.680\n",
       "x12           -0.1797      0.236     -0.763      0.448      -0.649       0.289\n",
       "x13           -0.0515      0.212     -0.243      0.809      -0.474       0.371\n",
       "x14           -0.0153      0.223     -0.069      0.945      -0.460       0.429\n",
       "x15            0.1039      0.241      0.432      0.667      -0.375       0.583\n",
       "x16            0.2156      0.249      0.866      0.389      -0.280       0.712\n",
       "x17           -0.2014      0.226     -0.893      0.375      -0.651       0.248\n",
       "x18           -0.1732      0.255     -0.678      0.500      -0.682       0.335\n",
       "x19           -0.2360      0.241     -0.978      0.331      -0.717       0.245\n",
       "x20         2.223e-06      0.237    9.4e-06      1.000      -0.471       0.471\n",
       "x21           -0.0163      0.241     -0.068      0.946      -0.497       0.465\n",
       "x22            0.2102      0.250      0.842      0.402      -0.287       0.707\n",
       "x23           -0.2726      0.241     -1.129      0.262      -0.753       0.208\n",
       "==============================================================================\n",
       "Omnibus:                        7.057   Durbin-Watson:                   1.700\n",
       "Prob(Omnibus):                  0.029   Jarque-Bera (JB):                3.561\n",
       "Skew:                           0.221   Prob(JB):                        0.169\n",
       "Kurtosis:                       2.188   Cond. No.                     1.27e+04\n",
       "==============================================================================\n",
       "\n",
       "Notes:\n",
       "[1] Standard Errors assume that the covariance matrix of the errors is correctly specified.\n",
       "[2] The condition number is large, 1.27e+04. This might indicate that there are\n",
       "strong multicollinearity or other numerical problems.\n",
       "\"\"\""
      ]
     },
     "execution_count": 48,
     "metadata": {},
     "output_type": "execute_result"
    }
   ],
   "source": [
    "result.summary()"
   ]
  },
  {
   "cell_type": "markdown",
   "metadata": {
    "id": "JIuLfqjdojV1"
   },
   "source": [
    "# Additional 2\n",
    "- let's see how p-values are obtained\n",
    "- https://stackoverflow.com/questions/27928275/find-p-value-significance-in-scikit-learn-linearregression"
   ]
  },
  {
   "cell_type": "code",
   "execution_count": 49,
   "metadata": {
    "colab": {
     "base_uri": "https://localhost:8080/"
    },
    "executionInfo": {
     "elapsed": 31,
     "status": "ok",
     "timestamp": 1663496418939,
     "user": {
      "displayName": "Yongjin Jeong",
      "userId": "03658406798560557048"
     },
     "user_tz": -540
    },
    "id": "ybkrMopZY-Ui",
    "outputId": "cf159e22-46f1-4afc-80c6-e7316bb2e517"
   },
   "outputs": [
    {
     "name": "stdout",
     "output_type": "stream",
     "text": [
      "                            OLS Regression Results                            \n",
      "==============================================================================\n",
      "Dep. Variable:                      y   R-squared:                       0.518\n",
      "Model:                            OLS   Adj. R-squared:                  0.507\n",
      "Method:                 Least Squares   F-statistic:                     46.27\n",
      "Date:                Mon, 14 Nov 2022   Prob (F-statistic):           3.83e-62\n",
      "Time:                        12:44:20   Log-Likelihood:                -2386.0\n",
      "No. Observations:                 442   AIC:                             4794.\n",
      "Df Residuals:                     431   BIC:                             4839.\n",
      "Df Model:                          10                                         \n",
      "Covariance Type:            nonrobust                                         \n",
      "==============================================================================\n",
      "                 coef    std err          t      P>|t|      [0.025      0.975]\n",
      "------------------------------------------------------------------------------\n",
      "const        152.1335      2.576     59.061      0.000     147.071     157.196\n",
      "x1           -10.0122     59.749     -0.168      0.867    -127.448     107.424\n",
      "x2          -239.8191     61.222     -3.917      0.000    -360.151    -119.488\n",
      "x3           519.8398     66.534      7.813      0.000     389.069     650.610\n",
      "x4           324.3904     65.422      4.958      0.000     195.805     452.976\n",
      "x5          -792.1842    416.684     -1.901      0.058   -1611.169      26.801\n",
      "x6           476.7458    339.035      1.406      0.160    -189.621    1143.113\n",
      "x7           101.0446    212.533      0.475      0.635    -316.685     518.774\n",
      "x8           177.0642    161.476      1.097      0.273    -140.313     494.442\n",
      "x9           751.2793    171.902      4.370      0.000     413.409    1089.150\n",
      "x10           67.6254     65.984      1.025      0.306     -62.065     197.316\n",
      "==============================================================================\n",
      "Omnibus:                        1.506   Durbin-Watson:                   2.029\n",
      "Prob(Omnibus):                  0.471   Jarque-Bera (JB):                1.404\n",
      "Skew:                           0.017   Prob(JB):                        0.496\n",
      "Kurtosis:                       2.726   Cond. No.                         227.\n",
      "==============================================================================\n",
      "\n",
      "Notes:\n",
      "[1] Standard Errors assume that the covariance matrix of the errors is correctly specified.\n"
     ]
    }
   ],
   "source": [
    "import pandas as pd\n",
    "import numpy as np\n",
    "from sklearn import datasets, linear_model\n",
    "from sklearn.linear_model import LinearRegression\n",
    "import statsmodels.api as sm\n",
    "from scipy import stats\n",
    "\n",
    "diabetes = datasets.load_diabetes()\n",
    "X = diabetes.data\n",
    "y = diabetes.target\n",
    "\n",
    "X2 = sm.add_constant(X)\n",
    "est = sm.OLS(y, X2)\n",
    "est2 = est.fit()\n",
    "print(est2.summary())"
   ]
  },
  {
   "cell_type": "markdown",
   "metadata": {
    "id": "4Jt3NtF_o3dU"
   },
   "source": [
    "- now let's try to reproduce it"
   ]
  },
  {
   "cell_type": "code",
   "execution_count": 50,
   "metadata": {
    "colab": {
     "base_uri": "https://localhost:8080/",
     "height": 206
    },
    "executionInfo": {
     "elapsed": 28,
     "status": "ok",
     "timestamp": 1663496418940,
     "user": {
      "displayName": "Yongjin Jeong",
      "userId": "03658406798560557048"
     },
     "user_tz": -540
    },
    "id": "3v7SvfM1qYUM",
    "outputId": "4861e6bc-7acd-4210-f6f8-1392cdf75082"
   },
   "outputs": [
    {
     "data": {
      "text/html": [
       "<div>\n",
       "<style scoped>\n",
       "    .dataframe tbody tr th:only-of-type {\n",
       "        vertical-align: middle;\n",
       "    }\n",
       "\n",
       "    .dataframe tbody tr th {\n",
       "        vertical-align: top;\n",
       "    }\n",
       "\n",
       "    .dataframe thead th {\n",
       "        text-align: right;\n",
       "    }\n",
       "</style>\n",
       "<table border=\"1\" class=\"dataframe\">\n",
       "  <thead>\n",
       "    <tr style=\"text-align: right;\">\n",
       "      <th></th>\n",
       "      <th>0</th>\n",
       "      <th>1</th>\n",
       "      <th>2</th>\n",
       "      <th>3</th>\n",
       "      <th>4</th>\n",
       "      <th>5</th>\n",
       "      <th>6</th>\n",
       "      <th>7</th>\n",
       "      <th>8</th>\n",
       "      <th>9</th>\n",
       "    </tr>\n",
       "  </thead>\n",
       "  <tbody>\n",
       "    <tr>\n",
       "      <th>0</th>\n",
       "      <td>0.038076</td>\n",
       "      <td>0.050680</td>\n",
       "      <td>0.061696</td>\n",
       "      <td>0.021872</td>\n",
       "      <td>-0.044223</td>\n",
       "      <td>-0.034821</td>\n",
       "      <td>-0.043401</td>\n",
       "      <td>-0.002592</td>\n",
       "      <td>0.019908</td>\n",
       "      <td>-0.017646</td>\n",
       "    </tr>\n",
       "    <tr>\n",
       "      <th>1</th>\n",
       "      <td>-0.001882</td>\n",
       "      <td>-0.044642</td>\n",
       "      <td>-0.051474</td>\n",
       "      <td>-0.026328</td>\n",
       "      <td>-0.008449</td>\n",
       "      <td>-0.019163</td>\n",
       "      <td>0.074412</td>\n",
       "      <td>-0.039493</td>\n",
       "      <td>-0.068330</td>\n",
       "      <td>-0.092204</td>\n",
       "    </tr>\n",
       "    <tr>\n",
       "      <th>2</th>\n",
       "      <td>0.085299</td>\n",
       "      <td>0.050680</td>\n",
       "      <td>0.044451</td>\n",
       "      <td>-0.005671</td>\n",
       "      <td>-0.045599</td>\n",
       "      <td>-0.034194</td>\n",
       "      <td>-0.032356</td>\n",
       "      <td>-0.002592</td>\n",
       "      <td>0.002864</td>\n",
       "      <td>-0.025930</td>\n",
       "    </tr>\n",
       "    <tr>\n",
       "      <th>3</th>\n",
       "      <td>-0.089063</td>\n",
       "      <td>-0.044642</td>\n",
       "      <td>-0.011595</td>\n",
       "      <td>-0.036656</td>\n",
       "      <td>0.012191</td>\n",
       "      <td>0.024991</td>\n",
       "      <td>-0.036038</td>\n",
       "      <td>0.034309</td>\n",
       "      <td>0.022692</td>\n",
       "      <td>-0.009362</td>\n",
       "    </tr>\n",
       "    <tr>\n",
       "      <th>4</th>\n",
       "      <td>0.005383</td>\n",
       "      <td>-0.044642</td>\n",
       "      <td>-0.036385</td>\n",
       "      <td>0.021872</td>\n",
       "      <td>0.003935</td>\n",
       "      <td>0.015596</td>\n",
       "      <td>0.008142</td>\n",
       "      <td>-0.002592</td>\n",
       "      <td>-0.031991</td>\n",
       "      <td>-0.046641</td>\n",
       "    </tr>\n",
       "  </tbody>\n",
       "</table>\n",
       "</div>"
      ],
      "text/plain": [
       "          0         1         2         3         4         5         6  \\\n",
       "0  0.038076  0.050680  0.061696  0.021872 -0.044223 -0.034821 -0.043401   \n",
       "1 -0.001882 -0.044642 -0.051474 -0.026328 -0.008449 -0.019163  0.074412   \n",
       "2  0.085299  0.050680  0.044451 -0.005671 -0.045599 -0.034194 -0.032356   \n",
       "3 -0.089063 -0.044642 -0.011595 -0.036656  0.012191  0.024991 -0.036038   \n",
       "4  0.005383 -0.044642 -0.036385  0.021872  0.003935  0.015596  0.008142   \n",
       "\n",
       "          7         8         9  \n",
       "0 -0.002592  0.019908 -0.017646  \n",
       "1 -0.039493 -0.068330 -0.092204  \n",
       "2 -0.002592  0.002864 -0.025930  \n",
       "3  0.034309  0.022692 -0.009362  \n",
       "4 -0.002592 -0.031991 -0.046641  "
      ]
     },
     "execution_count": 50,
     "metadata": {},
     "output_type": "execute_result"
    }
   ],
   "source": [
    "pd.DataFrame(X).head()"
   ]
  },
  {
   "cell_type": "code",
   "execution_count": 51,
   "metadata": {
    "colab": {
     "base_uri": "https://localhost:8080/"
    },
    "executionInfo": {
     "elapsed": 27,
     "status": "ok",
     "timestamp": 1663496418940,
     "user": {
      "displayName": "Yongjin Jeong",
      "userId": "03658406798560557048"
     },
     "user_tz": -540
    },
    "id": "RXRZ4iDLqmwt",
    "outputId": "201d279e-25a0-46b8-f97b-38bff4079f13"
   },
   "outputs": [
    {
     "data": {
      "text/plain": [
       "array([151.,  75., 141., 206., 135.])"
      ]
     },
     "execution_count": 51,
     "metadata": {},
     "output_type": "execute_result"
    }
   ],
   "source": [
    "y[:5]"
   ]
  },
  {
   "cell_type": "code",
   "execution_count": 52,
   "metadata": {
    "colab": {
     "base_uri": "https://localhost:8080/",
     "height": 206
    },
    "executionInfo": {
     "elapsed": 23,
     "status": "ok",
     "timestamp": 1663496418940,
     "user": {
      "displayName": "Yongjin Jeong",
      "userId": "03658406798560557048"
     },
     "user_tz": -540
    },
    "id": "Z5-LPKjXo1TT",
    "outputId": "b97b42f3-7d77-4be1-e37e-995de1e04d61"
   },
   "outputs": [
    {
     "data": {
      "text/html": [
       "<div>\n",
       "<style scoped>\n",
       "    .dataframe tbody tr th:only-of-type {\n",
       "        vertical-align: middle;\n",
       "    }\n",
       "\n",
       "    .dataframe tbody tr th {\n",
       "        vertical-align: top;\n",
       "    }\n",
       "\n",
       "    .dataframe thead th {\n",
       "        text-align: right;\n",
       "    }\n",
       "</style>\n",
       "<table border=\"1\" class=\"dataframe\">\n",
       "  <thead>\n",
       "    <tr style=\"text-align: right;\">\n",
       "      <th></th>\n",
       "      <th>Constant</th>\n",
       "      <th>0</th>\n",
       "      <th>1</th>\n",
       "      <th>2</th>\n",
       "      <th>3</th>\n",
       "      <th>4</th>\n",
       "      <th>5</th>\n",
       "      <th>6</th>\n",
       "      <th>7</th>\n",
       "      <th>8</th>\n",
       "      <th>9</th>\n",
       "    </tr>\n",
       "  </thead>\n",
       "  <tbody>\n",
       "    <tr>\n",
       "      <th>0</th>\n",
       "      <td>1.0</td>\n",
       "      <td>0.038076</td>\n",
       "      <td>0.050680</td>\n",
       "      <td>0.061696</td>\n",
       "      <td>0.021872</td>\n",
       "      <td>-0.044223</td>\n",
       "      <td>-0.034821</td>\n",
       "      <td>-0.043401</td>\n",
       "      <td>-0.002592</td>\n",
       "      <td>0.019908</td>\n",
       "      <td>-0.017646</td>\n",
       "    </tr>\n",
       "    <tr>\n",
       "      <th>1</th>\n",
       "      <td>1.0</td>\n",
       "      <td>-0.001882</td>\n",
       "      <td>-0.044642</td>\n",
       "      <td>-0.051474</td>\n",
       "      <td>-0.026328</td>\n",
       "      <td>-0.008449</td>\n",
       "      <td>-0.019163</td>\n",
       "      <td>0.074412</td>\n",
       "      <td>-0.039493</td>\n",
       "      <td>-0.068330</td>\n",
       "      <td>-0.092204</td>\n",
       "    </tr>\n",
       "    <tr>\n",
       "      <th>2</th>\n",
       "      <td>1.0</td>\n",
       "      <td>0.085299</td>\n",
       "      <td>0.050680</td>\n",
       "      <td>0.044451</td>\n",
       "      <td>-0.005671</td>\n",
       "      <td>-0.045599</td>\n",
       "      <td>-0.034194</td>\n",
       "      <td>-0.032356</td>\n",
       "      <td>-0.002592</td>\n",
       "      <td>0.002864</td>\n",
       "      <td>-0.025930</td>\n",
       "    </tr>\n",
       "    <tr>\n",
       "      <th>3</th>\n",
       "      <td>1.0</td>\n",
       "      <td>-0.089063</td>\n",
       "      <td>-0.044642</td>\n",
       "      <td>-0.011595</td>\n",
       "      <td>-0.036656</td>\n",
       "      <td>0.012191</td>\n",
       "      <td>0.024991</td>\n",
       "      <td>-0.036038</td>\n",
       "      <td>0.034309</td>\n",
       "      <td>0.022692</td>\n",
       "      <td>-0.009362</td>\n",
       "    </tr>\n",
       "    <tr>\n",
       "      <th>4</th>\n",
       "      <td>1.0</td>\n",
       "      <td>0.005383</td>\n",
       "      <td>-0.044642</td>\n",
       "      <td>-0.036385</td>\n",
       "      <td>0.021872</td>\n",
       "      <td>0.003935</td>\n",
       "      <td>0.015596</td>\n",
       "      <td>0.008142</td>\n",
       "      <td>-0.002592</td>\n",
       "      <td>-0.031991</td>\n",
       "      <td>-0.046641</td>\n",
       "    </tr>\n",
       "  </tbody>\n",
       "</table>\n",
       "</div>"
      ],
      "text/plain": [
       "   Constant         0         1         2         3         4         5  \\\n",
       "0       1.0  0.038076  0.050680  0.061696  0.021872 -0.044223 -0.034821   \n",
       "1       1.0 -0.001882 -0.044642 -0.051474 -0.026328 -0.008449 -0.019163   \n",
       "2       1.0  0.085299  0.050680  0.044451 -0.005671 -0.045599 -0.034194   \n",
       "3       1.0 -0.089063 -0.044642 -0.011595 -0.036656  0.012191  0.024991   \n",
       "4       1.0  0.005383 -0.044642 -0.036385  0.021872  0.003935  0.015596   \n",
       "\n",
       "          6         7         8         9  \n",
       "0 -0.043401 -0.002592  0.019908 -0.017646  \n",
       "1  0.074412 -0.039493 -0.068330 -0.092204  \n",
       "2 -0.032356 -0.002592  0.002864 -0.025930  \n",
       "3 -0.036038  0.034309  0.022692 -0.009362  \n",
       "4  0.008142 -0.002592 -0.031991 -0.046641  "
      ]
     },
     "execution_count": 52,
     "metadata": {},
     "output_type": "execute_result"
    }
   ],
   "source": [
    "lm = LinearRegression()\n",
    "lm.fit(X,y)\n",
    "params = np.append(lm.intercept_,lm.coef_)\n",
    "predictions = lm.predict(X)\n",
    "\n",
    "newX = pd.DataFrame({\"Constant\":np.ones(len(X))}).join(pd.DataFrame(X))\n",
    "MSE = (sum((y-predictions)**2))/(len(newX)-len(newX.columns))\n",
    "newX.head()"
   ]
  },
  {
   "cell_type": "code",
   "execution_count": 53,
   "metadata": {
    "colab": {
     "base_uri": "https://localhost:8080/"
    },
    "executionInfo": {
     "elapsed": 21,
     "status": "ok",
     "timestamp": 1663496418940,
     "user": {
      "displayName": "Yongjin Jeong",
      "userId": "03658406798560557048"
     },
     "user_tz": -540
    },
    "id": "Hq_n3KiqstlN",
    "outputId": "7d5f8f5a-b0e1-4fd1-de4b-38e1639b95ad"
   },
   "outputs": [
    {
     "data": {
      "text/plain": [
       "2932.6755365556483"
      ]
     },
     "execution_count": 53,
     "metadata": {},
     "output_type": "execute_result"
    }
   ],
   "source": [
    "MSE"
   ]
  },
  {
   "cell_type": "code",
   "execution_count": 54,
   "metadata": {
    "colab": {
     "base_uri": "https://localhost:8080/"
    },
    "executionInfo": {
     "elapsed": 19,
     "status": "ok",
     "timestamp": 1663496418941,
     "user": {
      "displayName": "Yongjin Jeong",
      "userId": "03658406798560557048"
     },
     "user_tz": -540
    },
    "id": "x8drUKhpqLby",
    "outputId": "5fb0b7e1-c5a5-47f4-f169-d9129c6bc9e8"
   },
   "outputs": [
    {
     "name": "stdout",
     "output_type": "stream",
     "text": [
      "    Coefficients  Standard Errors  t values  Probabilities\n",
      "0       152.1335            2.576    59.061            NaN\n",
      "1       -10.0122           59.749    -0.168            NaN\n",
      "2      -239.8191           61.222    -3.917            NaN\n",
      "3       519.8398           66.534     7.813            NaN\n",
      "4       324.3904           65.422     4.958            NaN\n",
      "5      -792.1842          416.684    -1.901            NaN\n",
      "6       476.7458          339.035     1.406            NaN\n",
      "7       101.0446          212.533     0.475            NaN\n",
      "8       177.0642          161.476     1.097            NaN\n",
      "9       751.2793          171.902     4.370            NaN\n",
      "10       67.6254           65.984     1.025            NaN\n"
     ]
    }
   ],
   "source": [
    "# Note if you want to use an array, replace the two lines above with the followings:\n",
    "# newX = np.append(np.ones((len(X),1)), X, axis=1)\n",
    "# MSE = (sum((y-predictions)**2))/(len(newX)-len(newX[0]))\n",
    "\n",
    "var_b = MSE*(np.linalg.inv(np.dot(newX.T,newX)).diagonal())\n",
    "sd_b = np.sqrt(var_b)\n",
    "ts_b = params/ sd_b\n",
    "\n",
    "p_values =[2*(1-stats.t.cdf(np.abs(i),(len(newX)-len(newX[0])))) for i in ts_b]\n",
    "\n",
    "sd_b = np.round(sd_b,3)\n",
    "ts_b = np.round(ts_b,3)\n",
    "p_values = np.round(p_values,3)\n",
    "params = np.round(params,4)\n",
    "\n",
    "myDF3 = pd.DataFrame()\n",
    "myDF3[\"Coefficients\"],myDF3[\"Standard Errors\"],myDF3[\"t values\"],myDF3[\"Probabilities\"] = [params,sd_b,ts_b,p_values]\n",
    "print(myDF3)"
   ]
  },
  {
   "cell_type": "markdown",
   "metadata": {
    "id": "MRVACrcCcT3n"
   },
   "source": [
    "# Exercise"
   ]
  },
  {
   "cell_type": "code",
   "execution_count": 55,
   "metadata": {
    "id": "bZJLvgd5q_vU"
   },
   "outputs": [],
   "source": [
    "df = pd.DataFrame({'key1': ['K0', 'K1', 'K2', 'K3', 'K4', 'K5'],\n",
    "                   'A': ['A0', 'A1', 'A2', 'A3', 'A4', 'A5']})\n",
    "other = pd.DataFrame({'key2': ['K0', 'K1', 'K2'],\n",
    "                      'B': ['B0', 'B1', 'B2']})"
   ]
  },
  {
   "cell_type": "code",
   "execution_count": 56,
   "metadata": {
    "colab": {
     "base_uri": "https://localhost:8080/",
     "height": 206
    },
    "executionInfo": {
     "elapsed": 18,
     "status": "ok",
     "timestamp": 1663496418942,
     "user": {
      "displayName": "Yongjin Jeong",
      "userId": "03658406798560557048"
     },
     "user_tz": -540
    },
    "id": "FO7ldWyZrFje",
    "outputId": "f9b867a4-3d47-4cd6-d82e-131b616317e9"
   },
   "outputs": [
    {
     "data": {
      "text/html": [
       "<div>\n",
       "<style scoped>\n",
       "    .dataframe tbody tr th:only-of-type {\n",
       "        vertical-align: middle;\n",
       "    }\n",
       "\n",
       "    .dataframe tbody tr th {\n",
       "        vertical-align: top;\n",
       "    }\n",
       "\n",
       "    .dataframe thead th {\n",
       "        text-align: right;\n",
       "    }\n",
       "</style>\n",
       "<table border=\"1\" class=\"dataframe\">\n",
       "  <thead>\n",
       "    <tr style=\"text-align: right;\">\n",
       "      <th></th>\n",
       "      <th>key1</th>\n",
       "      <th>A</th>\n",
       "    </tr>\n",
       "  </thead>\n",
       "  <tbody>\n",
       "    <tr>\n",
       "      <th>0</th>\n",
       "      <td>K0</td>\n",
       "      <td>A0</td>\n",
       "    </tr>\n",
       "    <tr>\n",
       "      <th>1</th>\n",
       "      <td>K1</td>\n",
       "      <td>A1</td>\n",
       "    </tr>\n",
       "    <tr>\n",
       "      <th>2</th>\n",
       "      <td>K2</td>\n",
       "      <td>A2</td>\n",
       "    </tr>\n",
       "    <tr>\n",
       "      <th>3</th>\n",
       "      <td>K3</td>\n",
       "      <td>A3</td>\n",
       "    </tr>\n",
       "    <tr>\n",
       "      <th>4</th>\n",
       "      <td>K4</td>\n",
       "      <td>A4</td>\n",
       "    </tr>\n",
       "  </tbody>\n",
       "</table>\n",
       "</div>"
      ],
      "text/plain": [
       "  key1   A\n",
       "0   K0  A0\n",
       "1   K1  A1\n",
       "2   K2  A2\n",
       "3   K3  A3\n",
       "4   K4  A4"
      ]
     },
     "execution_count": 56,
     "metadata": {},
     "output_type": "execute_result"
    }
   ],
   "source": [
    "df.head()"
   ]
  },
  {
   "cell_type": "code",
   "execution_count": 57,
   "metadata": {
    "colab": {
     "base_uri": "https://localhost:8080/",
     "height": 143
    },
    "executionInfo": {
     "elapsed": 17,
     "status": "ok",
     "timestamp": 1663496418942,
     "user": {
      "displayName": "Yongjin Jeong",
      "userId": "03658406798560557048"
     },
     "user_tz": -540
    },
    "id": "Iv80BqY4rIBk",
    "outputId": "57810a80-b6d2-4311-f79b-4300e2d6e4e3"
   },
   "outputs": [
    {
     "data": {
      "text/html": [
       "<div>\n",
       "<style scoped>\n",
       "    .dataframe tbody tr th:only-of-type {\n",
       "        vertical-align: middle;\n",
       "    }\n",
       "\n",
       "    .dataframe tbody tr th {\n",
       "        vertical-align: top;\n",
       "    }\n",
       "\n",
       "    .dataframe thead th {\n",
       "        text-align: right;\n",
       "    }\n",
       "</style>\n",
       "<table border=\"1\" class=\"dataframe\">\n",
       "  <thead>\n",
       "    <tr style=\"text-align: right;\">\n",
       "      <th></th>\n",
       "      <th>key2</th>\n",
       "      <th>B</th>\n",
       "    </tr>\n",
       "  </thead>\n",
       "  <tbody>\n",
       "    <tr>\n",
       "      <th>0</th>\n",
       "      <td>K0</td>\n",
       "      <td>B0</td>\n",
       "    </tr>\n",
       "    <tr>\n",
       "      <th>1</th>\n",
       "      <td>K1</td>\n",
       "      <td>B1</td>\n",
       "    </tr>\n",
       "    <tr>\n",
       "      <th>2</th>\n",
       "      <td>K2</td>\n",
       "      <td>B2</td>\n",
       "    </tr>\n",
       "  </tbody>\n",
       "</table>\n",
       "</div>"
      ],
      "text/plain": [
       "  key2   B\n",
       "0   K0  B0\n",
       "1   K1  B1\n",
       "2   K2  B2"
      ]
     },
     "execution_count": 57,
     "metadata": {},
     "output_type": "execute_result"
    }
   ],
   "source": [
    "other.head()"
   ]
  },
  {
   "cell_type": "code",
   "execution_count": 58,
   "metadata": {
    "colab": {
     "base_uri": "https://localhost:8080/",
     "height": 237
    },
    "executionInfo": {
     "elapsed": 16,
     "status": "ok",
     "timestamp": 1663496418942,
     "user": {
      "displayName": "Yongjin Jeong",
      "userId": "03658406798560557048"
     },
     "user_tz": -540
    },
    "id": "-ItSFqAirMMF",
    "outputId": "b42533bb-d79d-428a-b252-21ade9eded83"
   },
   "outputs": [
    {
     "data": {
      "text/html": [
       "<div>\n",
       "<style scoped>\n",
       "    .dataframe tbody tr th:only-of-type {\n",
       "        vertical-align: middle;\n",
       "    }\n",
       "\n",
       "    .dataframe tbody tr th {\n",
       "        vertical-align: top;\n",
       "    }\n",
       "\n",
       "    .dataframe thead th {\n",
       "        text-align: right;\n",
       "    }\n",
       "</style>\n",
       "<table border=\"1\" class=\"dataframe\">\n",
       "  <thead>\n",
       "    <tr style=\"text-align: right;\">\n",
       "      <th></th>\n",
       "      <th>key1</th>\n",
       "      <th>A</th>\n",
       "      <th>key2</th>\n",
       "      <th>B</th>\n",
       "    </tr>\n",
       "  </thead>\n",
       "  <tbody>\n",
       "    <tr>\n",
       "      <th>0</th>\n",
       "      <td>K0</td>\n",
       "      <td>A0</td>\n",
       "      <td>K0</td>\n",
       "      <td>B0</td>\n",
       "    </tr>\n",
       "    <tr>\n",
       "      <th>1</th>\n",
       "      <td>K1</td>\n",
       "      <td>A1</td>\n",
       "      <td>K1</td>\n",
       "      <td>B1</td>\n",
       "    </tr>\n",
       "    <tr>\n",
       "      <th>2</th>\n",
       "      <td>K2</td>\n",
       "      <td>A2</td>\n",
       "      <td>K2</td>\n",
       "      <td>B2</td>\n",
       "    </tr>\n",
       "    <tr>\n",
       "      <th>3</th>\n",
       "      <td>K3</td>\n",
       "      <td>A3</td>\n",
       "      <td>NaN</td>\n",
       "      <td>NaN</td>\n",
       "    </tr>\n",
       "    <tr>\n",
       "      <th>4</th>\n",
       "      <td>K4</td>\n",
       "      <td>A4</td>\n",
       "      <td>NaN</td>\n",
       "      <td>NaN</td>\n",
       "    </tr>\n",
       "    <tr>\n",
       "      <th>5</th>\n",
       "      <td>K5</td>\n",
       "      <td>A5</td>\n",
       "      <td>NaN</td>\n",
       "      <td>NaN</td>\n",
       "    </tr>\n",
       "  </tbody>\n",
       "</table>\n",
       "</div>"
      ],
      "text/plain": [
       "  key1   A key2    B\n",
       "0   K0  A0   K0   B0\n",
       "1   K1  A1   K1   B1\n",
       "2   K2  A2   K2   B2\n",
       "3   K3  A3  NaN  NaN\n",
       "4   K4  A4  NaN  NaN\n",
       "5   K5  A5  NaN  NaN"
      ]
     },
     "execution_count": 58,
     "metadata": {},
     "output_type": "execute_result"
    }
   ],
   "source": [
    "df.join(other)   # by index"
   ]
  }
 ],
 "metadata": {
  "colab": {
   "collapsed_sections": [],
   "provenance": []
  },
  "kernelspec": {
   "display_name": "Python 3 (ipykernel)",
   "language": "python",
   "name": "python3"
  },
  "language_info": {
   "codemirror_mode": {
    "name": "ipython",
    "version": 3
   },
   "file_extension": ".py",
   "mimetype": "text/x-python",
   "name": "python",
   "nbconvert_exporter": "python",
   "pygments_lexer": "ipython3",
   "version": "3.9.12"
  }
 },
 "nbformat": 4,
 "nbformat_minor": 1
}
