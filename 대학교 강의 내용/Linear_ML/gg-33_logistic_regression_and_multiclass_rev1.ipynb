{
 "cells": [
  {
   "cell_type": "markdown",
   "metadata": {
    "id": "xQ5G9VGaRCtc"
   },
   "source": [
    "# Logistic Regression\n",
    "- Binary Classification model"
   ]
  },
  {
   "cell_type": "markdown",
   "metadata": {
    "id": "Zx5fiwqRf7jm"
   },
   "source": [
    "## A simple example"
   ]
  },
  {
   "cell_type": "code",
   "execution_count": null,
   "metadata": {
    "id": "awVXkpdtRCtp"
   },
   "outputs": [],
   "source": [
    "import numpy as np\n",
    "import pandas as pd\n",
    "import matplotlib.pyplot as plt\n",
    "from sklearn.linear_model import LogisticRegression\n",
    "%matplotlib inline\n",
    "%config InlineBackend.figure_format = 'retina'"
   ]
  },
  {
   "cell_type": "code",
   "execution_count": null,
   "metadata": {
    "id": "ZZaVdR4lRCts"
   },
   "outputs": [],
   "source": [
    "pass_time = [8,9, 9, 9.5, 10, 12, 14, 14.5, 15, 16, 16, 16.5, 17, 17, 17, 17.5,20, 20, 20]\n",
    "fail_time = [1, 2, 2.1,2.6,2.7,2.8,2.9, 3,3.2,3.4,3.5,3.6,3, 5,5.2,5.4]"
   ]
  },
  {
   "cell_type": "code",
   "execution_count": null,
   "metadata": {
    "colab": {
     "base_uri": "https://localhost:8080/"
    },
    "executionInfo": {
     "elapsed": 23,
     "status": "ok",
     "timestamp": 1664871846056,
     "user": {
      "displayName": "Yongjin Jeong",
      "userId": "03658406798560557048"
     },
     "user_tz": -540
    },
    "id": "xV8jM51FRCtt",
    "outputId": "015e2d4d-7be7-4acf-8b7f-0f8679f2cd05"
   },
   "outputs": [],
   "source": [
    "X = np.concatenate((pass_time, fail_time))  # 아래와 동일\n",
    "X"
   ]
  },
  {
   "cell_type": "code",
   "execution_count": null,
   "metadata": {
    "colab": {
     "base_uri": "https://localhost:8080/"
    },
    "executionInfo": {
     "elapsed": 21,
     "status": "ok",
     "timestamp": 1664871846057,
     "user": {
      "displayName": "Yongjin Jeong",
      "userId": "03658406798560557048"
     },
     "user_tz": -540
    },
    "id": "T1QEdAZeRCty",
    "outputId": "8006fed7-70c3-4e33-f4de-a31829595dff"
   },
   "outputs": [],
   "source": [
    "X = np.hstack((pass_time,fail_time))          # stack horizontally\n",
    "X"
   ]
  },
  {
   "cell_type": "code",
   "execution_count": null,
   "metadata": {
    "colab": {
     "base_uri": "https://localhost:8080/"
    },
    "executionInfo": {
     "elapsed": 20,
     "status": "ok",
     "timestamp": 1664871846057,
     "user": {
      "displayName": "Yongjin Jeong",
      "userId": "03658406798560557048"
     },
     "user_tz": -540
    },
    "id": "Job62ABIRCtz",
    "outputId": "d34bcbaf-bbb3-4849-8336-5577bc59b019"
   },
   "outputs": [],
   "source": [
    "y1=[1]*len(pass_time)\n",
    "y0=[0]*len(fail_time)\n",
    "y = np.hstack((y1,y0))\n",
    "y"
   ]
  },
  {
   "cell_type": "code",
   "execution_count": null,
   "metadata": {
    "colab": {
     "base_uri": "https://localhost:8080/",
     "height": 387
    },
    "executionInfo": {
     "elapsed": 18,
     "status": "ok",
     "timestamp": 1664871846058,
     "user": {
      "displayName": "Yongjin Jeong",
      "userId": "03658406798560557048"
     },
     "user_tz": -540
    },
    "id": "3iFtIxcpRCt0",
    "outputId": "022c6785-98de-43f3-cb29-2c91b94eba0c"
   },
   "outputs": [],
   "source": [
    "fig = plt.figure(figsize=(8,6))\n",
    "plt.xlim(0, 21)\n",
    "plt.ylim(-0.1, 1.1)\n",
    "plt.xlabel(\"Study time\")\n",
    "plt.ylabel(\"Pass rate\")\n",
    "plt.scatter(X, y)\n",
    "plt.show()"
   ]
  },
  {
   "cell_type": "code",
   "execution_count": null,
   "metadata": {
    "colab": {
     "base_uri": "https://localhost:8080/"
    },
    "executionInfo": {
     "elapsed": 18,
     "status": "ok",
     "timestamp": 1664871846059,
     "user": {
      "displayName": "Yongjin Jeong",
      "userId": "03658406798560557048"
     },
     "user_tz": -540
    },
    "id": "jgPsd1gPRCt1",
    "outputId": "9f3beedd-1b6d-4de1-eb0c-c77f6a45f830",
    "scrolled": true
   },
   "outputs": [],
   "source": [
    "model = LogisticRegression()\n",
    "model.fit(X.reshape(-1, 1),y)\n",
    "\n",
    "print(model.coef_)\n",
    "print(model.intercept_)"
   ]
  },
  {
   "cell_type": "code",
   "execution_count": null,
   "metadata": {
    "colab": {
     "base_uri": "https://localhost:8080/"
    },
    "executionInfo": {
     "elapsed": 15,
     "status": "ok",
     "timestamp": 1664871846059,
     "user": {
      "displayName": "Yongjin Jeong",
      "userId": "03658406798560557048"
     },
     "user_tz": -540
    },
    "id": "bfRX9NibRCt1",
    "outputId": "4b90fc5c-b11e-4eae-e7ff-d9e2fb3a4768"
   },
   "outputs": [],
   "source": [
    "model.predict(np.array([6.9]).reshape(-1,1))"
   ]
  },
  {
   "cell_type": "code",
   "execution_count": null,
   "metadata": {
    "colab": {
     "base_uri": "https://localhost:8080/"
    },
    "executionInfo": {
     "elapsed": 14,
     "status": "ok",
     "timestamp": 1664871846060,
     "user": {
      "displayName": "Yongjin Jeong",
      "userId": "03658406798560557048"
     },
     "user_tz": -540
    },
    "id": "K1ke-lyFRCt2",
    "outputId": "d92bae56-1ab2-4866-a9c7-547d37de8518"
   },
   "outputs": [],
   "source": [
    "model.predict_proba(np.array([6.9]).reshape(-1,1))"
   ]
  },
  {
   "cell_type": "code",
   "execution_count": null,
   "metadata": {
    "colab": {
     "base_uri": "https://localhost:8080/",
     "height": 404
    },
    "executionInfo": {
     "elapsed": 547,
     "status": "ok",
     "timestamp": 1664871846595,
     "user": {
      "displayName": "Yongjin Jeong",
      "userId": "03658406798560557048"
     },
     "user_tz": -540
    },
    "id": "XJtZaYZ7RCt3",
    "outputId": "bf0412f2-8da6-4346-855e-6c9fcef388bc"
   },
   "outputs": [],
   "source": [
    "def logistic(z):    # logistic function, aka Sigmoid function\n",
    "    return 1 /(1+np.exp(-z))\n",
    "\n",
    "fig = plt.figure(figsize=(8,6))\n",
    "plt.xlim(0, 20)\n",
    "plt.ylim(-0.1, 1.1)\n",
    "plt.xlabel('Study time')\n",
    "plt.ylabel('Pass rate')\n",
    "plt.scatter(X, y, s=50)\n",
    "\n",
    "XX = np.linspace(0.5, 21, 100)\n",
    "yy = logistic(model.coef_*XX + model.intercept_)[0]  # model.coef_ is returned in (1,)\n",
    "print(model.coef_, model.intercept_)\n",
    "# print(XX, \"\\n-----------\\n\", yy)\n",
    "plt.plot(XX, yy, c='r')\n",
    "plt.show()"
   ]
  },
  {
   "cell_type": "code",
   "execution_count": null,
   "metadata": {
    "colab": {
     "base_uri": "https://localhost:8080/",
     "height": 265
    },
    "executionInfo": {
     "elapsed": 788,
     "status": "ok",
     "timestamp": 1664871847378,
     "user": {
      "displayName": "Yongjin Jeong",
      "userId": "03658406798560557048"
     },
     "user_tz": -540
    },
    "id": "n61cBxWCRCt4",
    "outputId": "23cb0b35-76c3-468f-cf32-9a3a19e5a493",
    "scrolled": true
   },
   "outputs": [],
   "source": [
    "def logistic(z):\n",
    "    return 1 /(1+np.exp(-z))\n",
    "\n",
    "fig = plt.figure(figsize=(6,4))\n",
    "plt.xlim(-10, 10)\n",
    "plt.ylim(-0.1, 1.1)\n",
    "a_list = [0.3, 0.5, 1]\n",
    "b_list = [0]\n",
    "XX = np.linspace(-10, 10, 100)\n",
    "for a in a_list:\n",
    "    for b in b_list: \n",
    "        yy = logistic(a*XX + b)\n",
    "        plt.plot(XX, yy, c='k')"
   ]
  },
  {
   "cell_type": "code",
   "execution_count": null,
   "metadata": {
    "colab": {
     "base_uri": "https://localhost:8080/",
     "height": 265
    },
    "executionInfo": {
     "elapsed": 11,
     "status": "ok",
     "timestamp": 1664871847381,
     "user": {
      "displayName": "Yongjin Jeong",
      "userId": "03658406798560557048"
     },
     "user_tz": -540
    },
    "id": "A8Vs8Dg4RCt4",
    "outputId": "88218591-b9f2-4630-f7cb-80349bedb9c5"
   },
   "outputs": [],
   "source": [
    "def logistic(z):\n",
    "    return 1 /(1+np.exp(-z))\n",
    "\n",
    "fig = plt.figure(figsize=(6,4))\n",
    "plt.xlim(-10, 10)\n",
    "plt.ylim(-0.1, 1.1)\n",
    "a_list = [0.8]\n",
    "b_list = [-2, 0, 2]\n",
    "XX = np.linspace(-10, 10, 100)\n",
    "for a in a_list:\n",
    "    for b in b_list: \n",
    "        yy = logistic(a*XX + b)\n",
    "        plt.plot(XX, yy, c='k')"
   ]
  },
  {
   "cell_type": "markdown",
   "metadata": {
    "id": "4jvDRLwiRCt5"
   },
   "source": [
    "## Breast Cancer Exmple "
   ]
  },
  {
   "cell_type": "code",
   "execution_count": null,
   "metadata": {
    "id": "VdUz2BRERCt5"
   },
   "outputs": [],
   "source": [
    "import numpy as np\n",
    "import pandas as pd\n",
    "import matplotlib.pyplot as plt\n",
    "import matplotlib.gridspec as gridspec\n",
    "import seaborn as sns \n",
    "from sklearn.model_selection import train_test_split\n",
    "from sklearn.linear_model import LogisticRegression\n",
    "from sklearn.model_selection import KFold \n",
    "from sklearn import metrics"
   ]
  },
  {
   "cell_type": "code",
   "execution_count": null,
   "metadata": {
    "id": "7mFysHhshRS2"
   },
   "outputs": [],
   "source": [
    "# from sklearn.datasets import load_breast_cancer"
   ]
  },
  {
   "cell_type": "markdown",
   "metadata": {
    "id": "hJX25MK3RCt6"
   },
   "source": [
    "- download from Kaggle site (breast_cancer.csv of Wisconsin)\n",
    "  - https://www.kaggle.com/uciml/breast-cancer-wisconsin-data\n",
    "  - little different from sklearn.datasets.load_breast_cancer() in column names"
   ]
  },
  {
   "cell_type": "code",
   "execution_count": null,
   "metadata": {
    "colab": {
     "base_uri": "https://localhost:8080/",
     "height": 317
    },
    "executionInfo": {
     "elapsed": 26,
     "status": "ok",
     "timestamp": 1664873623296,
     "user": {
      "displayName": "Yongjin Jeong",
      "userId": "03658406798560557048"
     },
     "user_tz": -540
    },
    "id": "PSwD3JkNS-Y2",
    "outputId": "074e8504-a333-4ca9-9ecd-d6d7e9de1c97"
   },
   "outputs": [
    {
     "data": {
      "text/html": [
       "\n",
       "  <div id=\"df-3806148f-4611-4519-9d8a-7567068a182e\">\n",
       "    <div class=\"colab-df-container\">\n",
       "      <div>\n",
       "<style scoped>\n",
       "    .dataframe tbody tr th:only-of-type {\n",
       "        vertical-align: middle;\n",
       "    }\n",
       "\n",
       "    .dataframe tbody tr th {\n",
       "        vertical-align: top;\n",
       "    }\n",
       "\n",
       "    .dataframe thead th {\n",
       "        text-align: right;\n",
       "    }\n",
       "</style>\n",
       "<table border=\"1\" class=\"dataframe\">\n",
       "  <thead>\n",
       "    <tr style=\"text-align: right;\">\n",
       "      <th></th>\n",
       "      <th>id</th>\n",
       "      <th>diagnosis</th>\n",
       "      <th>radius_mean</th>\n",
       "      <th>texture_mean</th>\n",
       "      <th>perimeter_mean</th>\n",
       "      <th>area_mean</th>\n",
       "      <th>smoothness_mean</th>\n",
       "      <th>compactness_mean</th>\n",
       "      <th>concavity_mean</th>\n",
       "      <th>concave points_mean</th>\n",
       "      <th>...</th>\n",
       "      <th>texture_worst</th>\n",
       "      <th>perimeter_worst</th>\n",
       "      <th>area_worst</th>\n",
       "      <th>smoothness_worst</th>\n",
       "      <th>compactness_worst</th>\n",
       "      <th>concavity_worst</th>\n",
       "      <th>concave points_worst</th>\n",
       "      <th>symmetry_worst</th>\n",
       "      <th>fractal_dimension_worst</th>\n",
       "      <th>Unnamed: 32</th>\n",
       "    </tr>\n",
       "  </thead>\n",
       "  <tbody>\n",
       "    <tr>\n",
       "      <th>564</th>\n",
       "      <td>926424</td>\n",
       "      <td>M</td>\n",
       "      <td>21.56</td>\n",
       "      <td>22.39</td>\n",
       "      <td>142.00</td>\n",
       "      <td>1479.0</td>\n",
       "      <td>0.11100</td>\n",
       "      <td>0.11590</td>\n",
       "      <td>0.24390</td>\n",
       "      <td>0.13890</td>\n",
       "      <td>...</td>\n",
       "      <td>26.40</td>\n",
       "      <td>166.10</td>\n",
       "      <td>2027.0</td>\n",
       "      <td>0.14100</td>\n",
       "      <td>0.21130</td>\n",
       "      <td>0.4107</td>\n",
       "      <td>0.2216</td>\n",
       "      <td>0.2060</td>\n",
       "      <td>0.07115</td>\n",
       "      <td>NaN</td>\n",
       "    </tr>\n",
       "    <tr>\n",
       "      <th>565</th>\n",
       "      <td>926682</td>\n",
       "      <td>M</td>\n",
       "      <td>20.13</td>\n",
       "      <td>28.25</td>\n",
       "      <td>131.20</td>\n",
       "      <td>1261.0</td>\n",
       "      <td>0.09780</td>\n",
       "      <td>0.10340</td>\n",
       "      <td>0.14400</td>\n",
       "      <td>0.09791</td>\n",
       "      <td>...</td>\n",
       "      <td>38.25</td>\n",
       "      <td>155.00</td>\n",
       "      <td>1731.0</td>\n",
       "      <td>0.11660</td>\n",
       "      <td>0.19220</td>\n",
       "      <td>0.3215</td>\n",
       "      <td>0.1628</td>\n",
       "      <td>0.2572</td>\n",
       "      <td>0.06637</td>\n",
       "      <td>NaN</td>\n",
       "    </tr>\n",
       "    <tr>\n",
       "      <th>566</th>\n",
       "      <td>926954</td>\n",
       "      <td>M</td>\n",
       "      <td>16.60</td>\n",
       "      <td>28.08</td>\n",
       "      <td>108.30</td>\n",
       "      <td>858.1</td>\n",
       "      <td>0.08455</td>\n",
       "      <td>0.10230</td>\n",
       "      <td>0.09251</td>\n",
       "      <td>0.05302</td>\n",
       "      <td>...</td>\n",
       "      <td>34.12</td>\n",
       "      <td>126.70</td>\n",
       "      <td>1124.0</td>\n",
       "      <td>0.11390</td>\n",
       "      <td>0.30940</td>\n",
       "      <td>0.3403</td>\n",
       "      <td>0.1418</td>\n",
       "      <td>0.2218</td>\n",
       "      <td>0.07820</td>\n",
       "      <td>NaN</td>\n",
       "    </tr>\n",
       "    <tr>\n",
       "      <th>567</th>\n",
       "      <td>927241</td>\n",
       "      <td>M</td>\n",
       "      <td>20.60</td>\n",
       "      <td>29.33</td>\n",
       "      <td>140.10</td>\n",
       "      <td>1265.0</td>\n",
       "      <td>0.11780</td>\n",
       "      <td>0.27700</td>\n",
       "      <td>0.35140</td>\n",
       "      <td>0.15200</td>\n",
       "      <td>...</td>\n",
       "      <td>39.42</td>\n",
       "      <td>184.60</td>\n",
       "      <td>1821.0</td>\n",
       "      <td>0.16500</td>\n",
       "      <td>0.86810</td>\n",
       "      <td>0.9387</td>\n",
       "      <td>0.2650</td>\n",
       "      <td>0.4087</td>\n",
       "      <td>0.12400</td>\n",
       "      <td>NaN</td>\n",
       "    </tr>\n",
       "    <tr>\n",
       "      <th>568</th>\n",
       "      <td>92751</td>\n",
       "      <td>B</td>\n",
       "      <td>7.76</td>\n",
       "      <td>24.54</td>\n",
       "      <td>47.92</td>\n",
       "      <td>181.0</td>\n",
       "      <td>0.05263</td>\n",
       "      <td>0.04362</td>\n",
       "      <td>0.00000</td>\n",
       "      <td>0.00000</td>\n",
       "      <td>...</td>\n",
       "      <td>30.37</td>\n",
       "      <td>59.16</td>\n",
       "      <td>268.6</td>\n",
       "      <td>0.08996</td>\n",
       "      <td>0.06444</td>\n",
       "      <td>0.0000</td>\n",
       "      <td>0.0000</td>\n",
       "      <td>0.2871</td>\n",
       "      <td>0.07039</td>\n",
       "      <td>NaN</td>\n",
       "    </tr>\n",
       "  </tbody>\n",
       "</table>\n",
       "<p>5 rows × 33 columns</p>\n",
       "</div>\n",
       "      <button class=\"colab-df-convert\" onclick=\"convertToInteractive('df-3806148f-4611-4519-9d8a-7567068a182e')\"\n",
       "              title=\"Convert this dataframe to an interactive table.\"\n",
       "              style=\"display:none;\">\n",
       "        \n",
       "  <svg xmlns=\"http://www.w3.org/2000/svg\" height=\"24px\"viewBox=\"0 0 24 24\"\n",
       "       width=\"24px\">\n",
       "    <path d=\"M0 0h24v24H0V0z\" fill=\"none\"/>\n",
       "    <path d=\"M18.56 5.44l.94 2.06.94-2.06 2.06-.94-2.06-.94-.94-2.06-.94 2.06-2.06.94zm-11 1L8.5 8.5l.94-2.06 2.06-.94-2.06-.94L8.5 2.5l-.94 2.06-2.06.94zm10 10l.94 2.06.94-2.06 2.06-.94-2.06-.94-.94-2.06-.94 2.06-2.06.94z\"/><path d=\"M17.41 7.96l-1.37-1.37c-.4-.4-.92-.59-1.43-.59-.52 0-1.04.2-1.43.59L10.3 9.45l-7.72 7.72c-.78.78-.78 2.05 0 2.83L4 21.41c.39.39.9.59 1.41.59.51 0 1.02-.2 1.41-.59l7.78-7.78 2.81-2.81c.8-.78.8-2.07 0-2.86zM5.41 20L4 18.59l7.72-7.72 1.47 1.35L5.41 20z\"/>\n",
       "  </svg>\n",
       "      </button>\n",
       "      \n",
       "  <style>\n",
       "    .colab-df-container {\n",
       "      display:flex;\n",
       "      flex-wrap:wrap;\n",
       "      gap: 12px;\n",
       "    }\n",
       "\n",
       "    .colab-df-convert {\n",
       "      background-color: #E8F0FE;\n",
       "      border: none;\n",
       "      border-radius: 50%;\n",
       "      cursor: pointer;\n",
       "      display: none;\n",
       "      fill: #1967D2;\n",
       "      height: 32px;\n",
       "      padding: 0 0 0 0;\n",
       "      width: 32px;\n",
       "    }\n",
       "\n",
       "    .colab-df-convert:hover {\n",
       "      background-color: #E2EBFA;\n",
       "      box-shadow: 0px 1px 2px rgba(60, 64, 67, 0.3), 0px 1px 3px 1px rgba(60, 64, 67, 0.15);\n",
       "      fill: #174EA6;\n",
       "    }\n",
       "\n",
       "    [theme=dark] .colab-df-convert {\n",
       "      background-color: #3B4455;\n",
       "      fill: #D2E3FC;\n",
       "    }\n",
       "\n",
       "    [theme=dark] .colab-df-convert:hover {\n",
       "      background-color: #434B5C;\n",
       "      box-shadow: 0px 1px 3px 1px rgba(0, 0, 0, 0.15);\n",
       "      filter: drop-shadow(0px 1px 2px rgba(0, 0, 0, 0.3));\n",
       "      fill: #FFFFFF;\n",
       "    }\n",
       "  </style>\n",
       "\n",
       "      <script>\n",
       "        const buttonEl =\n",
       "          document.querySelector('#df-3806148f-4611-4519-9d8a-7567068a182e button.colab-df-convert');\n",
       "        buttonEl.style.display =\n",
       "          google.colab.kernel.accessAllowed ? 'block' : 'none';\n",
       "\n",
       "        async function convertToInteractive(key) {\n",
       "          const element = document.querySelector('#df-3806148f-4611-4519-9d8a-7567068a182e');\n",
       "          const dataTable =\n",
       "            await google.colab.kernel.invokeFunction('convertToInteractive',\n",
       "                                                     [key], {});\n",
       "          if (!dataTable) return;\n",
       "\n",
       "          const docLinkHtml = 'Like what you see? Visit the ' +\n",
       "            '<a target=\"_blank\" href=https://colab.research.google.com/notebooks/data_table.ipynb>data table notebook</a>'\n",
       "            + ' to learn more about interactive tables.';\n",
       "          element.innerHTML = '';\n",
       "          dataTable['output_type'] = 'display_data';\n",
       "          await google.colab.output.renderOutput(dataTable, element);\n",
       "          const docLink = document.createElement('div');\n",
       "          docLink.innerHTML = docLinkHtml;\n",
       "          element.appendChild(docLink);\n",
       "        }\n",
       "      </script>\n",
       "    </div>\n",
       "  </div>\n",
       "  "
      ],
      "text/plain": [
       "         id diagnosis  radius_mean  texture_mean  perimeter_mean  area_mean  \\\n",
       "564  926424         M        21.56         22.39          142.00     1479.0   \n",
       "565  926682         M        20.13         28.25          131.20     1261.0   \n",
       "566  926954         M        16.60         28.08          108.30      858.1   \n",
       "567  927241         M        20.60         29.33          140.10     1265.0   \n",
       "568   92751         B         7.76         24.54           47.92      181.0   \n",
       "\n",
       "     smoothness_mean  compactness_mean  concavity_mean  concave points_mean  \\\n",
       "564          0.11100           0.11590         0.24390              0.13890   \n",
       "565          0.09780           0.10340         0.14400              0.09791   \n",
       "566          0.08455           0.10230         0.09251              0.05302   \n",
       "567          0.11780           0.27700         0.35140              0.15200   \n",
       "568          0.05263           0.04362         0.00000              0.00000   \n",
       "\n",
       "     ...  texture_worst  perimeter_worst  area_worst  smoothness_worst  \\\n",
       "564  ...          26.40           166.10      2027.0           0.14100   \n",
       "565  ...          38.25           155.00      1731.0           0.11660   \n",
       "566  ...          34.12           126.70      1124.0           0.11390   \n",
       "567  ...          39.42           184.60      1821.0           0.16500   \n",
       "568  ...          30.37            59.16       268.6           0.08996   \n",
       "\n",
       "     compactness_worst  concavity_worst  concave points_worst  symmetry_worst  \\\n",
       "564            0.21130           0.4107                0.2216          0.2060   \n",
       "565            0.19220           0.3215                0.1628          0.2572   \n",
       "566            0.30940           0.3403                0.1418          0.2218   \n",
       "567            0.86810           0.9387                0.2650          0.4087   \n",
       "568            0.06444           0.0000                0.0000          0.2871   \n",
       "\n",
       "     fractal_dimension_worst  Unnamed: 32  \n",
       "564                  0.07115          NaN  \n",
       "565                  0.06637          NaN  \n",
       "566                  0.07820          NaN  \n",
       "567                  0.12400          NaN  \n",
       "568                  0.07039          NaN  \n",
       "\n",
       "[5 rows x 33 columns]"
      ]
     },
     "execution_count": 179,
     "metadata": {},
     "output_type": "execute_result"
    }
   ],
   "source": [
    "data = pd.read_csv('archive.zip')\n",
    "data.tail()"
   ]
  },
  {
   "cell_type": "code",
   "execution_count": null,
   "metadata": {
    "id": "IORUORtxS3VG"
   },
   "outputs": [],
   "source": [
    "data['diagnosis'] = data['diagnosis'].map({'M':1,'B':0})"
   ]
  },
  {
   "cell_type": "code",
   "execution_count": null,
   "metadata": {
    "colab": {
     "base_uri": "https://localhost:8080/",
     "height": 348
    },
    "executionInfo": {
     "elapsed": 24,
     "status": "ok",
     "timestamp": 1664873623297,
     "user": {
      "displayName": "Yongjin Jeong",
      "userId": "03658406798560557048"
     },
     "user_tz": -540
    },
    "id": "bqP6ewjsQFCn",
    "outputId": "4851fc78-ceed-4502-da03-e83605ea512b"
   },
   "outputs": [
    {
     "data": {
      "text/html": [
       "\n",
       "  <div id=\"df-9534f453-d890-43c6-94b9-d6ec171d3c89\">\n",
       "    <div class=\"colab-df-container\">\n",
       "      <div>\n",
       "<style scoped>\n",
       "    .dataframe tbody tr th:only-of-type {\n",
       "        vertical-align: middle;\n",
       "    }\n",
       "\n",
       "    .dataframe tbody tr th {\n",
       "        vertical-align: top;\n",
       "    }\n",
       "\n",
       "    .dataframe thead th {\n",
       "        text-align: right;\n",
       "    }\n",
       "</style>\n",
       "<table border=\"1\" class=\"dataframe\">\n",
       "  <thead>\n",
       "    <tr style=\"text-align: right;\">\n",
       "      <th></th>\n",
       "      <th>id</th>\n",
       "      <th>diagnosis</th>\n",
       "      <th>radius_mean</th>\n",
       "      <th>texture_mean</th>\n",
       "      <th>perimeter_mean</th>\n",
       "      <th>area_mean</th>\n",
       "      <th>smoothness_mean</th>\n",
       "      <th>compactness_mean</th>\n",
       "      <th>concavity_mean</th>\n",
       "      <th>concave points_mean</th>\n",
       "      <th>...</th>\n",
       "      <th>texture_worst</th>\n",
       "      <th>perimeter_worst</th>\n",
       "      <th>area_worst</th>\n",
       "      <th>smoothness_worst</th>\n",
       "      <th>compactness_worst</th>\n",
       "      <th>concavity_worst</th>\n",
       "      <th>concave points_worst</th>\n",
       "      <th>symmetry_worst</th>\n",
       "      <th>fractal_dimension_worst</th>\n",
       "      <th>Unnamed: 32</th>\n",
       "    </tr>\n",
       "  </thead>\n",
       "  <tbody>\n",
       "    <tr>\n",
       "      <th>0</th>\n",
       "      <td>842302</td>\n",
       "      <td>1</td>\n",
       "      <td>17.99</td>\n",
       "      <td>10.38</td>\n",
       "      <td>122.80</td>\n",
       "      <td>1001.0</td>\n",
       "      <td>0.11840</td>\n",
       "      <td>0.27760</td>\n",
       "      <td>0.30010</td>\n",
       "      <td>0.14710</td>\n",
       "      <td>...</td>\n",
       "      <td>17.33</td>\n",
       "      <td>184.60</td>\n",
       "      <td>2019.0</td>\n",
       "      <td>0.16220</td>\n",
       "      <td>0.66560</td>\n",
       "      <td>0.7119</td>\n",
       "      <td>0.2654</td>\n",
       "      <td>0.4601</td>\n",
       "      <td>0.11890</td>\n",
       "      <td>NaN</td>\n",
       "    </tr>\n",
       "    <tr>\n",
       "      <th>1</th>\n",
       "      <td>842517</td>\n",
       "      <td>1</td>\n",
       "      <td>20.57</td>\n",
       "      <td>17.77</td>\n",
       "      <td>132.90</td>\n",
       "      <td>1326.0</td>\n",
       "      <td>0.08474</td>\n",
       "      <td>0.07864</td>\n",
       "      <td>0.08690</td>\n",
       "      <td>0.07017</td>\n",
       "      <td>...</td>\n",
       "      <td>23.41</td>\n",
       "      <td>158.80</td>\n",
       "      <td>1956.0</td>\n",
       "      <td>0.12380</td>\n",
       "      <td>0.18660</td>\n",
       "      <td>0.2416</td>\n",
       "      <td>0.1860</td>\n",
       "      <td>0.2750</td>\n",
       "      <td>0.08902</td>\n",
       "      <td>NaN</td>\n",
       "    </tr>\n",
       "    <tr>\n",
       "      <th>2</th>\n",
       "      <td>84300903</td>\n",
       "      <td>1</td>\n",
       "      <td>19.69</td>\n",
       "      <td>21.25</td>\n",
       "      <td>130.00</td>\n",
       "      <td>1203.0</td>\n",
       "      <td>0.10960</td>\n",
       "      <td>0.15990</td>\n",
       "      <td>0.19740</td>\n",
       "      <td>0.12790</td>\n",
       "      <td>...</td>\n",
       "      <td>25.53</td>\n",
       "      <td>152.50</td>\n",
       "      <td>1709.0</td>\n",
       "      <td>0.14440</td>\n",
       "      <td>0.42450</td>\n",
       "      <td>0.4504</td>\n",
       "      <td>0.2430</td>\n",
       "      <td>0.3613</td>\n",
       "      <td>0.08758</td>\n",
       "      <td>NaN</td>\n",
       "    </tr>\n",
       "    <tr>\n",
       "      <th>566</th>\n",
       "      <td>926954</td>\n",
       "      <td>1</td>\n",
       "      <td>16.60</td>\n",
       "      <td>28.08</td>\n",
       "      <td>108.30</td>\n",
       "      <td>858.1</td>\n",
       "      <td>0.08455</td>\n",
       "      <td>0.10230</td>\n",
       "      <td>0.09251</td>\n",
       "      <td>0.05302</td>\n",
       "      <td>...</td>\n",
       "      <td>34.12</td>\n",
       "      <td>126.70</td>\n",
       "      <td>1124.0</td>\n",
       "      <td>0.11390</td>\n",
       "      <td>0.30940</td>\n",
       "      <td>0.3403</td>\n",
       "      <td>0.1418</td>\n",
       "      <td>0.2218</td>\n",
       "      <td>0.07820</td>\n",
       "      <td>NaN</td>\n",
       "    </tr>\n",
       "    <tr>\n",
       "      <th>567</th>\n",
       "      <td>927241</td>\n",
       "      <td>1</td>\n",
       "      <td>20.60</td>\n",
       "      <td>29.33</td>\n",
       "      <td>140.10</td>\n",
       "      <td>1265.0</td>\n",
       "      <td>0.11780</td>\n",
       "      <td>0.27700</td>\n",
       "      <td>0.35140</td>\n",
       "      <td>0.15200</td>\n",
       "      <td>...</td>\n",
       "      <td>39.42</td>\n",
       "      <td>184.60</td>\n",
       "      <td>1821.0</td>\n",
       "      <td>0.16500</td>\n",
       "      <td>0.86810</td>\n",
       "      <td>0.9387</td>\n",
       "      <td>0.2650</td>\n",
       "      <td>0.4087</td>\n",
       "      <td>0.12400</td>\n",
       "      <td>NaN</td>\n",
       "    </tr>\n",
       "    <tr>\n",
       "      <th>568</th>\n",
       "      <td>92751</td>\n",
       "      <td>0</td>\n",
       "      <td>7.76</td>\n",
       "      <td>24.54</td>\n",
       "      <td>47.92</td>\n",
       "      <td>181.0</td>\n",
       "      <td>0.05263</td>\n",
       "      <td>0.04362</td>\n",
       "      <td>0.00000</td>\n",
       "      <td>0.00000</td>\n",
       "      <td>...</td>\n",
       "      <td>30.37</td>\n",
       "      <td>59.16</td>\n",
       "      <td>268.6</td>\n",
       "      <td>0.08996</td>\n",
       "      <td>0.06444</td>\n",
       "      <td>0.0000</td>\n",
       "      <td>0.0000</td>\n",
       "      <td>0.2871</td>\n",
       "      <td>0.07039</td>\n",
       "      <td>NaN</td>\n",
       "    </tr>\n",
       "  </tbody>\n",
       "</table>\n",
       "<p>6 rows × 33 columns</p>\n",
       "</div>\n",
       "      <button class=\"colab-df-convert\" onclick=\"convertToInteractive('df-9534f453-d890-43c6-94b9-d6ec171d3c89')\"\n",
       "              title=\"Convert this dataframe to an interactive table.\"\n",
       "              style=\"display:none;\">\n",
       "        \n",
       "  <svg xmlns=\"http://www.w3.org/2000/svg\" height=\"24px\"viewBox=\"0 0 24 24\"\n",
       "       width=\"24px\">\n",
       "    <path d=\"M0 0h24v24H0V0z\" fill=\"none\"/>\n",
       "    <path d=\"M18.56 5.44l.94 2.06.94-2.06 2.06-.94-2.06-.94-.94-2.06-.94 2.06-2.06.94zm-11 1L8.5 8.5l.94-2.06 2.06-.94-2.06-.94L8.5 2.5l-.94 2.06-2.06.94zm10 10l.94 2.06.94-2.06 2.06-.94-2.06-.94-.94-2.06-.94 2.06-2.06.94z\"/><path d=\"M17.41 7.96l-1.37-1.37c-.4-.4-.92-.59-1.43-.59-.52 0-1.04.2-1.43.59L10.3 9.45l-7.72 7.72c-.78.78-.78 2.05 0 2.83L4 21.41c.39.39.9.59 1.41.59.51 0 1.02-.2 1.41-.59l7.78-7.78 2.81-2.81c.8-.78.8-2.07 0-2.86zM5.41 20L4 18.59l7.72-7.72 1.47 1.35L5.41 20z\"/>\n",
       "  </svg>\n",
       "      </button>\n",
       "      \n",
       "  <style>\n",
       "    .colab-df-container {\n",
       "      display:flex;\n",
       "      flex-wrap:wrap;\n",
       "      gap: 12px;\n",
       "    }\n",
       "\n",
       "    .colab-df-convert {\n",
       "      background-color: #E8F0FE;\n",
       "      border: none;\n",
       "      border-radius: 50%;\n",
       "      cursor: pointer;\n",
       "      display: none;\n",
       "      fill: #1967D2;\n",
       "      height: 32px;\n",
       "      padding: 0 0 0 0;\n",
       "      width: 32px;\n",
       "    }\n",
       "\n",
       "    .colab-df-convert:hover {\n",
       "      background-color: #E2EBFA;\n",
       "      box-shadow: 0px 1px 2px rgba(60, 64, 67, 0.3), 0px 1px 3px 1px rgba(60, 64, 67, 0.15);\n",
       "      fill: #174EA6;\n",
       "    }\n",
       "\n",
       "    [theme=dark] .colab-df-convert {\n",
       "      background-color: #3B4455;\n",
       "      fill: #D2E3FC;\n",
       "    }\n",
       "\n",
       "    [theme=dark] .colab-df-convert:hover {\n",
       "      background-color: #434B5C;\n",
       "      box-shadow: 0px 1px 3px 1px rgba(0, 0, 0, 0.15);\n",
       "      filter: drop-shadow(0px 1px 2px rgba(0, 0, 0, 0.3));\n",
       "      fill: #FFFFFF;\n",
       "    }\n",
       "  </style>\n",
       "\n",
       "      <script>\n",
       "        const buttonEl =\n",
       "          document.querySelector('#df-9534f453-d890-43c6-94b9-d6ec171d3c89 button.colab-df-convert');\n",
       "        buttonEl.style.display =\n",
       "          google.colab.kernel.accessAllowed ? 'block' : 'none';\n",
       "\n",
       "        async function convertToInteractive(key) {\n",
       "          const element = document.querySelector('#df-9534f453-d890-43c6-94b9-d6ec171d3c89');\n",
       "          const dataTable =\n",
       "            await google.colab.kernel.invokeFunction('convertToInteractive',\n",
       "                                                     [key], {});\n",
       "          if (!dataTable) return;\n",
       "\n",
       "          const docLinkHtml = 'Like what you see? Visit the ' +\n",
       "            '<a target=\"_blank\" href=https://colab.research.google.com/notebooks/data_table.ipynb>data table notebook</a>'\n",
       "            + ' to learn more about interactive tables.';\n",
       "          element.innerHTML = '';\n",
       "          dataTable['output_type'] = 'display_data';\n",
       "          await google.colab.output.renderOutput(dataTable, element);\n",
       "          const docLink = document.createElement('div');\n",
       "          docLink.innerHTML = docLinkHtml;\n",
       "          element.appendChild(docLink);\n",
       "        }\n",
       "      </script>\n",
       "    </div>\n",
       "  </div>\n",
       "  "
      ],
      "text/plain": [
       "           id  diagnosis  radius_mean  texture_mean  perimeter_mean  \\\n",
       "0      842302          1        17.99         10.38          122.80   \n",
       "1      842517          1        20.57         17.77          132.90   \n",
       "2    84300903          1        19.69         21.25          130.00   \n",
       "566    926954          1        16.60         28.08          108.30   \n",
       "567    927241          1        20.60         29.33          140.10   \n",
       "568     92751          0         7.76         24.54           47.92   \n",
       "\n",
       "     area_mean  smoothness_mean  compactness_mean  concavity_mean  \\\n",
       "0       1001.0          0.11840           0.27760         0.30010   \n",
       "1       1326.0          0.08474           0.07864         0.08690   \n",
       "2       1203.0          0.10960           0.15990         0.19740   \n",
       "566      858.1          0.08455           0.10230         0.09251   \n",
       "567     1265.0          0.11780           0.27700         0.35140   \n",
       "568      181.0          0.05263           0.04362         0.00000   \n",
       "\n",
       "     concave points_mean  ...  texture_worst  perimeter_worst  area_worst  \\\n",
       "0                0.14710  ...          17.33           184.60      2019.0   \n",
       "1                0.07017  ...          23.41           158.80      1956.0   \n",
       "2                0.12790  ...          25.53           152.50      1709.0   \n",
       "566              0.05302  ...          34.12           126.70      1124.0   \n",
       "567              0.15200  ...          39.42           184.60      1821.0   \n",
       "568              0.00000  ...          30.37            59.16       268.6   \n",
       "\n",
       "     smoothness_worst  compactness_worst  concavity_worst  \\\n",
       "0             0.16220            0.66560           0.7119   \n",
       "1             0.12380            0.18660           0.2416   \n",
       "2             0.14440            0.42450           0.4504   \n",
       "566           0.11390            0.30940           0.3403   \n",
       "567           0.16500            0.86810           0.9387   \n",
       "568           0.08996            0.06444           0.0000   \n",
       "\n",
       "     concave points_worst  symmetry_worst  fractal_dimension_worst  \\\n",
       "0                  0.2654          0.4601                  0.11890   \n",
       "1                  0.1860          0.2750                  0.08902   \n",
       "2                  0.2430          0.3613                  0.08758   \n",
       "566                0.1418          0.2218                  0.07820   \n",
       "567                0.2650          0.4087                  0.12400   \n",
       "568                0.0000          0.2871                  0.07039   \n",
       "\n",
       "     Unnamed: 32  \n",
       "0            NaN  \n",
       "1            NaN  \n",
       "2            NaN  \n",
       "566          NaN  \n",
       "567          NaN  \n",
       "568          NaN  \n",
       "\n",
       "[6 rows x 33 columns]"
      ]
     },
     "execution_count": 181,
     "metadata": {},
     "output_type": "execute_result"
    }
   ],
   "source": [
    "data.head(3).append(data.tail(3))"
   ]
  },
  {
   "cell_type": "code",
   "execution_count": null,
   "metadata": {
    "id": "g0510iPQja8u"
   },
   "outputs": [],
   "source": [
    "data.drop('Unnamed: 32',axis=1, inplace=True)"
   ]
  },
  {
   "cell_type": "code",
   "execution_count": null,
   "metadata": {
    "colab": {
     "base_uri": "https://localhost:8080/"
    },
    "executionInfo": {
     "elapsed": 23,
     "status": "ok",
     "timestamp": 1664873623298,
     "user": {
      "displayName": "Yongjin Jeong",
      "userId": "03658406798560557048"
     },
     "user_tz": -540
    },
    "id": "JJI_NePrkyO9",
    "outputId": "8515e72c-d0ba-4667-c489-7ab84089c1c1"
   },
   "outputs": [
    {
     "data": {
      "text/plain": [
       "(140718636982608, 140718634805968)"
      ]
     },
     "execution_count": 183,
     "metadata": {},
     "output_type": "execute_result"
    }
   ],
   "source": [
    "data_org = data.copy()\n",
    "id(data), id(data_org)"
   ]
  },
  {
   "cell_type": "code",
   "execution_count": null,
   "metadata": {
    "colab": {
     "base_uri": "https://localhost:8080/",
     "height": 654
    },
    "executionInfo": {
     "elapsed": 1467,
     "status": "ok",
     "timestamp": 1664873624749,
     "user": {
      "displayName": "Yongjin Jeong",
      "userId": "03658406798560557048"
     },
     "user_tz": -540
    },
    "id": "t3_EwoMNRCt9",
    "outputId": "2454b014-682b-4ab8-a157-d19a586e4328"
   },
   "outputs": [
    {
     "data": {
      "image/png": "[encoded data removed]",
      "text/plain": [
       "<Figure size 864x648 with 2 Axes>"
      ]
     },
     "metadata": {
      "image/png": {
       "height": 637,
       "width": 722
      },
      "needs_background": "light"
     },
     "output_type": "display_data"
    }
   ],
   "source": [
    "corrmat = data.corr()\n",
    "\n",
    "f, ax = plt.subplots(figsize=(12, 9))\n",
    "sns.heatmap(corrmat, vmax=.8, square=True);"
   ]
  },
  {
   "cell_type": "code",
   "execution_count": null,
   "metadata": {
    "colab": {
     "base_uri": "https://localhost:8080/"
    },
    "executionInfo": {
     "elapsed": 22,
     "status": "ok",
     "timestamp": 1664873624750,
     "user": {
      "displayName": "Yongjin Jeong",
      "userId": "03658406798560557048"
     },
     "user_tz": -540
    },
    "id": "5sr76UkoRCt-",
    "outputId": "ebc57c62-c675-4d87-bed2-834dcbf7ac30"
   },
   "outputs": [
    {
     "data": {
      "text/plain": [
       "Index(['diagnosis', 'concave points_worst', 'perimeter_worst',\n",
       "       'concave points_mean', 'radius_worst'],\n",
       "      dtype='object')"
      ]
     },
     "execution_count": 185,
     "metadata": {},
     "output_type": "execute_result"
    }
   ],
   "source": [
    "corrmat.nlargest(5, 'diagnosis').index   # just for checking"
   ]
  },
  {
   "cell_type": "code",
   "execution_count": null,
   "metadata": {
    "colab": {
     "base_uri": "https://localhost:8080/",
     "height": 508
    },
    "executionInfo": {
     "elapsed": 18,
     "status": "ok",
     "timestamp": 1664873624751,
     "user": {
      "displayName": "Yongjin Jeong",
      "userId": "03658406798560557048"
     },
     "user_tz": -540
    },
    "id": "wJ9v7R-MRCt-",
    "outputId": "fdb03ba2-b455-459d-c059-4783ed17c461"
   },
   "outputs": [
    {
     "data": {
      "text/html": [
       "\n",
       "  <div id=\"df-5ff1b778-0b7e-4956-aec8-2c8a4dcebe39\">\n",
       "    <div class=\"colab-df-container\">\n",
       "      <div>\n",
       "<style scoped>\n",
       "    .dataframe tbody tr th:only-of-type {\n",
       "        vertical-align: middle;\n",
       "    }\n",
       "\n",
       "    .dataframe tbody tr th {\n",
       "        vertical-align: top;\n",
       "    }\n",
       "\n",
       "    .dataframe thead th {\n",
       "        text-align: right;\n",
       "    }\n",
       "</style>\n",
       "<table border=\"1\" class=\"dataframe\">\n",
       "  <thead>\n",
       "    <tr style=\"text-align: right;\">\n",
       "      <th></th>\n",
       "      <th>id</th>\n",
       "      <th>diagnosis</th>\n",
       "      <th>radius_mean</th>\n",
       "      <th>texture_mean</th>\n",
       "      <th>perimeter_mean</th>\n",
       "      <th>area_mean</th>\n",
       "      <th>smoothness_mean</th>\n",
       "      <th>compactness_mean</th>\n",
       "      <th>concavity_mean</th>\n",
       "      <th>concave points_mean</th>\n",
       "      <th>...</th>\n",
       "      <th>radius_worst</th>\n",
       "      <th>texture_worst</th>\n",
       "      <th>perimeter_worst</th>\n",
       "      <th>area_worst</th>\n",
       "      <th>smoothness_worst</th>\n",
       "      <th>compactness_worst</th>\n",
       "      <th>concavity_worst</th>\n",
       "      <th>concave points_worst</th>\n",
       "      <th>symmetry_worst</th>\n",
       "      <th>fractal_dimension_worst</th>\n",
       "    </tr>\n",
       "  </thead>\n",
       "  <tbody>\n",
       "    <tr>\n",
       "      <th>diagnosis</th>\n",
       "      <td>0.039769</td>\n",
       "      <td>1.000000</td>\n",
       "      <td>0.730029</td>\n",
       "      <td>0.415185</td>\n",
       "      <td>0.742636</td>\n",
       "      <td>0.708984</td>\n",
       "      <td>0.358560</td>\n",
       "      <td>0.596534</td>\n",
       "      <td>0.696360</td>\n",
       "      <td>0.776614</td>\n",
       "      <td>...</td>\n",
       "      <td>0.776454</td>\n",
       "      <td>0.456903</td>\n",
       "      <td>0.782914</td>\n",
       "      <td>0.733825</td>\n",
       "      <td>0.421465</td>\n",
       "      <td>0.590998</td>\n",
       "      <td>0.659610</td>\n",
       "      <td>0.793566</td>\n",
       "      <td>0.416294</td>\n",
       "      <td>0.323872</td>\n",
       "    </tr>\n",
       "    <tr>\n",
       "      <th>concave points_worst</th>\n",
       "      <td>0.035174</td>\n",
       "      <td>0.793566</td>\n",
       "      <td>0.744214</td>\n",
       "      <td>0.295316</td>\n",
       "      <td>0.771241</td>\n",
       "      <td>0.722017</td>\n",
       "      <td>0.503053</td>\n",
       "      <td>0.815573</td>\n",
       "      <td>0.861323</td>\n",
       "      <td>0.910155</td>\n",
       "      <td>...</td>\n",
       "      <td>0.787424</td>\n",
       "      <td>0.359755</td>\n",
       "      <td>0.816322</td>\n",
       "      <td>0.747419</td>\n",
       "      <td>0.547691</td>\n",
       "      <td>0.801080</td>\n",
       "      <td>0.855434</td>\n",
       "      <td>1.000000</td>\n",
       "      <td>0.502528</td>\n",
       "      <td>0.511114</td>\n",
       "    </tr>\n",
       "    <tr>\n",
       "      <th>perimeter_worst</th>\n",
       "      <td>0.079986</td>\n",
       "      <td>0.782914</td>\n",
       "      <td>0.965137</td>\n",
       "      <td>0.358040</td>\n",
       "      <td>0.970387</td>\n",
       "      <td>0.959120</td>\n",
       "      <td>0.238853</td>\n",
       "      <td>0.590210</td>\n",
       "      <td>0.729565</td>\n",
       "      <td>0.855923</td>\n",
       "      <td>...</td>\n",
       "      <td>0.993708</td>\n",
       "      <td>0.365098</td>\n",
       "      <td>1.000000</td>\n",
       "      <td>0.977578</td>\n",
       "      <td>0.236775</td>\n",
       "      <td>0.529408</td>\n",
       "      <td>0.618344</td>\n",
       "      <td>0.816322</td>\n",
       "      <td>0.269493</td>\n",
       "      <td>0.138957</td>\n",
       "    </tr>\n",
       "    <tr>\n",
       "      <th>concave points_mean</th>\n",
       "      <td>0.044158</td>\n",
       "      <td>0.776614</td>\n",
       "      <td>0.822529</td>\n",
       "      <td>0.293464</td>\n",
       "      <td>0.850977</td>\n",
       "      <td>0.823269</td>\n",
       "      <td>0.553695</td>\n",
       "      <td>0.831135</td>\n",
       "      <td>0.921391</td>\n",
       "      <td>1.000000</td>\n",
       "      <td>...</td>\n",
       "      <td>0.830318</td>\n",
       "      <td>0.292752</td>\n",
       "      <td>0.855923</td>\n",
       "      <td>0.809630</td>\n",
       "      <td>0.452753</td>\n",
       "      <td>0.667454</td>\n",
       "      <td>0.752399</td>\n",
       "      <td>0.910155</td>\n",
       "      <td>0.375744</td>\n",
       "      <td>0.368661</td>\n",
       "    </tr>\n",
       "    <tr>\n",
       "      <th>radius_worst</th>\n",
       "      <td>0.082405</td>\n",
       "      <td>0.776454</td>\n",
       "      <td>0.969539</td>\n",
       "      <td>0.352573</td>\n",
       "      <td>0.969476</td>\n",
       "      <td>0.962746</td>\n",
       "      <td>0.213120</td>\n",
       "      <td>0.535315</td>\n",
       "      <td>0.688236</td>\n",
       "      <td>0.830318</td>\n",
       "      <td>...</td>\n",
       "      <td>1.000000</td>\n",
       "      <td>0.359921</td>\n",
       "      <td>0.993708</td>\n",
       "      <td>0.984015</td>\n",
       "      <td>0.216574</td>\n",
       "      <td>0.475820</td>\n",
       "      <td>0.573975</td>\n",
       "      <td>0.787424</td>\n",
       "      <td>0.243529</td>\n",
       "      <td>0.093492</td>\n",
       "    </tr>\n",
       "    <tr>\n",
       "      <th>perimeter_mean</th>\n",
       "      <td>0.073159</td>\n",
       "      <td>0.742636</td>\n",
       "      <td>0.997855</td>\n",
       "      <td>0.329533</td>\n",
       "      <td>1.000000</td>\n",
       "      <td>0.986507</td>\n",
       "      <td>0.207278</td>\n",
       "      <td>0.556936</td>\n",
       "      <td>0.716136</td>\n",
       "      <td>0.850977</td>\n",
       "      <td>...</td>\n",
       "      <td>0.969476</td>\n",
       "      <td>0.303038</td>\n",
       "      <td>0.970387</td>\n",
       "      <td>0.941550</td>\n",
       "      <td>0.150549</td>\n",
       "      <td>0.455774</td>\n",
       "      <td>0.563879</td>\n",
       "      <td>0.771241</td>\n",
       "      <td>0.189115</td>\n",
       "      <td>0.051019</td>\n",
       "    </tr>\n",
       "    <tr>\n",
       "      <th>area_worst</th>\n",
       "      <td>0.107187</td>\n",
       "      <td>0.733825</td>\n",
       "      <td>0.941082</td>\n",
       "      <td>0.343546</td>\n",
       "      <td>0.941550</td>\n",
       "      <td>0.959213</td>\n",
       "      <td>0.206718</td>\n",
       "      <td>0.509604</td>\n",
       "      <td>0.675987</td>\n",
       "      <td>0.809630</td>\n",
       "      <td>...</td>\n",
       "      <td>0.984015</td>\n",
       "      <td>0.345842</td>\n",
       "      <td>0.977578</td>\n",
       "      <td>1.000000</td>\n",
       "      <td>0.209145</td>\n",
       "      <td>0.438296</td>\n",
       "      <td>0.543331</td>\n",
       "      <td>0.747419</td>\n",
       "      <td>0.209146</td>\n",
       "      <td>0.079647</td>\n",
       "    </tr>\n",
       "    <tr>\n",
       "      <th>radius_mean</th>\n",
       "      <td>0.074626</td>\n",
       "      <td>0.730029</td>\n",
       "      <td>1.000000</td>\n",
       "      <td>0.323782</td>\n",
       "      <td>0.997855</td>\n",
       "      <td>0.987357</td>\n",
       "      <td>0.170581</td>\n",
       "      <td>0.506124</td>\n",
       "      <td>0.676764</td>\n",
       "      <td>0.822529</td>\n",
       "      <td>...</td>\n",
       "      <td>0.969539</td>\n",
       "      <td>0.297008</td>\n",
       "      <td>0.965137</td>\n",
       "      <td>0.941082</td>\n",
       "      <td>0.119616</td>\n",
       "      <td>0.413463</td>\n",
       "      <td>0.526911</td>\n",
       "      <td>0.744214</td>\n",
       "      <td>0.163953</td>\n",
       "      <td>0.007066</td>\n",
       "    </tr>\n",
       "    <tr>\n",
       "      <th>area_mean</th>\n",
       "      <td>0.096893</td>\n",
       "      <td>0.708984</td>\n",
       "      <td>0.987357</td>\n",
       "      <td>0.321086</td>\n",
       "      <td>0.986507</td>\n",
       "      <td>1.000000</td>\n",
       "      <td>0.177028</td>\n",
       "      <td>0.498502</td>\n",
       "      <td>0.685983</td>\n",
       "      <td>0.823269</td>\n",
       "      <td>...</td>\n",
       "      <td>0.962746</td>\n",
       "      <td>0.287489</td>\n",
       "      <td>0.959120</td>\n",
       "      <td>0.959213</td>\n",
       "      <td>0.123523</td>\n",
       "      <td>0.390410</td>\n",
       "      <td>0.512606</td>\n",
       "      <td>0.722017</td>\n",
       "      <td>0.143570</td>\n",
       "      <td>0.003738</td>\n",
       "    </tr>\n",
       "    <tr>\n",
       "      <th>concavity_mean</th>\n",
       "      <td>0.050080</td>\n",
       "      <td>0.696360</td>\n",
       "      <td>0.676764</td>\n",
       "      <td>0.302418</td>\n",
       "      <td>0.716136</td>\n",
       "      <td>0.685983</td>\n",
       "      <td>0.521984</td>\n",
       "      <td>0.883121</td>\n",
       "      <td>1.000000</td>\n",
       "      <td>0.921391</td>\n",
       "      <td>...</td>\n",
       "      <td>0.688236</td>\n",
       "      <td>0.299879</td>\n",
       "      <td>0.729565</td>\n",
       "      <td>0.675987</td>\n",
       "      <td>0.448822</td>\n",
       "      <td>0.754968</td>\n",
       "      <td>0.884103</td>\n",
       "      <td>0.861323</td>\n",
       "      <td>0.409464</td>\n",
       "      <td>0.514930</td>\n",
       "    </tr>\n",
       "  </tbody>\n",
       "</table>\n",
       "<p>10 rows × 32 columns</p>\n",
       "</div>\n",
       "      <button class=\"colab-df-convert\" onclick=\"convertToInteractive('df-5ff1b778-0b7e-4956-aec8-2c8a4dcebe39')\"\n",
       "              title=\"Convert this dataframe to an interactive table.\"\n",
       "              style=\"display:none;\">\n",
       "        \n",
       "  <svg xmlns=\"http://www.w3.org/2000/svg\" height=\"24px\"viewBox=\"0 0 24 24\"\n",
       "       width=\"24px\">\n",
       "    <path d=\"M0 0h24v24H0V0z\" fill=\"none\"/>\n",
       "    <path d=\"M18.56 5.44l.94 2.06.94-2.06 2.06-.94-2.06-.94-.94-2.06-.94 2.06-2.06.94zm-11 1L8.5 8.5l.94-2.06 2.06-.94-2.06-.94L8.5 2.5l-.94 2.06-2.06.94zm10 10l.94 2.06.94-2.06 2.06-.94-2.06-.94-.94-2.06-.94 2.06-2.06.94z\"/><path d=\"M17.41 7.96l-1.37-1.37c-.4-.4-.92-.59-1.43-.59-.52 0-1.04.2-1.43.59L10.3 9.45l-7.72 7.72c-.78.78-.78 2.05 0 2.83L4 21.41c.39.39.9.59 1.41.59.51 0 1.02-.2 1.41-.59l7.78-7.78 2.81-2.81c.8-.78.8-2.07 0-2.86zM5.41 20L4 18.59l7.72-7.72 1.47 1.35L5.41 20z\"/>\n",
       "  </svg>\n",
       "      </button>\n",
       "      \n",
       "  <style>\n",
       "    .colab-df-container {\n",
       "      display:flex;\n",
       "      flex-wrap:wrap;\n",
       "      gap: 12px;\n",
       "    }\n",
       "\n",
       "    .colab-df-convert {\n",
       "      background-color: #E8F0FE;\n",
       "      border: none;\n",
       "      border-radius: 50%;\n",
       "      cursor: pointer;\n",
       "      display: none;\n",
       "      fill: #1967D2;\n",
       "      height: 32px;\n",
       "      padding: 0 0 0 0;\n",
       "      width: 32px;\n",
       "    }\n",
       "\n",
       "    .colab-df-convert:hover {\n",
       "      background-color: #E2EBFA;\n",
       "      box-shadow: 0px 1px 2px rgba(60, 64, 67, 0.3), 0px 1px 3px 1px rgba(60, 64, 67, 0.15);\n",
       "      fill: #174EA6;\n",
       "    }\n",
       "\n",
       "    [theme=dark] .colab-df-convert {\n",
       "      background-color: #3B4455;\n",
       "      fill: #D2E3FC;\n",
       "    }\n",
       "\n",
       "    [theme=dark] .colab-df-convert:hover {\n",
       "      background-color: #434B5C;\n",
       "      box-shadow: 0px 1px 3px 1px rgba(0, 0, 0, 0.15);\n",
       "      filter: drop-shadow(0px 1px 2px rgba(0, 0, 0, 0.3));\n",
       "      fill: #FFFFFF;\n",
       "    }\n",
       "  </style>\n",
       "\n",
       "      <script>\n",
       "        const buttonEl =\n",
       "          document.querySelector('#df-5ff1b778-0b7e-4956-aec8-2c8a4dcebe39 button.colab-df-convert');\n",
       "        buttonEl.style.display =\n",
       "          google.colab.kernel.accessAllowed ? 'block' : 'none';\n",
       "\n",
       "        async function convertToInteractive(key) {\n",
       "          const element = document.querySelector('#df-5ff1b778-0b7e-4956-aec8-2c8a4dcebe39');\n",
       "          const dataTable =\n",
       "            await google.colab.kernel.invokeFunction('convertToInteractive',\n",
       "                                                     [key], {});\n",
       "          if (!dataTable) return;\n",
       "\n",
       "          const docLinkHtml = 'Like what you see? Visit the ' +\n",
       "            '<a target=\"_blank\" href=https://colab.research.google.com/notebooks/data_table.ipynb>data table notebook</a>'\n",
       "            + ' to learn more about interactive tables.';\n",
       "          element.innerHTML = '';\n",
       "          dataTable['output_type'] = 'display_data';\n",
       "          await google.colab.output.renderOutput(dataTable, element);\n",
       "          const docLink = document.createElement('div');\n",
       "          docLink.innerHTML = docLinkHtml;\n",
       "          element.appendChild(docLink);\n",
       "        }\n",
       "      </script>\n",
       "    </div>\n",
       "  </div>\n",
       "  "
      ],
      "text/plain": [
       "                            id  diagnosis  radius_mean  texture_mean  \\\n",
       "diagnosis             0.039769   1.000000     0.730029      0.415185   \n",
       "concave points_worst  0.035174   0.793566     0.744214      0.295316   \n",
       "perimeter_worst       0.079986   0.782914     0.965137      0.358040   \n",
       "concave points_mean   0.044158   0.776614     0.822529      0.293464   \n",
       "radius_worst          0.082405   0.776454     0.969539      0.352573   \n",
       "perimeter_mean        0.073159   0.742636     0.997855      0.329533   \n",
       "area_worst            0.107187   0.733825     0.941082      0.343546   \n",
       "radius_mean           0.074626   0.730029     1.000000      0.323782   \n",
       "area_mean             0.096893   0.708984     0.987357      0.321086   \n",
       "concavity_mean        0.050080   0.696360     0.676764      0.302418   \n",
       "\n",
       "                      perimeter_mean  area_mean  smoothness_mean  \\\n",
       "diagnosis                   0.742636   0.708984         0.358560   \n",
       "concave points_worst        0.771241   0.722017         0.503053   \n",
       "perimeter_worst             0.970387   0.959120         0.238853   \n",
       "concave points_mean         0.850977   0.823269         0.553695   \n",
       "radius_worst                0.969476   0.962746         0.213120   \n",
       "perimeter_mean              1.000000   0.986507         0.207278   \n",
       "area_worst                  0.941550   0.959213         0.206718   \n",
       "radius_mean                 0.997855   0.987357         0.170581   \n",
       "area_mean                   0.986507   1.000000         0.177028   \n",
       "concavity_mean              0.716136   0.685983         0.521984   \n",
       "\n",
       "                      compactness_mean  concavity_mean  concave points_mean  \\\n",
       "diagnosis                     0.596534        0.696360             0.776614   \n",
       "concave points_worst          0.815573        0.861323             0.910155   \n",
       "perimeter_worst               0.590210        0.729565             0.855923   \n",
       "concave points_mean           0.831135        0.921391             1.000000   \n",
       "radius_worst                  0.535315        0.688236             0.830318   \n",
       "perimeter_mean                0.556936        0.716136             0.850977   \n",
       "area_worst                    0.509604        0.675987             0.809630   \n",
       "radius_mean                   0.506124        0.676764             0.822529   \n",
       "area_mean                     0.498502        0.685983             0.823269   \n",
       "concavity_mean                0.883121        1.000000             0.921391   \n",
       "\n",
       "                      ...  radius_worst  texture_worst  perimeter_worst  \\\n",
       "diagnosis             ...      0.776454       0.456903         0.782914   \n",
       "concave points_worst  ...      0.787424       0.359755         0.816322   \n",
       "perimeter_worst       ...      0.993708       0.365098         1.000000   \n",
       "concave points_mean   ...      0.830318       0.292752         0.855923   \n",
       "radius_worst          ...      1.000000       0.359921         0.993708   \n",
       "perimeter_mean        ...      0.969476       0.303038         0.970387   \n",
       "area_worst            ...      0.984015       0.345842         0.977578   \n",
       "radius_mean           ...      0.969539       0.297008         0.965137   \n",
       "area_mean             ...      0.962746       0.287489         0.959120   \n",
       "concavity_mean        ...      0.688236       0.299879         0.729565   \n",
       "\n",
       "                      area_worst  smoothness_worst  compactness_worst  \\\n",
       "diagnosis               0.733825          0.421465           0.590998   \n",
       "concave points_worst    0.747419          0.547691           0.801080   \n",
       "perimeter_worst         0.977578          0.236775           0.529408   \n",
       "concave points_mean     0.809630          0.452753           0.667454   \n",
       "radius_worst            0.984015          0.216574           0.475820   \n",
       "perimeter_mean          0.941550          0.150549           0.455774   \n",
       "area_worst              1.000000          0.209145           0.438296   \n",
       "radius_mean             0.941082          0.119616           0.413463   \n",
       "area_mean               0.959213          0.123523           0.390410   \n",
       "concavity_mean          0.675987          0.448822           0.754968   \n",
       "\n",
       "                      concavity_worst  concave points_worst  symmetry_worst  \\\n",
       "diagnosis                    0.659610              0.793566        0.416294   \n",
       "concave points_worst         0.855434              1.000000        0.502528   \n",
       "perimeter_worst              0.618344              0.816322        0.269493   \n",
       "concave points_mean          0.752399              0.910155        0.375744   \n",
       "radius_worst                 0.573975              0.787424        0.243529   \n",
       "perimeter_mean               0.563879              0.771241        0.189115   \n",
       "area_worst                   0.543331              0.747419        0.209146   \n",
       "radius_mean                  0.526911              0.744214        0.163953   \n",
       "area_mean                    0.512606              0.722017        0.143570   \n",
       "concavity_mean               0.884103              0.861323        0.409464   \n",
       "\n",
       "                      fractal_dimension_worst  \n",
       "diagnosis                            0.323872  \n",
       "concave points_worst                 0.511114  \n",
       "perimeter_worst                      0.138957  \n",
       "concave points_mean                  0.368661  \n",
       "radius_worst                         0.093492  \n",
       "perimeter_mean                       0.051019  \n",
       "area_worst                           0.079647  \n",
       "radius_mean                          0.007066  \n",
       "area_mean                            0.003738  \n",
       "concavity_mean                       0.514930  \n",
       "\n",
       "[10 rows x 32 columns]"
      ]
     },
     "execution_count": 186,
     "metadata": {},
     "output_type": "execute_result"
    }
   ],
   "source": [
    "corrmat.sort_values(by='diagnosis', ascending=False).head(10)   # just for checking"
   ]
  },
  {
   "cell_type": "code",
   "execution_count": null,
   "metadata": {
    "colab": {
     "base_uri": "https://localhost:8080/"
    },
    "executionInfo": {
     "elapsed": 17,
     "status": "ok",
     "timestamp": 1664873624751,
     "user": {
      "displayName": "Yongjin Jeong",
      "userId": "03658406798560557048"
     },
     "user_tz": -540
    },
    "id": "eIEUfNgxQyr1",
    "outputId": "9cf3208c-b9c7-4fec-cba0-3fdeef86d3ac"
   },
   "outputs": [
    {
     "data": {
      "text/plain": [
       "Index(['id', 'diagnosis', 'radius_mean', 'texture_mean', 'perimeter_mean',\n",
       "       'area_mean', 'smoothness_mean', 'compactness_mean', 'concavity_mean',\n",
       "       'concave points_mean', 'symmetry_mean', 'fractal_dimension_mean',\n",
       "       'radius_se', 'texture_se', 'perimeter_se', 'area_se', 'smoothness_se',\n",
       "       'compactness_se', 'concavity_se', 'concave points_se', 'symmetry_se',\n",
       "       'fractal_dimension_se', 'radius_worst', 'texture_worst',\n",
       "       'perimeter_worst', 'area_worst', 'smoothness_worst',\n",
       "       'compactness_worst', 'concavity_worst', 'concave points_worst',\n",
       "       'symmetry_worst', 'fractal_dimension_worst'],\n",
       "      dtype='object')"
      ]
     },
     "execution_count": 187,
     "metadata": {},
     "output_type": "execute_result"
    }
   ],
   "source": [
    "data.columns"
   ]
  },
  {
   "cell_type": "code",
   "execution_count": null,
   "metadata": {
    "colab": {
     "base_uri": "https://localhost:8080/",
     "height": 206
    },
    "executionInfo": {
     "elapsed": 15,
     "status": "ok",
     "timestamp": 1664873624752,
     "user": {
      "displayName": "Yongjin Jeong",
      "userId": "03658406798560557048"
     },
     "user_tz": -540
    },
    "id": "8Dt1il9CRCt_",
    "outputId": "332c9e98-608e-496f-c823-a1872946721a"
   },
   "outputs": [
    {
     "data": {
      "text/html": [
       "\n",
       "  <div id=\"df-a582cdb7-024f-46c5-bbc2-1596deab913b\">\n",
       "    <div class=\"colab-df-container\">\n",
       "      <div>\n",
       "<style scoped>\n",
       "    .dataframe tbody tr th:only-of-type {\n",
       "        vertical-align: middle;\n",
       "    }\n",
       "\n",
       "    .dataframe tbody tr th {\n",
       "        vertical-align: top;\n",
       "    }\n",
       "\n",
       "    .dataframe thead th {\n",
       "        text-align: right;\n",
       "    }\n",
       "</style>\n",
       "<table border=\"1\" class=\"dataframe\">\n",
       "  <thead>\n",
       "    <tr style=\"text-align: right;\">\n",
       "      <th></th>\n",
       "      <th>diagnosis</th>\n",
       "      <th>radius_mean</th>\n",
       "      <th>texture_mean</th>\n",
       "    </tr>\n",
       "  </thead>\n",
       "  <tbody>\n",
       "    <tr>\n",
       "      <th>0</th>\n",
       "      <td>1</td>\n",
       "      <td>17.99</td>\n",
       "      <td>10.38</td>\n",
       "    </tr>\n",
       "    <tr>\n",
       "      <th>1</th>\n",
       "      <td>1</td>\n",
       "      <td>20.57</td>\n",
       "      <td>17.77</td>\n",
       "    </tr>\n",
       "    <tr>\n",
       "      <th>2</th>\n",
       "      <td>1</td>\n",
       "      <td>19.69</td>\n",
       "      <td>21.25</td>\n",
       "    </tr>\n",
       "    <tr>\n",
       "      <th>3</th>\n",
       "      <td>1</td>\n",
       "      <td>11.42</td>\n",
       "      <td>20.38</td>\n",
       "    </tr>\n",
       "    <tr>\n",
       "      <th>4</th>\n",
       "      <td>1</td>\n",
       "      <td>20.29</td>\n",
       "      <td>14.34</td>\n",
       "    </tr>\n",
       "  </tbody>\n",
       "</table>\n",
       "</div>\n",
       "      <button class=\"colab-df-convert\" onclick=\"convertToInteractive('df-a582cdb7-024f-46c5-bbc2-1596deab913b')\"\n",
       "              title=\"Convert this dataframe to an interactive table.\"\n",
       "              style=\"display:none;\">\n",
       "        \n",
       "  <svg xmlns=\"http://www.w3.org/2000/svg\" height=\"24px\"viewBox=\"0 0 24 24\"\n",
       "       width=\"24px\">\n",
       "    <path d=\"M0 0h24v24H0V0z\" fill=\"none\"/>\n",
       "    <path d=\"M18.56 5.44l.94 2.06.94-2.06 2.06-.94-2.06-.94-.94-2.06-.94 2.06-2.06.94zm-11 1L8.5 8.5l.94-2.06 2.06-.94-2.06-.94L8.5 2.5l-.94 2.06-2.06.94zm10 10l.94 2.06.94-2.06 2.06-.94-2.06-.94-.94-2.06-.94 2.06-2.06.94z\"/><path d=\"M17.41 7.96l-1.37-1.37c-.4-.4-.92-.59-1.43-.59-.52 0-1.04.2-1.43.59L10.3 9.45l-7.72 7.72c-.78.78-.78 2.05 0 2.83L4 21.41c.39.39.9.59 1.41.59.51 0 1.02-.2 1.41-.59l7.78-7.78 2.81-2.81c.8-.78.8-2.07 0-2.86zM5.41 20L4 18.59l7.72-7.72 1.47 1.35L5.41 20z\"/>\n",
       "  </svg>\n",
       "      </button>\n",
       "      \n",
       "  <style>\n",
       "    .colab-df-container {\n",
       "      display:flex;\n",
       "      flex-wrap:wrap;\n",
       "      gap: 12px;\n",
       "    }\n",
       "\n",
       "    .colab-df-convert {\n",
       "      background-color: #E8F0FE;\n",
       "      border: none;\n",
       "      border-radius: 50%;\n",
       "      cursor: pointer;\n",
       "      display: none;\n",
       "      fill: #1967D2;\n",
       "      height: 32px;\n",
       "      padding: 0 0 0 0;\n",
       "      width: 32px;\n",
       "    }\n",
       "\n",
       "    .colab-df-convert:hover {\n",
       "      background-color: #E2EBFA;\n",
       "      box-shadow: 0px 1px 2px rgba(60, 64, 67, 0.3), 0px 1px 3px 1px rgba(60, 64, 67, 0.15);\n",
       "      fill: #174EA6;\n",
       "    }\n",
       "\n",
       "    [theme=dark] .colab-df-convert {\n",
       "      background-color: #3B4455;\n",
       "      fill: #D2E3FC;\n",
       "    }\n",
       "\n",
       "    [theme=dark] .colab-df-convert:hover {\n",
       "      background-color: #434B5C;\n",
       "      box-shadow: 0px 1px 3px 1px rgba(0, 0, 0, 0.15);\n",
       "      filter: drop-shadow(0px 1px 2px rgba(0, 0, 0, 0.3));\n",
       "      fill: #FFFFFF;\n",
       "    }\n",
       "  </style>\n",
       "\n",
       "      <script>\n",
       "        const buttonEl =\n",
       "          document.querySelector('#df-a582cdb7-024f-46c5-bbc2-1596deab913b button.colab-df-convert');\n",
       "        buttonEl.style.display =\n",
       "          google.colab.kernel.accessAllowed ? 'block' : 'none';\n",
       "\n",
       "        async function convertToInteractive(key) {\n",
       "          const element = document.querySelector('#df-a582cdb7-024f-46c5-bbc2-1596deab913b');\n",
       "          const dataTable =\n",
       "            await google.colab.kernel.invokeFunction('convertToInteractive',\n",
       "                                                     [key], {});\n",
       "          if (!dataTable) return;\n",
       "\n",
       "          const docLinkHtml = 'Like what you see? Visit the ' +\n",
       "            '<a target=\"_blank\" href=https://colab.research.google.com/notebooks/data_table.ipynb>data table notebook</a>'\n",
       "            + ' to learn more about interactive tables.';\n",
       "          element.innerHTML = '';\n",
       "          dataTable['output_type'] = 'display_data';\n",
       "          await google.colab.output.renderOutput(dataTable, element);\n",
       "          const docLink = document.createElement('div');\n",
       "          docLink.innerHTML = docLinkHtml;\n",
       "          element.appendChild(docLink);\n",
       "        }\n",
       "      </script>\n",
       "    </div>\n",
       "  </div>\n",
       "  "
      ],
      "text/plain": [
       "   diagnosis  radius_mean  texture_mean\n",
       "0          1        17.99         10.38\n",
       "1          1        20.57         17.77\n",
       "2          1        19.69         21.25\n",
       "3          1        11.42         20.38\n",
       "4          1        20.29         14.34"
      ]
     },
     "execution_count": 188,
     "metadata": {},
     "output_type": "execute_result"
    }
   ],
   "source": [
    "df = data[[\"diagnosis\", \"radius_mean\", \"texture_mean\"]]\n",
    "df.head()"
   ]
  },
  {
   "cell_type": "code",
   "execution_count": null,
   "metadata": {
    "colab": {
     "base_uri": "https://localhost:8080/"
    },
    "executionInfo": {
     "elapsed": 15,
     "status": "ok",
     "timestamp": 1664873624752,
     "user": {
      "displayName": "Yongjin Jeong",
      "userId": "03658406798560557048"
     },
     "user_tz": -540
    },
    "id": "M_70gwTGRCuA",
    "outputId": "e74a60bb-cb5b-4231-feb3-265db58e5cfc"
   },
   "outputs": [
    {
     "name": "stdout",
     "output_type": "stream",
     "text": [
      "Score: 85.38%\n",
      "[[1.03283783]] [-15.35824085]\n"
     ]
    }
   ],
   "source": [
    "np.random.seed(11)\n",
    "features = [\"radius_mean\"]\n",
    "X, y = df[features], df[\"diagnosis\"]\n",
    "X_train, X_test, y_train, y_test = train_test_split(X, y, test_size = 0.3)\n",
    "\n",
    "model=LogisticRegression()\n",
    "model.fit(X_train, y_train)\n",
    "print(\"Score: {0:.2%}\".format(model.score(X_test, y_test)))\n",
    "print(model.coef_, model.intercept_)"
   ]
  },
  {
   "cell_type": "code",
   "execution_count": null,
   "metadata": {
    "colab": {
     "base_uri": "https://localhost:8080/",
     "height": 296
    },
    "executionInfo": {
     "elapsed": 1448,
     "status": "ok",
     "timestamp": 1664873626188,
     "user": {
      "displayName": "Yongjin Jeong",
      "userId": "03658406798560557048"
     },
     "user_tz": -540
    },
    "id": "hi0vu-u5RCuF",
    "outputId": "ad91c90b-9c8a-45a2-e448-7c1ac75535b3"
   },
   "outputs": [
    {
     "data": {
      "text/plain": [
       "[<matplotlib.lines.Line2D at 0x7ffb9bf72d90>]"
      ]
     },
     "execution_count": 190,
     "metadata": {},
     "output_type": "execute_result"
    },
    {
     "data": {
      "image/png": "[encoded data removed]",
      "text/plain": [
       "<Figure size 576x288 with 1 Axes>"
      ]
     },
     "metadata": {
      "image/png": {
       "height": 262,
       "width": 497
      },
      "needs_background": "light"
     },
     "output_type": "display_data"
    }
   ],
   "source": [
    "plt.figure(figsize=(8,4))\n",
    "plt.scatter(X_train, y_train, s=1)\n",
    "plt.xlabel(\"radius_mean\")\n",
    "plt.ylabel(\"M(1) or B(0)\")\n",
    "\n",
    "def logistic(x):\n",
    "    return 1 / (1 + np.exp(-x))\n",
    "\n",
    "XX = np.linspace(7.5, 40, 100)\n",
    "plt.plot(XX, logistic(model.coef_ * XX + model.intercept_)[0], c='r')"
   ]
  },
  {
   "cell_type": "code",
   "execution_count": null,
   "metadata": {
    "colab": {
     "base_uri": "https://localhost:8080/"
    },
    "executionInfo": {
     "elapsed": 36,
     "status": "ok",
     "timestamp": 1664873626189,
     "user": {
      "displayName": "Yongjin Jeong",
      "userId": "03658406798560557048"
     },
     "user_tz": -540
    },
    "id": "gKpAyyFuJnM2",
    "outputId": "c9343fb9-96f7-4121-c55d-8bfa03ae97c6"
   },
   "outputs": [
    {
     "name": "stderr",
     "output_type": "stream",
     "text": [
      "/usr/local/lib/python3.7/dist-packages/sklearn/base.py:451: UserWarning: X does not have valid feature names, but LogisticRegression was fitted with feature names\n",
      "  \"X does not have valid feature names, but\"\n"
     ]
    },
    {
     "data": {
      "text/plain": [
       "array([[9.99999786e-01, 2.13796531e-07],\n",
       "       [9.93502780e-01, 6.49721959e-03],\n",
       "       [4.66468747e-01, 5.33531253e-01],\n",
       "       [4.97414222e-03, 9.95025858e-01],\n",
       "       [1.63427844e-07, 9.99999837e-01],\n",
       "       [0.00000000e+00, 1.00000000e+00]])"
      ]
     },
     "execution_count": 191,
     "metadata": {},
     "output_type": "execute_result"
    }
   ],
   "source": [
    "X_new = np.array([0, 10, 15, 20, 30, 70])\n",
    "model.predict_proba(X_new.reshape(-1,1))"
   ]
  },
  {
   "cell_type": "code",
   "execution_count": null,
   "metadata": {
    "colab": {
     "base_uri": "https://localhost:8080/"
    },
    "executionInfo": {
     "elapsed": 35,
     "status": "ok",
     "timestamp": 1664873626190,
     "user": {
      "displayName": "Yongjin Jeong",
      "userId": "03658406798560557048"
     },
     "user_tz": -540
    },
    "id": "W_1Y8rjORCuF",
    "outputId": "7c173bcc-5e91-48a2-f3cf-4edd7441713d"
   },
   "outputs": [
    {
     "name": "stdout",
     "output_type": "stream",
     "text": [
      "Score: 69.59%\n"
     ]
    }
   ],
   "source": [
    "features = [\"texture_mean\"]            # standard deviation\n",
    "X = df[features]\n",
    "X_train, X_test, y_train, y_test = train_test_split(X, y, test_size = 0.3)\n",
    "\n",
    "model.fit(X_train, y_train)\n",
    "print(\"Score: {0:.2%}\".format(model.score(X_test, y_test)))"
   ]
  },
  {
   "cell_type": "code",
   "execution_count": null,
   "metadata": {
    "colab": {
     "base_uri": "https://localhost:8080/"
    },
    "executionInfo": {
     "elapsed": 34,
     "status": "ok",
     "timestamp": 1664873626191,
     "user": {
      "displayName": "Yongjin Jeong",
      "userId": "03658406798560557048"
     },
     "user_tz": -540
    },
    "id": "R2XQ3ACnRCuH",
    "outputId": "2c207fa4-0786-4f38-b645-d703b3aba580"
   },
   "outputs": [
    {
     "name": "stdout",
     "output_type": "stream",
     "text": [
      "[[0.24875651]] [-5.42869688]\n"
     ]
    }
   ],
   "source": [
    "print(model.coef_, model.intercept_)"
   ]
  },
  {
   "cell_type": "code",
   "execution_count": null,
   "metadata": {
    "colab": {
     "base_uri": "https://localhost:8080/",
     "height": 295
    },
    "executionInfo": {
     "elapsed": 31,
     "status": "ok",
     "timestamp": 1664873626192,
     "user": {
      "displayName": "Yongjin Jeong",
      "userId": "03658406798560557048"
     },
     "user_tz": -540
    },
    "id": "nocp6bygRCuI",
    "outputId": "0a7bb860-4be8-4553-cd2a-fb07f4423b8f"
   },
   "outputs": [
    {
     "data": {
      "text/plain": [
       "[<matplotlib.lines.Line2D at 0x7ffb9beebc10>]"
      ]
     },
     "execution_count": 194,
     "metadata": {},
     "output_type": "execute_result"
    },
    {
     "data": {
      "image/png": "[encoded data removed]",
      "text/plain": [
       "<Figure size 576x288 with 1 Axes>"
      ]
     },
     "metadata": {
      "image/png": {
       "height": 261,
       "width": 497
      },
      "needs_background": "light"
     },
     "output_type": "display_data"
    }
   ],
   "source": [
    "plt.figure(figsize=(8,4))\n",
    "plt.scatter(X_train, y_train, s=1)\n",
    "plt.xlabel(\"texture_mean\")\n",
    "plt.ylabel(\"M(1) or B(0)\")\n",
    "\n",
    "XX = np.linspace(7.5, 40, 100)\n",
    "plt.plot(XX, logistic(model.coef_ * XX + model.intercept_)[0], c='r')"
   ]
  },
  {
   "cell_type": "code",
   "execution_count": null,
   "metadata": {
    "colab": {
     "base_uri": "https://localhost:8080/"
    },
    "executionInfo": {
     "elapsed": 28,
     "status": "ok",
     "timestamp": 1664873626193,
     "user": {
      "displayName": "Yongjin Jeong",
      "userId": "03658406798560557048"
     },
     "user_tz": -540
    },
    "id": "v_AyPthwK3hv",
    "outputId": "cf801661-7973-46cf-971e-a0da0a43c6cb"
   },
   "outputs": [
    {
     "name": "stderr",
     "output_type": "stream",
     "text": [
      "/usr/local/lib/python3.7/dist-packages/sklearn/base.py:451: UserWarning: X does not have valid feature names, but LogisticRegression was fitted with feature names\n",
      "  \"X does not have valid feature names, but\"\n"
     ]
    },
    {
     "data": {
      "text/plain": [
       "array([[1.  , 0.  ],\n",
       "       [0.95, 0.05],\n",
       "       [0.85, 0.15],\n",
       "       [0.61, 0.39],\n",
       "       [0.12, 0.88],\n",
       "       [0.  , 1.  ]])"
      ]
     },
     "execution_count": 195,
     "metadata": {},
     "output_type": "execute_result"
    }
   ],
   "source": [
    "X_new = np.array([0, 10, 15, 20, 30, 70])\n",
    "model.predict_proba(X_new.reshape(-1,1)).round(2)"
   ]
  },
  {
   "cell_type": "markdown",
   "metadata": {
    "id": "L3UWTn23kQxZ"
   },
   "source": [
    "### Use two features"
   ]
  },
  {
   "cell_type": "code",
   "execution_count": null,
   "metadata": {
    "colab": {
     "base_uri": "https://localhost:8080/"
    },
    "executionInfo": {
     "elapsed": 26,
     "status": "ok",
     "timestamp": 1664873626193,
     "user": {
      "displayName": "Yongjin Jeong",
      "userId": "03658406798560557048"
     },
     "user_tz": -540
    },
    "id": "5YyOY2ReRCuJ",
    "outputId": "03c89ceb-2bc7-42c0-de11-b8a4854a8852"
   },
   "outputs": [
    {
     "name": "stdout",
     "output_type": "stream",
     "text": [
      "Score: 89.47%\n"
     ]
    }
   ],
   "source": [
    "features = [\"radius_mean\", \"texture_mean\"]\n",
    "\n",
    "X = df[features]\n",
    "X_train, X_test, y_train, y_test = train_test_split(X, y, test_size = 0.3)\n",
    "\n",
    "model.fit(X_train, y_train)\n",
    "print(\"Score: {0:.2%}\".format(model.score(X_test, y_test)))"
   ]
  },
  {
   "cell_type": "code",
   "execution_count": null,
   "metadata": {
    "colab": {
     "base_uri": "https://localhost:8080/",
     "height": 299
    },
    "executionInfo": {
     "elapsed": 25,
     "status": "ok",
     "timestamp": 1664873626194,
     "user": {
      "displayName": "Yongjin Jeong",
      "userId": "03658406798560557048"
     },
     "user_tz": -540
    },
    "id": "VwWQEMMnRCuJ",
    "outputId": "62e4b10e-2d83-4c1b-9ea9-8f9688cdce54"
   },
   "outputs": [
    {
     "data": {
      "text/plain": [
       "Text(0, 0.5, 'texture_mean')"
      ]
     },
     "execution_count": 197,
     "metadata": {},
     "output_type": "execute_result"
    },
    {
     "data": {
      "image/png": "[encoded data removed]",
      "text/plain": [
       "<Figure size 432x288 with 1 Axes>"
      ]
     },
     "metadata": {
      "image/png": {
       "height": 265,
       "width": 382
      },
      "needs_background": "light"
     },
     "output_type": "display_data"
    }
   ],
   "source": [
    "markers = ['o', 'v']\n",
    "label = [\"B\", \"M\"]         # 양성, 악성\n",
    "for i in range(2):\n",
    "    xs = X_train[\"radius_mean\"][y_train == i]\n",
    "    ys = X_train[\"texture_mean\"][y_train == i]\n",
    "    plt.scatter(xs, ys, marker=markers[i], s=10)\n",
    "plt.legend(label)\n",
    "plt.xlabel(\"radius_mean\")\n",
    "plt.ylabel(\"texture_mean\")"
   ]
  },
  {
   "cell_type": "code",
   "execution_count": null,
   "metadata": {
    "colab": {
     "base_uri": "https://localhost:8080/",
     "height": 314
    },
    "executionInfo": {
     "elapsed": 23,
     "status": "ok",
     "timestamp": 1664873626195,
     "user": {
      "displayName": "Yongjin Jeong",
      "userId": "03658406798560557048"
     },
     "user_tz": -540
    },
    "id": "fWshbZZARCuL",
    "outputId": "e60dbed0-3e95-4aee-f741-53755e7d0a3d"
   },
   "outputs": [
    {
     "name": "stdout",
     "output_type": "stream",
     "text": [
      "Score: 94.15%\n"
     ]
    },
    {
     "data": {
      "text/plain": [
       "Text(0, 0.5, 'perimeter_worst')"
      ]
     },
     "execution_count": 198,
     "metadata": {},
     "output_type": "execute_result"
    },
    {
     "data": {
      "image/png": "[encoded data removed]",
      "text/plain": [
       "<Figure size 432x288 with 1 Axes>"
      ]
     },
     "metadata": {
      "image/png": {
       "height": 262,
       "width": 394
      },
      "needs_background": "light"
     },
     "output_type": "display_data"
    }
   ],
   "source": [
    "# one more time with two most correlated features\n",
    "# 'concave points_worst', 'perimeter_worst', 'concave points_mean', 'radius_worst']\n",
    "\n",
    "features = [\"concave points_worst\", \"perimeter_worst\"]\n",
    "\n",
    "X = data[features]\n",
    "X_train, X_test, y_train, y_test = train_test_split(X, y, test_size = 0.3)\n",
    "\n",
    "model.fit(X_train, y_train)\n",
    "print(\"Score: {0:.2%}\".format(model.score(X_test, y_test)))\n",
    "\n",
    "markers = ['o', 'v']\n",
    "label = [\"B\", \"M\"]\n",
    "for i in range(2):\n",
    "    xs = X_train[\"concave points_worst\"][y_train == i]\n",
    "    ys = X_train[\"perimeter_worst\"][y_train == i]\n",
    "    plt.scatter(xs, ys, marker=markers[i], s=10)\n",
    "plt.legend(label)\n",
    "plt.xlabel(\"concave points_worst\")\n",
    "plt.ylabel(\"perimeter_worst\")"
   ]
  },
  {
   "cell_type": "markdown",
   "metadata": {
    "id": "bJwsPTL-LVrv"
   },
   "source": [
    "### with scaling"
   ]
  },
  {
   "cell_type": "code",
   "execution_count": null,
   "metadata": {
    "colab": {
     "base_uri": "https://localhost:8080/",
     "height": 314
    },
    "executionInfo": {
     "elapsed": 569,
     "status": "ok",
     "timestamp": 1664873626745,
     "user": {
      "displayName": "Yongjin Jeong",
      "userId": "03658406798560557048"
     },
     "user_tz": -540
    },
    "id": "NKuo94jpoXdV",
    "outputId": "8c6f56bf-731b-4e6a-c4ed-917f80fcd3f7"
   },
   "outputs": [
    {
     "name": "stdout",
     "output_type": "stream",
     "text": [
      "Score: 95.32%\n"
     ]
    },
    {
     "data": {
      "text/plain": [
       "Text(0, 0.5, 'perimeter_worst')"
      ]
     },
     "execution_count": 199,
     "metadata": {},
     "output_type": "execute_result"
    },
    {
     "data": {
      "image/png": "[encoded data removed]",
      "text/plain": [
       "<Figure size 432x288 with 1 Axes>"
      ]
     },
     "metadata": {
      "image/png": {
       "height": 262,
       "width": 384
      },
      "needs_background": "light"
     },
     "output_type": "display_data"
    }
   ],
   "source": [
    "# with scaling\n",
    "from sklearn.preprocessing import StandardScaler\n",
    "sc = StandardScaler()\n",
    "X_train_sc = sc.fit_transform(X_train)\n",
    "model.fit(X_train_sc, y_train)\n",
    "X_test_sc = sc.transform(X_test)\n",
    "\n",
    "print(\"Score: {0:.2%}\".format(model.score(X_test_sc, y_test)))\n",
    "\n",
    "markers = ['o', 'v']\n",
    "label = [\"B\", \"M\"]\n",
    "for i in range(2):\n",
    "    xs = X_train_sc[:,0][y_train == i]\n",
    "    ys = X_train_sc[:,1][y_train == i]\n",
    "    plt.scatter(xs, ys, marker=markers[i], s=10)\n",
    "plt.legend(label)\n",
    "plt.xlabel(\"concave points_worst\")\n",
    "plt.ylabel(\"perimeter_worst\")"
   ]
  },
  {
   "cell_type": "markdown",
   "metadata": {
    "id": "iiZe3jM-MA-l"
   },
   "source": [
    "- we got better performance."
   ]
  },
  {
   "cell_type": "markdown",
   "metadata": {
    "id": "D4T6HVRsRCuM"
   },
   "source": [
    "### Use all features\n",
    "- with scaling"
   ]
  },
  {
   "cell_type": "code",
   "execution_count": null,
   "metadata": {
    "id": "zBlLQwntRCuN"
   },
   "outputs": [],
   "source": [
    "# 모든 속성을 다 사용하여 로지스틱 회귀 분석을 수행\n",
    "data = data_org.copy()\n",
    "data.drop('id', axis=1, inplace=True)\n",
    "X, y = data.drop('diagnosis', axis=1), data['diagnosis']"
   ]
  },
  {
   "cell_type": "code",
   "execution_count": null,
   "metadata": {
    "colab": {
     "base_uri": "https://localhost:8080/"
    },
    "executionInfo": {
     "elapsed": 17,
     "status": "ok",
     "timestamp": 1664873626747,
     "user": {
      "displayName": "Yongjin Jeong",
      "userId": "03658406798560557048"
     },
     "user_tz": -540
    },
    "id": "Jmc4aqgzRCuN",
    "outputId": "ee40fad0-e2aa-424a-9e32-a354f42ac5fc"
   },
   "outputs": [
    {
     "name": "stdout",
     "output_type": "stream",
     "text": [
      "Score: 99.25%\n",
      "Score: 95.32%\n"
     ]
    }
   ],
   "source": [
    "np.random.seed(11)\n",
    "X_train, X_test, y_train, y_test = train_test_split(X, y, test_size = 0.3)\n",
    "sc = StandardScaler()\n",
    "sc.fit(X_train)\n",
    "X_train = sc.transform(X_train)\n",
    "model_all = LogisticRegression()\n",
    "model_all.fit(X_train, y_train)\n",
    "X_test = sc.transform(X_test)\n",
    "print(\"Score: {:.2%}\".format(model_all.score(X_train, y_train)))\n",
    "print(\"Score: {:.2%}\".format(model_all.score(X_test, y_test)))"
   ]
  },
  {
   "cell_type": "code",
   "execution_count": null,
   "metadata": {
    "colab": {
     "base_uri": "https://localhost:8080/"
    },
    "executionInfo": {
     "elapsed": 13,
     "status": "ok",
     "timestamp": 1664873626747,
     "user": {
      "displayName": "Yongjin Jeong",
      "userId": "03658406798560557048"
     },
     "user_tz": -540
    },
    "id": "iGazq0zWRCuO",
    "outputId": "2122e6d8-4659-4439-e517-4f2244ae8dc0"
   },
   "outputs": [
    {
     "name": "stdout",
     "output_type": "stream",
     "text": [
      "K =  1 -> Score: 94.74%\n",
      "K =  3 -> Score: 95.91%\n",
      "K =  5 -> Score: 96.49%\n",
      "K =  7 -> Score: 96.49%\n",
      "K =  9 -> Score: 97.66%\n",
      "K =  11 -> Score: 97.66%\n",
      "K =  13 -> Score: 97.66%\n",
      "K =  15 -> Score: 96.49%\n",
      "K =  17 -> Score: 95.91%\n",
      "K =  19 -> Score: 95.32%\n"
     ]
    }
   ],
   "source": [
    "# 모든 속성을 다 사용한 경우의 kNN의 성능\n",
    "from sklearn.neighbors import KNeighborsClassifier  \n",
    "for i in range(1,21,2):\n",
    "    knn = KNeighborsClassifier(n_neighbors=i)\n",
    "    knn.fit(X_train, y_train)\n",
    "    print(\"K = \", i, \"-> Score: {0:.2%}\".format(knn.score(X_test, y_test)))"
   ]
  },
  {
   "cell_type": "code",
   "execution_count": null,
   "metadata": {
    "colab": {
     "base_uri": "https://localhost:8080/"
    },
    "executionInfo": {
     "elapsed": 10,
     "status": "ok",
     "timestamp": 1664873626747,
     "user": {
      "displayName": "Yongjin Jeong",
      "userId": "03658406798560557048"
     },
     "user_tz": -540
    },
    "id": "IHYcc09uRCuO",
    "outputId": "e1ef820b-3e04-4861-942e-9d533e4c30b5"
   },
   "outputs": [
    {
     "name": "stdout",
     "output_type": "stream",
     "text": [
      "결정트리 -> 91.23%\n"
     ]
    }
   ],
   "source": [
    "from sklearn.tree import DecisionTreeClassifier\n",
    "tree = DecisionTreeClassifier()\n",
    "tree.fit(X_train, y_train)\n",
    "print(\"결정트리 -> {:.2%}\".format(tree.score(X_test, y_test)))"
   ]
  },
  {
   "cell_type": "code",
   "execution_count": null,
   "metadata": {
    "colab": {
     "base_uri": "https://localhost:8080/"
    },
    "executionInfo": {
     "elapsed": 1140,
     "status": "ok",
     "timestamp": 1664873627880,
     "user": {
      "displayName": "Yongjin Jeong",
      "userId": "03658406798560557048"
     },
     "user_tz": -540
    },
    "id": "-SdYrLT_RCuP",
    "outputId": "77bf2781-4c46-412f-ed91-fbb6436ce037"
   },
   "outputs": [
    {
     "name": "stdout",
     "output_type": "stream",
     "text": [
      "랜덤포레스트 : 96.49%\n"
     ]
    }
   ],
   "source": [
    "from sklearn.ensemble import RandomForestClassifier\n",
    "rfc = RandomForestClassifier(n_estimators=1000)    # no. of trees\n",
    "rfc.fit(X_train, y_train)\n",
    "print(\"랜덤포레스트 : {:.2%}\".format(rfc.score(X_test, y_test)))"
   ]
  },
  {
   "cell_type": "markdown",
   "metadata": {
    "id": "3e-qc3LwVI9O"
   },
   "source": [
    "# Multi-class Classification\n",
    "- LogisticRegression classifier(): \n",
    "- OvR and softmax() classifier\n",
    "- In the multiclass case, the training algorithm uses the one-vs-rest (OvR) scheme if the ‘multi_class’ option is set to ‘ovr’, and uses the cross-entropy loss if the ‘multi_class’ option is set to ‘multinomial’."
   ]
  },
  {
   "cell_type": "code",
   "execution_count": 1,
   "metadata": {
    "executionInfo": {
     "elapsed": 2213,
     "status": "ok",
     "timestamp": 1664936498097,
     "user": {
      "displayName": "Yongjin Jeong",
      "userId": "03658406798560557048"
     },
     "user_tz": -540
    },
    "id": "kGp0dsQ8VIrI"
   },
   "outputs": [],
   "source": [
    "import numpy as np\n",
    "import pandas as pd\n",
    "import matplotlib.pyplot as plt\n",
    "%matplotlib inline\n",
    "from sklearn import datasets\n",
    "from sklearn.model_selection import train_test_split\n",
    "from sklearn.linear_model import SGDClassifier, LogisticRegression\n",
    "from sklearn import metrics\n",
    "from sklearn.model_selection import cross_val_score, KFold"
   ]
  },
  {
   "cell_type": "markdown",
   "metadata": {
    "id": "4-heV37EVZY2"
   },
   "source": [
    "### Two multi-class models (with two features)\n",
    "- softmax regression (cross entropy loss)\n",
    "- ovr (one-vs-rest)"
   ]
  },
  {
   "cell_type": "code",
   "execution_count": 2,
   "metadata": {
    "colab": {
     "base_uri": "https://localhost:8080/"
    },
    "executionInfo": {
     "elapsed": 6,
     "status": "ok",
     "timestamp": 1664936498098,
     "user": {
      "displayName": "Yongjin Jeong",
      "userId": "03658406798560557048"
     },
     "user_tz": -540
    },
    "id": "Ggj7d5kXVcmD",
    "outputId": "623f81db-43b4-434f-9363-36bb3d6f9aa8"
   },
   "outputs": [
    {
     "data": {
      "text/plain": [
       "LogisticRegression(C=10, multi_class='ovr', random_state=42)"
      ]
     },
     "execution_count": 2,
     "metadata": {},
     "output_type": "execute_result"
    }
   ],
   "source": [
    "iris = datasets.load_iris()\n",
    "X, y = iris.data[:,(2,3)], iris.target\n",
    "\n",
    "softmax_reg = LogisticRegression(multi_class=\"multinomial\", \n",
    "                                 C=10,    # C: inverse of regularization strength\n",
    "                                 random_state=42) \n",
    "ovr_clf = LogisticRegression(multi_class=\"ovr\", \n",
    "                             C=10, \n",
    "                             random_state=42)\n",
    "softmax_reg.fit(X, y)\n",
    "ovr_clf.fit(X, y)"
   ]
  },
  {
   "cell_type": "code",
   "execution_count": 3,
   "metadata": {
    "colab": {
     "base_uri": "https://localhost:8080/"
    },
    "executionInfo": {
     "elapsed": 7,
     "status": "ok",
     "timestamp": 1664936499579,
     "user": {
      "displayName": "Yongjin Jeong",
      "userId": "03658406798560557048"
     },
     "user_tz": -540
    },
    "id": "EG4753fdVfT2",
    "outputId": "a1208e90-fd51-4c80-e74a-63577e7a1925"
   },
   "outputs": [
    {
     "data": {
      "text/plain": [
       "(0.96, 0.96)"
      ]
     },
     "execution_count": 3,
     "metadata": {},
     "output_type": "execute_result"
    }
   ],
   "source": [
    "softmax_reg.score(X, y), ovr_clf.score(X, y)"
   ]
  },
  {
   "cell_type": "code",
   "execution_count": 4,
   "metadata": {
    "colab": {
     "base_uri": "https://localhost:8080/"
    },
    "executionInfo": {
     "elapsed": 534,
     "status": "ok",
     "timestamp": 1664936500571,
     "user": {
      "displayName": "Yongjin Jeong",
      "userId": "03658406798560557048"
     },
     "user_tz": -540
    },
    "id": "OcEMKEdPVjFb",
    "outputId": "3c5543c7-b530-4671-e06a-8c8573fc3ab2"
   },
   "outputs": [
    {
     "data": {
      "text/plain": [
       "(array([[-4.58614563, -2.24129385],\n",
       "        [ 0.16068263, -2.15860167],\n",
       "        [ 4.425463  ,  4.39989552]]),\n",
       " array([ 18.87514796,   6.3844344 , -25.25958236]))"
      ]
     },
     "execution_count": 4,
     "metadata": {},
     "output_type": "execute_result"
    }
   ],
   "source": [
    "softmax_reg.coef_, softmax_reg.intercept_"
   ]
  },
  {
   "cell_type": "code",
   "execution_count": 5,
   "metadata": {
    "colab": {
     "base_uri": "https://localhost:8080/"
    },
    "executionInfo": {
     "elapsed": 2,
     "status": "ok",
     "timestamp": 1664936501966,
     "user": {
      "displayName": "Yongjin Jeong",
      "userId": "03658406798560557048"
     },
     "user_tz": -540
    },
    "id": "4hpVX--iVmox",
    "outputId": "743bd9da-2650-4cde-8042-b63729f21da1"
   },
   "outputs": [
    {
     "data": {
      "text/plain": [
       "(array([[-4.10145565, -1.8601741 ],\n",
       "        [ 1.42847909, -2.83149429],\n",
       "        [ 4.42142146,  5.74004612]]),\n",
       " array([ 12.11411097,  -2.73490959, -31.06624834]))"
      ]
     },
     "execution_count": 5,
     "metadata": {},
     "output_type": "execute_result"
    }
   ],
   "source": [
    "ovr_clf.coef_, ovr_clf.intercept_"
   ]
  },
  {
   "cell_type": "markdown",
   "metadata": {
    "id": "YWnO_QE2GXjd"
   },
   "source": [
    "- softmax_reg"
   ]
  },
  {
   "cell_type": "code",
   "execution_count": 6,
   "metadata": {
    "colab": {
     "base_uri": "https://localhost:8080/",
     "height": 287
    },
    "executionInfo": {
     "elapsed": 846,
     "status": "ok",
     "timestamp": 1664936506551,
     "user": {
      "displayName": "Yongjin Jeong",
      "userId": "03658406798560557048"
     },
     "user_tz": -540
    },
    "id": "fJh-yKYhVqQy",
    "outputId": "dfeb4042-d0d3-4ae9-bc76-a215a9e30106"
   },
   "outputs": [
    {
     "data": {
      "image/png": "[encoded data removed]",
      "text/plain": [
       "<Figure size 720x288 with 1 Axes>"
      ]
     },
     "metadata": {
      "needs_background": "light"
     },
     "output_type": "display_data"
    }
   ],
   "source": [
    "x0, x1 = np.meshgrid(\n",
    "        np.linspace(0, 8, 500).reshape(-1, 1),\n",
    "        np.linspace(0, 3.5, 200).reshape(-1, 1),\n",
    "    )\n",
    "X_new = np.c_[x0.ravel(), x1.ravel()]\n",
    "\n",
    "y_proba = softmax_reg.predict_proba(X_new)\n",
    "y_predict = softmax_reg.predict(X_new)\n",
    "\n",
    "zz1 = y_proba[:, 2].reshape(x0.shape)    # probability (class=2)\n",
    "zz = y_predict.reshape(x0.shape)\n",
    "\n",
    "plt.figure(figsize=(10, 4))\n",
    "plt.plot(X[y==0, 0], X[y==0, 1], \"yo\", label=\"Iris setosa\")     # class 0\n",
    "plt.plot(X[y==1, 0], X[y==1, 1], \"bs\", label=\"Iris versicolor\") # class 1\n",
    "plt.plot(X[y==2, 0], X[y==2, 1], \"g^\", label=\"Iris virginica\")  # class 2\n",
    "\n",
    "from matplotlib.colors import ListedColormap\n",
    "custom_cmap = ListedColormap(['#fafab0','#9898ff','#a0faa0'])\n",
    "\n",
    "plt.contourf(x0, x1, zz, cmap=custom_cmap)\n",
    "contour = plt.contour(x0, x1, zz1, cmap=plt.cm.brg)\n",
    "plt.clabel(contour, fontsize=12)\n",
    "plt.xlabel(\"Petal length\", fontsize=14)\n",
    "plt.ylabel(\"Petal width\", fontsize=14)\n",
    "plt.legend(loc=\"center left\", fontsize=14)\n",
    "plt.axis([0, 7, 0, 3.5])\n",
    "\n",
    "plt.show()"
   ]
  },
  {
   "cell_type": "markdown",
   "metadata": {
    "id": "vLrfGnHdGUo8"
   },
   "source": [
    "- ovr_clf"
   ]
  },
  {
   "cell_type": "code",
   "execution_count": 7,
   "metadata": {
    "colab": {
     "base_uri": "https://localhost:8080/",
     "height": 287
    },
    "executionInfo": {
     "elapsed": 1237,
     "status": "ok",
     "timestamp": 1664936511005,
     "user": {
      "displayName": "Yongjin Jeong",
      "userId": "03658406798560557048"
     },
     "user_tz": -540
    },
    "id": "CFEx5gvfF2mm",
    "outputId": "d40ac4fb-200e-48f3-a700-2125a6692ab5"
   },
   "outputs": [
    {
     "data": {
      "image/png": "[encoded data removed]",
      "text/plain": [
       "<Figure size 720x288 with 1 Axes>"
      ]
     },
     "metadata": {
      "needs_background": "light"
     },
     "output_type": "display_data"
    }
   ],
   "source": [
    "x0, x1 = np.meshgrid(\n",
    "        np.linspace(0, 8, 500).reshape(-1, 1),\n",
    "        np.linspace(0, 3.5, 200).reshape(-1, 1),\n",
    "    )\n",
    "X_new = np.c_[x0.ravel(), x1.ravel()]\n",
    "\n",
    "y_proba = ovr_clf.predict_proba(X_new)\n",
    "y_predict = ovr_clf.predict(X_new)\n",
    "\n",
    "zz1 = y_proba[:, 2].reshape(x0.shape)\n",
    "zz = y_predict.reshape(x0.shape)\n",
    "\n",
    "plt.figure(figsize=(10, 4))\n",
    "plt.plot(X[y==0, 0], X[y==0, 1], \"yo\", label=\"Iris setosa\")\n",
    "plt.plot(X[y==1, 0], X[y==1, 1], \"bs\", label=\"Iris versicolor\")\n",
    "plt.plot(X[y==2, 0], X[y==2, 1], \"g^\", label=\"Iris virginica\")\n",
    "\n",
    "from matplotlib.colors import ListedColormap\n",
    "custom_cmap = ListedColormap(['#fafab0','#9898ff','#a0faa0'])\n",
    "\n",
    "plt.contourf(x0, x1, zz, cmap=custom_cmap)\n",
    "contour = plt.contour(x0, x1, zz1, cmap=plt.cm.brg)\n",
    "plt.clabel(contour, fontsize=12)\n",
    "plt.xlabel(\"Petal length\", fontsize=14)\n",
    "plt.ylabel(\"Petal width\", fontsize=14)\n",
    "plt.legend(loc=\"center left\", fontsize=14)\n",
    "plt.axis([0, 7, 0, 3.5])\n",
    "\n",
    "plt.show()"
   ]
  },
  {
   "cell_type": "code",
   "execution_count": 8,
   "metadata": {
    "colab": {
     "base_uri": "https://localhost:8080/"
    },
    "executionInfo": {
     "elapsed": 361,
     "status": "ok",
     "timestamp": 1664936515419,
     "user": {
      "displayName": "Yongjin Jeong",
      "userId": "03658406798560557048"
     },
     "user_tz": -540
    },
    "id": "09SsFjvpVxrd",
    "outputId": "f57102ee-0c3d-45de-dcde-26f1be9c7519"
   },
   "outputs": [
    {
     "data": {
      "text/plain": [
       "(array([1]), array([2]))"
      ]
     },
     "execution_count": 8,
     "metadata": {},
     "output_type": "execute_result"
    }
   ],
   "source": [
    "softmax_reg.predict([[3, 2.5]]), ovr_clf.predict([[3, 2.5]])"
   ]
  },
  {
   "cell_type": "code",
   "execution_count": 9,
   "metadata": {
    "colab": {
     "base_uri": "https://localhost:8080/"
    },
    "executionInfo": {
     "elapsed": 680,
     "status": "ok",
     "timestamp": 1664936516586,
     "user": {
      "displayName": "Yongjin Jeong",
      "userId": "03658406798560557048"
     },
     "user_tz": -540
    },
    "id": "dHv06XI6V0yd",
    "outputId": "36c2b532-1a93-4ad8-9154-f82de92205d1"
   },
   "outputs": [
    {
     "data": {
      "text/plain": [
       "(array([[0.1151685 , 0.81476356, 0.07006794]]),\n",
       " array([[0.18441794, 0.09309245, 0.7224896 ]]))"
      ]
     },
     "execution_count": 9,
     "metadata": {},
     "output_type": "execute_result"
    }
   ],
   "source": [
    "softmax_reg.predict_proba([[3, 2.5]]), ovr_clf.predict_proba([[3, 2.5]])"
   ]
  },
  {
   "cell_type": "markdown",
   "metadata": {
    "id": "rnmKcpW6V2yk"
   },
   "source": [
    "### four features\n",
    "- SGDClassifier(): it supports multi-class classification by combining multiple binary classifiers in a “one versus all” (OVA) scheme.\n",
    "- softmax classifier()"
   ]
  },
  {
   "cell_type": "code",
   "execution_count": null,
   "metadata": {
    "colab": {
     "base_uri": "https://localhost:8080/"
    },
    "executionInfo": {
     "elapsed": 359,
     "status": "ok",
     "timestamp": 1664875704915,
     "user": {
      "displayName": "Yongjin Jeong",
      "userId": "03658406798560557048"
     },
     "user_tz": -540
    },
    "id": "8VWIFodiV4hL",
    "outputId": "edf28279-af7c-453d-8ac2-813fecce2cda"
   },
   "outputs": [
    {
     "name": "stdout",
     "output_type": "stream",
     "text": [
      "Score:  0.7111111111111111\n"
     ]
    }
   ],
   "source": [
    "# SGDClassifier (ovr)\n",
    "iris = datasets.load_iris()\n",
    "X, y = iris.data, iris.target\n",
    "X_train, X_test, y_train, y_test = train_test_split(X, y, test_size=0.3)\n",
    "\n",
    "clf_all = SGDClassifier(max_iter=1000)   # supports ovr multi-classifier\n",
    "clf_all.fit(X_train, y_train)\n",
    "print(\"Score: \", clf_all.score(X_test, y_test))"
   ]
  },
  {
   "cell_type": "code",
   "execution_count": null,
   "metadata": {
    "colab": {
     "base_uri": "https://localhost:8080/"
    },
    "executionInfo": {
     "elapsed": 522,
     "status": "ok",
     "timestamp": 1664875577000,
     "user": {
      "displayName": "Yongjin Jeong",
      "userId": "03658406798560557048"
     },
     "user_tz": -540
    },
    "id": "6x9mInjzV9we",
    "outputId": "48e9dee8-672b-45d2-8d2d-88f715d66872"
   },
   "outputs": [
    {
     "data": {
      "text/plain": [
       "array([[14,  0,  0],\n",
       "       [ 0, 15,  0],\n",
       "       [ 0,  0, 16]])"
      ]
     },
     "execution_count": 264,
     "metadata": {},
     "output_type": "execute_result"
    }
   ],
   "source": [
    "from sklearn import metrics   \n",
    "\n",
    "y_pred = clf_all.predict(X_test)\n",
    "metrics.confusion_matrix(y_test, y_pred)"
   ]
  },
  {
   "cell_type": "code",
   "execution_count": null,
   "metadata": {
    "colab": {
     "base_uri": "https://localhost:8080/"
    },
    "executionInfo": {
     "elapsed": 371,
     "status": "ok",
     "timestamp": 1664875748240,
     "user": {
      "displayName": "Yongjin Jeong",
      "userId": "03658406798560557048"
     },
     "user_tz": -540
    },
    "id": "bYbhzPG-WCFt",
    "outputId": "4516e40c-518b-4769-c1dc-4c9b4613c1c2"
   },
   "outputs": [
    {
     "name": "stdout",
     "output_type": "stream",
     "text": [
      "[0.43333333 1.         0.7        0.76666667 0.86666667] 0.7533333333333333\n"
     ]
    }
   ],
   "source": [
    "cv = KFold(5,shuffle=True)\n",
    "scores = cross_val_score(clf_all, X, y, cv=cv)\n",
    "print(scores, scores.mean())\n",
    "# print(cross_val_score(SGDClassifier(), X, y, cv=cv))    # 거의 100%에 가까운 score "
   ]
  },
  {
   "cell_type": "code",
   "execution_count": null,
   "metadata": {
    "colab": {
     "base_uri": "https://localhost:8080/"
    },
    "executionInfo": {
     "elapsed": 338,
     "status": "ok",
     "timestamp": 1664875766793,
     "user": {
      "displayName": "Yongjin Jeong",
      "userId": "03658406798560557048"
     },
     "user_tz": -540
    },
    "id": "tTDEpQsVaAAu",
    "outputId": "3d78ff03-6c25-4618-c5b6-8d8efaa1cf13"
   },
   "outputs": [
    {
     "data": {
      "text/plain": [
       "1.0"
      ]
     },
     "execution_count": 272,
     "metadata": {},
     "output_type": "execute_result"
    }
   ],
   "source": [
    "# Softmax classifier\n",
    "softmax_all = LogisticRegression(multi_class=\"multinomial\", C=10, random_state=42,\n",
    "                                 max_iter=2000)\n",
    "softmax_all.fit(X_train, y_train)\n",
    "softmax_all.score(X_test, y_test)"
   ]
  },
  {
   "cell_type": "code",
   "execution_count": null,
   "metadata": {
    "colab": {
     "base_uri": "https://localhost:8080/"
    },
    "executionInfo": {
     "elapsed": 425,
     "status": "ok",
     "timestamp": 1664875769817,
     "user": {
      "displayName": "Yongjin Jeong",
      "userId": "03658406798560557048"
     },
     "user_tz": -540
    },
    "id": "wkgas0vqazDZ",
    "outputId": "21505c88-148e-4c1a-bc56-954de3e06124"
   },
   "outputs": [
    {
     "data": {
      "text/plain": [
       "(array([0.93333333, 1.        , 0.96666667, 0.96666667, 0.96666667]),\n",
       " 0.9666666666666666)"
      ]
     },
     "execution_count": 273,
     "metadata": {},
     "output_type": "execute_result"
    }
   ],
   "source": [
    "cv = KFold(5,shuffle=True)\n",
    "scores = cross_val_score(softmax_all, X, y, cv=cv)\n",
    "scores, scores.mean()"
   ]
  },
  {
   "cell_type": "code",
   "execution_count": null,
   "metadata": {
    "colab": {
     "base_uri": "https://localhost:8080/"
    },
    "executionInfo": {
     "elapsed": 2,
     "status": "ok",
     "timestamp": 1664875771214,
     "user": {
      "displayName": "Yongjin Jeong",
      "userId": "03658406798560557048"
     },
     "user_tz": -540
    },
    "id": "SGRwjz9vaX5E",
    "outputId": "5b2b9cd2-8a4d-4984-f7e1-c0929e5d9d8c"
   },
   "outputs": [
    {
     "data": {
      "text/plain": [
       "0.9777777777777777"
      ]
     },
     "execution_count": 274,
     "metadata": {},
     "output_type": "execute_result"
    }
   ],
   "source": [
    "# OvR with LogisticRegression\n",
    "ovr_clf = LogisticRegression(multi_class=\"ovr\", C=10, random_state=42,\n",
    "                                 max_iter=2000)\n",
    "ovr_clf.fit(X_train, y_train)\n",
    "ovr_clf.score(X_test, y_test)"
   ]
  },
  {
   "cell_type": "code",
   "execution_count": null,
   "metadata": {
    "colab": {
     "base_uri": "https://localhost:8080/"
    },
    "executionInfo": {
     "elapsed": 508,
     "status": "ok",
     "timestamp": 1664875773371,
     "user": {
      "displayName": "Yongjin Jeong",
      "userId": "03658406798560557048"
     },
     "user_tz": -540
    },
    "id": "PuFqFUbybGJQ",
    "outputId": "43032446-a760-4a37-8173-a67ba38e5f9f"
   },
   "outputs": [
    {
     "data": {
      "text/plain": [
       "(array([1.        , 1.        , 0.86666667, 0.93333333, 0.96666667]),\n",
       " 0.9533333333333334)"
      ]
     },
     "execution_count": 275,
     "metadata": {},
     "output_type": "execute_result"
    }
   ],
   "source": [
    "cv = KFold(5,shuffle=True)\n",
    "scores = cross_val_score(ovr_clf, X, y, cv=cv)\n",
    "scores, scores.mean()"
   ]
  },
  {
   "cell_type": "markdown",
   "metadata": {
    "id": "WqsrJocLT011"
   },
   "source": [
    "# Exercise"
   ]
  },
  {
   "cell_type": "code",
   "execution_count": null,
   "metadata": {
    "colab": {
     "base_uri": "https://localhost:8080/"
    },
    "executionInfo": {
     "elapsed": 23,
     "status": "ok",
     "timestamp": 1664873629841,
     "user": {
      "displayName": "Yongjin Jeong",
      "userId": "03658406798560557048"
     },
     "user_tz": -540
    },
    "id": "com8_8lUVEAl",
    "outputId": "5dc72adf-5103-4d91-c35a-08f2dcbe7dde"
   },
   "outputs": [
    {
     "name": "stdout",
     "output_type": "stream",
     "text": [
      "[0.045 0.074 0.333 0.548]\n"
     ]
    }
   ],
   "source": [
    "# Softmax\n",
    "score = [-1, -0.5, 1.0, 1.5]\n",
    "\n",
    "prob = []\n",
    "sum = 0\n",
    "for i in range(len(score)):\n",
    "    prob.append(np.exp(score[i]))\n",
    "    sum = sum + np.exp(score[i])\n",
    "\n",
    "prob = prob/sum\n",
    "print(prob.round(3))"
   ]
  },
  {
   "cell_type": "code",
   "execution_count": null,
   "metadata": {
    "colab": {
     "base_uri": "https://localhost:8080/"
    },
    "executionInfo": {
     "elapsed": 20,
     "status": "ok",
     "timestamp": 1664873629841,
     "user": {
      "displayName": "Yongjin Jeong",
      "userId": "03658406798560557048"
     },
     "user_tz": -540
    },
    "id": "eKku_edNdMfV",
    "outputId": "04be60d5-9ddf-431f-acbf-9f3863c230e0"
   },
   "outputs": [
    {
     "data": {
      "text/plain": [
       "array([0.04500395, 0.07419897, 0.33253672, 0.54826036])"
      ]
     },
     "execution_count": 224,
     "metadata": {},
     "output_type": "execute_result"
    }
   ],
   "source": [
    "np.exp(score)/np.exp(score).sum()"
   ]
  },
  {
   "cell_type": "code",
   "execution_count": null,
   "metadata": {
    "colab": {
     "base_uri": "https://localhost:8080/"
    },
    "executionInfo": {
     "elapsed": 18,
     "status": "ok",
     "timestamp": 1664873629842,
     "user": {
      "displayName": "Yongjin Jeong",
      "userId": "03658406798560557048"
     },
     "user_tz": -540
    },
    "id": "8BQ_PhDvcx3U",
    "outputId": "68f98a65-dec8-4edb-b5d4-12b51b92be23"
   },
   "outputs": [
    {
     "data": {
      "text/plain": [
       "array([0.04500395, 0.07419897, 0.33253672, 0.54826036])"
      ]
     },
     "execution_count": 225,
     "metadata": {},
     "output_type": "execute_result"
    }
   ],
   "source": [
    "from scipy.special import softmax\n",
    "softmax(score)"
   ]
  },
  {
   "cell_type": "code",
   "execution_count": null,
   "metadata": {
    "colab": {
     "base_uri": "https://localhost:8080/"
    },
    "executionInfo": {
     "elapsed": 415,
     "status": "ok",
     "timestamp": 1664873630241,
     "user": {
      "displayName": "Yongjin Jeong",
      "userId": "03658406798560557048"
     },
     "user_tz": -540
    },
    "id": "rf-ZaE3HTzxc",
    "outputId": "85fea74a-118a-4766-b171-aee4b13b217c"
   },
   "outputs": [
    {
     "name": "stdout",
     "output_type": "stream",
     "text": [
      "   1    1    1\n",
      "   2    4    8\n",
      "   3    9   27\n",
      "   4   16   64\n",
      "   5   25  125\n",
      "   6   36  216\n",
      "   7   49  343\n",
      "   8   64  512\n",
      "   9   81  729\n",
      "  10  100 1000\n"
     ]
    }
   ],
   "source": [
    "# print 연습\n",
    "for x in range(1, 11):\n",
    "    print('{0:4d} {2:4d} {1:4d}'.format(x, x*x*x, x*x))"
   ]
  },
  {
   "cell_type": "code",
   "execution_count": null,
   "metadata": {
    "colab": {
     "base_uri": "https://localhost:8080/",
     "height": 282
    },
    "executionInfo": {
     "elapsed": 409,
     "status": "ok",
     "timestamp": 1664875533427,
     "user": {
      "displayName": "Yongjin Jeong",
      "userId": "03658406798560557048"
     },
     "user_tz": -540
    },
    "id": "c2cAjzpJWFRF",
    "outputId": "34bf4945-bbd0-423d-812a-af48046d313a"
   },
   "outputs": [
    {
     "data": {
      "text/plain": [
       "<matplotlib.collections.PathCollection at 0x7ffb9809bed0>"
      ]
     },
     "execution_count": 261,
     "metadata": {},
     "output_type": "execute_result"
    },
    {
     "data": {
      "image/png": "[encoded data removed]",
      "text/plain": [
       "<Figure size 432x288 with 1 Axes>"
      ]
     },
     "metadata": {
      "image/png": {
       "height": 248,
       "width": 372
      },
      "needs_background": "light"
     },
     "output_type": "display_data"
    }
   ],
   "source": [
    "# meshgrid()\n",
    "x0, x1 = np.meshgrid(\n",
    "        np.linspace(0, 1, 10).reshape(-1, 1),\n",
    "        np.linspace(0, 1, 10).reshape(-1, 1),\n",
    "    )\n",
    "X_new = np.c_[x0.ravel(), x1.ravel()]\n",
    "plt.scatter(X_new[:,0], X_new[:,1])"
   ]
  }
 ],
 "metadata": {
  "colab": {
   "collapsed_sections": [],
   "provenance": [],
   "toc_visible": true
  },
  "kernelspec": {
   "display_name": "Python 3 (ipykernel)",
   "language": "python",
   "name": "python3"
  },
  "language_info": {
   "codemirror_mode": {
    "name": "ipython",
    "version": 3
   },
   "file_extension": ".py",
   "mimetype": "text/x-python",
   "name": "python",
   "nbconvert_exporter": "python",
   "pygments_lexer": "ipython3",
   "version": "3.6.8"
  }
 },
 "nbformat": 4,
 "nbformat_minor": 1
}
